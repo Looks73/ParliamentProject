{
 "cells": [
  {
   "cell_type": "code",
   "execution_count": 1,
   "id": "eef743d2",
   "metadata": {
    "ExecuteTime": {
     "end_time": "2022-01-11T13:41:07.685439Z",
     "start_time": "2022-01-11T13:41:06.890969Z"
    }
   },
   "outputs": [],
   "source": [
    "import pandas as pd\n",
    "import numpy as np\n",
    "import xml.etree.ElementTree as et\n",
    "import os"
   ]
  },
  {
   "cell_type": "code",
   "execution_count": 2,
   "id": "46f5fa9d",
   "metadata": {
    "ExecuteTime": {
     "end_time": "2022-01-07T19:40:31.670184Z",
     "start_time": "2022-01-07T19:40:31.624302Z"
    }
   },
   "outputs": [
    {
     "data": {
      "text/plain": [
       "<Element '{http://schemas.assemblee-nationale.fr/referentiel}compteRendu' at 0x10e73d4a0>"
      ]
     },
     "execution_count": 2,
     "metadata": {},
     "output_type": "execute_result"
    }
   ],
   "source": [
    "tree=et.parse('data/xml/compteRendu/CRSANR5L15S2021E1N002.xml')\n",
    "root = tree.getroot()\n",
    "root"
   ]
  },
  {
   "cell_type": "code",
   "execution_count": 3,
   "id": "46cd602f",
   "metadata": {
    "ExecuteTime": {
     "end_time": "2022-01-07T19:40:34.848043Z",
     "start_time": "2022-01-07T19:40:34.842422Z"
    }
   },
   "outputs": [],
   "source": [
    "nom = []\n",
    "texte = []"
   ]
  },
  {
   "cell_type": "code",
   "execution_count": 4,
   "id": "306e5757",
   "metadata": {
    "ExecuteTime": {
     "end_time": "2022-01-07T19:40:36.488811Z",
     "start_time": "2022-01-07T19:40:36.478611Z"
    }
   },
   "outputs": [],
   "source": [
    "n=0\n",
    "for child in root.iter():\n",
    "    if child.tag == '{http://schemas.assemblee-nationale.fr/referentiel}paragraphe':\n",
    "        for littlechild in child.iter():\n",
    "            if littlechild.tag == '{http://schemas.assemblee-nationale.fr/referentiel}nom':\n",
    "                nom.append(littlechild.text)\n",
    "                n += 1\n",
    "            elif littlechild.tag == '{http://schemas.assemblee-nationale.fr/referentiel}texte' and child.text != None and len(texte) == n-1:\n",
    "                texte.append(littlechild.text)"
   ]
  },
  {
   "cell_type": "code",
   "execution_count": 5,
   "id": "e8602d9c",
   "metadata": {
    "ExecuteTime": {
     "end_time": "2022-01-07T19:40:38.197702Z",
     "start_time": "2022-01-07T19:40:38.156249Z"
    }
   },
   "outputs": [
    {
     "data": {
      "text/plain": [
       "227"
      ]
     },
     "execution_count": 5,
     "metadata": {},
     "output_type": "execute_result"
    }
   ],
   "source": [
    "len(nom)"
   ]
  },
  {
   "cell_type": "code",
   "execution_count": 6,
   "id": "b35a9740",
   "metadata": {
    "ExecuteTime": {
     "end_time": "2022-01-07T19:40:39.578125Z",
     "start_time": "2022-01-07T19:40:39.569722Z"
    }
   },
   "outputs": [
    {
     "data": {
      "text/plain": [
       "227"
      ]
     },
     "execution_count": 6,
     "metadata": {},
     "output_type": "execute_result"
    }
   ],
   "source": [
    "len(texte)"
   ]
  },
  {
   "cell_type": "code",
   "execution_count": 7,
   "id": "984fec9d",
   "metadata": {
    "ExecuteTime": {
     "end_time": "2022-01-07T19:40:41.028228Z",
     "start_time": "2022-01-07T19:40:41.010357Z"
    }
   },
   "outputs": [
    {
     "name": "stdout",
     "output_type": "stream",
     "text": [
      "Mme la présidente : La séance est ouverte.\n",
      "Mme la présidente : Le président de l’Assemblée nationale a reçu de M. Serge Letchimy, député de la troisième circonscription de la Martinique, une lettre l’informant qu’il se démettait de son mandat de député. Acte est donné de cette démission, qui sera notifiée au Premier ministre.\n",
      "Mme la présidente : L’ordre du jour appelle la suite de la discussion, en nouvelle lecture, du projet de loi confortant le respect des principes de la République et de lutte contre le séparatisme (n\n",
      "Mme la présidente : Ce matin, l’Assemblée a poursuivi la discussion des articles du projet de loi, s’arrêtant à l’article 25 \n",
      "Mme la présidente : La parole est à Mme Marie-George Buffet, pour soutenir l’amendement n\n",
      "Mme Marie-George Buffet : L’article 25 \n",
      "Mme la présidente : La parole est à Mme Anne Brugnera, rapporteure de la commission spéciale, pour donner l’avis de la commission.\n",
      "Mme Anne Brugnera : Défavorable. L’article 25 \n",
      "Mme Marie-George Buffet : Lesquels ?\n",
      "Mme Anne Brugnera : …en cohérence avec les nouvelles obligations des associations et fédérations avec lesquelles ils travailleront. Nous souhaitons donc le conserver.\n",
      "Mme la présidente : La parole est à Mme la ministre déléguée chargée des sports, pour donner l’avis du Gouvernement.\n",
      "Mme Roxana Maracineanu : Il est vrai que l’ANS compte l’État parmi ses membres fondateurs – par l’intermédiaire de plusieurs ministères, dont celui chargé des sports. Mais même si elle est un opérateur de l’État liée par une convention avec mon ministère, elle reste un groupement d’intérêt public et doit à ce titre s’engager, lorsqu’elle distribue les subventions aux fédérations, à le faire dans le cadre du contrat d’engagement républicain et dans le respect des principes de la République, auxquels elle se trouve donc elle-même soumise. Aux termes de l’article 25 \n",
      "Mme la présidente : Les amendements n\n",
      "Mme la présidente : L’amendement n\n",
      "Mme la présidente : L’amendement n\n",
      "M. Florent Boudié : Il est défavorable.\n",
      "Mme la présidente : La parole est à Mme la ministre déléguée.\n",
      "Mme Roxana Maracineanu : Mme Schiappa doit me remplacer d’ici quelques instants.\n",
      "Mme la présidente : La parole est à Mme la ministre déléguée chargée de la citoyenneté, pour donner l’avis du Gouvernement sur l’amendement n\n",
      "Mme Marlène Schiappa : Il est défavorable.\n",
      "Mme la présidente : Les amendements n\n",
      "Mme la présidente : La parole est à M. Alexis Corbière, pour soutenir l’amendement n\n",
      "M. Alexis Corbière : Il vise à supprimer l’alinéa 5 de l’article 26, présenté comme un dispositif « anti-putsch ».\n",
      "M. Florent Boudié : Tout à fait !\n",
      "M. Alexis Corbière : J’irai à l’essentiel pour respecter le rythme, désormais rapide, de nos débats.\n",
      "M. Florent Boudié : Si, si !\n",
      "M. Alexis Corbière : Je crois avoir déjà échangé sur le sujet avec M. le rapporteur général : les associations dites diocésaines, qui organisent le culte catholique depuis qu’un accord a été trouvé sur la question – en 1905, le Vatican avait initialement refusé – ne fonctionnent pas avec des conseils d’administration démocratiques dans lesquels l’ensemble des fidèles auraient la possibilité d’éviter des coups de force.\n",
      "M. Florent Boudié : Si, si !\n",
      "M. Alexis Corbière : On peut bien sûr estimer qu’il existe un danger lié à la présence de courants intégristes au sein de certaines associations. Mais si ceux-ci doivent être surveillés, ils doivent l’être par les moyens des pouvoirs publics, y compris par la police s’ils menacent l’ordre public ou préparent un attentat par exemple. Toutes les études et toutes les auditions que nous avons menées démontrent que ces « putschs » sont en réalité très limités. Certains lieux cultuels sont effectivement entre les mains de courants particulièrement rigoristes, mais cela vaut pour tous les cultes. À quelques centaines de mètres d’ici, une église située à proximité de la Maison de la Mutualité est tenue depuis des années par un courant de l’Église catholique, la Fraternité Saint-Pie X, sans qu’il n’y ait jamais été mis bon ordre, malgré la volonté de la mairie de Paris. Ne découvrons donc pas des phénomènes qui existent déjà !\n",
      "Mme la présidente : Quel est l’avis de la commission ?\n",
      "M. Florent Boudié : D’abord, il n’est pas exact d’affirmer que seul le culte musulman serait concerné par des dispositions du type de celles de l’article 26. Ce n’est pas du tout le cas. Les associations diocésaines obéissent ainsi à des statuts types qui les obligent, par exemple, à soumettre certaines décisions à leur assemblée générale. L’article 26 n’est donc pas ciblé exclusivement sur un seul culte.\n",
      "Mme la présidente : Les amendements n\n",
      "Mme la présidente : Les amendements n\n",
      "Mme la présidente : L’amendement n\n",
      "Mme la présidente : La parole est à M. Stéphane Peu, pour soutenir l’amendement de suppression n\n",
      "M. Stéphane Peu : Le projet de loi comporte des dispositions intéressantes en matière d’exercice du culte. Ainsi, nous nous félicitons que la constitution d’associations régies par la loi de 1905 soit encouragée car elles sont trop peu nombreuses aujourd’hui. En revanche, nous nous étonnons de la possibilité donnée aux associations cultuelles de posséder et d’administrer des immeubles de rapport tant elle nous semble éloignée de l’esprit et de la lettre de la loi de 1905.\n",
      "Mme la présidente : Quel est l’avis de la commission ?\n",
      "M. Florent Boudié : Je reprends quelques arguments importants que j’ai déjà évoqués dans les débats précédents.\n",
      "Mme la présidente : La parole est à M. Alexis Corbière, pour soutenir l’amendement n\n",
      "M. Alexis Corbière : Je suis désolé de revenir sur un sujet que nous avons déjà abondamment évoqué mais il est important. Nos discussions ne se limitent pas au cercle parlementaire, elles s’adressent aussi à ceux qui suivent les débats. Je réitère mon désaccord avec la possibilité donnée aux associations cultuelles de gérer des immeubles de rapport.\n",
      "Mme la présidente : Quel est l’avis de la commission ?\n",
      "M. Florent Boudié : Vous avez remarqué, mon cher collègue Corbière, que nous n’avons pas demandé le plafonnement des ressources tirées de la vente des cierges\n",
      "M. Alexis Corbière : La question s’est posée en 1905 !\n",
      "M. Florent Boudié : Selon vous, nous nous détournons de l’esprit de la loi de 1905 puisque les associations, désormais autorisées à posséder et à administrer des biens, n’auraient plus un but exclusivement cultuel. Mais bien sûr que si : les ressources tirées des biens ne pourront être affectées qu’à l’objet exclusif du culte et absolument rien d’autre. L’esprit de la loi de 1905 me semble parfaitement respecté en l’occurrence.\n",
      "Mme la présidente : La parole est à M. François de Rugy, président de la commission spéciale.\n",
      "M. François de Rugy : Le débat est récurrent, et c’est normal, puisque l’article consacre une évolution du cadre juridique du financement des associations cultuelles, donc des religions.\n",
      "M. Alexis Corbière : Les religions ne sont pas demandeuses !\n",
      "M. François Pupponi : Si !\n",
      "Mme la présidente : Quel est l’avis du Gouvernement ?\n",
      "Mme Marlène Schiappa : Je n’ai rien à ajouter à ces brillantes explications, madame la présidente.\n",
      "Mme la présidente : La parole est à M. Alexis Corbière.\n",
      "M. Alexis Corbière : Le débat est vraiment intéressant mais aucun des cultes, sauf le culte musulman dont je dirai un mot ensuite, n’a considéré que sa situation financière était difficile au point d’empêcher son bon exercice.\n",
      "Mme la présidente : La parole est à M. François Pupponi.\n",
      "M. François Pupponi : J’ai un petit désaccord avec notre collègue Corbière car tous les représentants des cultes que nous avons reçus ont dit être favorables à de nouvelles sources pour répondre à leurs problèmes financiers, que la crise du covid est venue aggraver. Ils ont d’ailleurs insisté sur la nécessité d’augmenter la déductibilité des dons au culte, mesure qui a été votée dans le cadre du projet de loi de finances rectificative.\n",
      "Mme la présidente : L’amendement n\n",
      "Mme la présidente : La parole est à M. Alexis Corbière, pour soutenir l’amendement n\n",
      "M. Alexis Corbière : L’une des modifications de la loi de 1905 est intervenue par la loi du 25 décembre 1942, sous le régime de Vichy, donc. Elle a ouvert le financement de la réparation des lieux de culte, « qu’ils soient ou non classés monuments historiques ». Ce faisant, elle a permis d’aller plus loin que la loi de 1905, qui prévoyait que les communes prendraient en charge l’entretien – le clos et le couvert, comme on dit –, des seuls édifices déjà construits au moment de sa promulgation. Nous voulons revenir à l’esprit de cette loi et supprimer les mots « qu’ils soient ou non » afin de limiter les inégalités et les disparités nées de cette modification et de restreindre, disons-le aussi, une forme de clientélisme dans certaines communes.\n",
      "Mme la présidente : Quel est l’avis de la commission ?\n",
      "M. Florent Boudié : Nous avons eu, monsieur Corbière, ce débat avec votre collègue Éric Coquerel en commission spéciale. Il est vrai qu’il existe dans notre droit un très grand nombre de mesures et de normes issues du régime de Vichy dont certaines ont été perpétuées à partir de 1944 par le Gouvernement provisoire de la République française, dont on ne peut pas soupçonner les membres d’avoir entretenu des sympathies idéologiques avec le régime de Vichy – je pense en particulier à Léon Blum, président du dernier gouvernement provisoire.\n",
      "Mme la présidente : Quel est l’avis du Gouvernement ?\n",
      "Mme Marlène Schiappa : Même avis.\n",
      "Mme la présidente : L’amendement n\n",
      "Mme la présidente : L’amendement n\n",
      "Mme la présidente : Je suis saisie de deux amendements identiques, n\n",
      "Mme Marlène Schiappa : Cet amendement rédactionnel supprime la référence à l’article 19-4.\n",
      "Mme la présidente : La parole est à M. le rapporteur général, pour soutenir l’amendement n\n",
      "M. Florent Boudié : Il est identique.\n",
      "Mme la présidente : La parole est à Mme la ministre déléguée, pour soutenir l’amendement n\n",
      "Mme Marlène Schiappa : Il s’agit de ne plus soumettre les associations mixtes à l’obligation consistant à tenir un état inventorié de leurs biens meubles et immeubles. Le Gouvernement a en effet considéré, s’agissant d’associations qui organisent d’autres activités que l’exercice du culte, qu’une telle disposition pouvait constituer une atteinte excessive et injustifiée à la liberté d’association et présentait un risque constitutionnel. Elle contraindrait ces associations à inventorier des biens qui ne sont pas utilisés pour l’exercice du culte.\n",
      "Mme la présidente : La parole est à Mme la ministre déléguée, pour soutenir l’amendement n\n",
      "Mme Marlène Schiappa : Par souci de transparence financière et de protection, nous voulons faire en sorte que le donateur ait la possibilité de vérifier que son don est utilisé conformément à l’objectif affiché par l’auteur de l’appel public à la générosité (APG). En effet, avec le développement des cagnottes en ligne, les APG sont devenus un mode courant de financement du culte. Il convient de s’assurer que les dons servent bien à financer le culte. Nous proposons donc d’imposer aux associations mixtes l’obligation d’établir un compte d’emploi des ressources collectées par les appels publics à la générosité destinés à soutenir le culte.\n",
      "Mme la présidente : L’amendement n\n",
      "Mme la présidente : La parole est à M. Éric Diard, pour soutenir l’amendement n\n",
      "M. Éric Diard : Cet amendement vise à limiter les influences étrangères sur les associations mixtes en empêchant ces dernières d’aliéner leurs biens immobiliers à des personnes morales ou États étrangers ainsi qu’aux personnes physiques non-résidentes en France.\n",
      "Mme la présidente : Quel est l’avis de la commission ?\n",
      "M. Florent Boudié : Nous répondons, monsieur Diard, à la préoccupation que vous exprimez par l’article 36 \n",
      "Mme la présidente : Je vous rappelle que l’article 31 est réservé à la demande du Gouvernement.\n",
      "Mme la présidente : L’amendement n\n",
      "Mme la présidente : La parole est à Mme la ministre déléguée, pour soutenir l’amendement n\n",
      "Mme Marlène Schiappa : Il s’agit de préciser le droit d’agir des personnes ayant un intérêt à le faire, par référence au code de procédure civile. Cet amendement ne change pas le sens de la disposition, mais apporte une précision demandée par les représentants des cultes, qui tenaient à s’assurer que l’élargissement au préfet et au procureur de l’intérêt à agir devant le juge civil n’aurait pas pour effet d’ouvrir cette possibilité à n’importe quel autre requérant.\n",
      "Mme la présidente : Quel est l’avis de la commission ?\n",
      "M. Florent Boudié : Mme la ministre déléguée a défendu l’amendement n\n",
      "Mme la présidente : La parole est à Mme la ministre déléguée, pour soutenir l’amendement n\n",
      "Mme Marlène Schiappa : Il s’agit d’un amendement de précision.\n",
      "Mme la présidente : La parole est à Mme la ministre déléguée, pour soutenir l’amendement n\n",
      "Mme Marlène Schiappa : Comme M. le rapporteur général l’a fait remarquer très justement, je viens de le défendre, voulant aller plus vite que la musique. Il a d’ailleurs donné un avis favorable.\n",
      "Mme la présidente : Je suis saisie de deux amendements, n\n",
      "M. Florent Boudié : Défavorable.\n",
      "Mme la présidente : Quel est l’avis du Gouvernement ?\n",
      "Mme Marlène Schiappa : Je suis navrée de devoir donner un avis défavorable, madame la présidente.\n",
      "Mme la présidente : Je le regrette, mais je m’y attendais.\n",
      "Mme la présidente : L’amendement n\n",
      "Mme la présidente : L’amendement n\n",
      "Mme la présidente : Je suis saisie de deux amendements, n\n",
      "M. Sacha Houlié : Il vise à préciser le dispositif en mentionnant que la provocation ou la commission de l’infraction dont se rend coupable le ministre du culte doit être directe. Il s’agit de conserver la qualification actuelle prévue dans la loi de 1905 qui exige une provocation directe, exigence qui figure également à l’article 24 de la loi sur la liberté de la presse de 1881 dont s’inspire le dispositif de l’article 39 que nous nous apprêtons à adopter.\n",
      "Mme la présidente : Quel est l’avis du Gouvernement ?\n",
      "Mme Marlène Schiappa : Concernant l’amendement de Mme Ménard, je m’en remets à la sagesse de l’assemblée, et j’émets un avis favorable à l’amendement du rapporteur.\n",
      "Mme la présidente : Madame Ménard, maintenez-vous votre amendement ?\n",
      "Mme Emmanuelle Ménard : Oui, madame la présidente.\n",
      "Mme la présidente : L’amendement n\n",
      "M. Stéphane Peu : Qui l’a défendu ?\n",
      "Mme la présidente : C’est moi, puisque je suis cosignataire. Je vous assure qu’il n’y a pas eu d’abus de pouvoir de ma part. \n",
      "Mme la présidente : L’amendement n\n",
      "Mme la présidente : L’amendement n\n",
      "Mme la présidente : L’amendement n\n",
      "M. Sacha Houlié : Je vais dire quelques mots car nous passons très rapidement sur des dispositions essentielles du projet de loi : les articles 33 à 36 concernent le contrôle du financement des cultes en France et les articles que nous examinons depuis l’article 37 traitent de la police des cultes. Or cette police des cultes sera rénovée soit grâce au contrôle, dans le cadre de l’opposition aux financements émanant de l’étranger, soit dans la manière dont les infractions particulières seront déterminées – c’est l’objet de l’article 39 –, soit par l’interdiction d’administrer ou de diriger une association cultuelle – objet de l’article 43 – ou encore par la possibilité de fermer des lieux de culte. Il s’agit de dispositions nouvelles par rapport à la loi de 1905, qui sont particulièrement importantes.\n",
      "Mme la présidente : Quel est l’avis du Gouvernement ?\n",
      "M. François Pupponi : Défavorable !\n",
      "Mme Marlène Schiappa : Même avis.\n",
      "Mme la présidente : La parole est à M. le rapporteur, pour soutenir l’amendement n\n",
      "M. Sacha Houlié : Il vise en effet à supprimer cet article car l’interdiction d’exercer certaines fonctions dans des établissements relevant du code de l’action sociale et des familles – même si elle est justifiée – n’a pas sa place dans cette partie consacrée à la police des cultes. Il s’agit d’un cavalier législatif. Nous aurons l’occasion d’examiner cette disposition dans un autre texte, qui traite de la protection de l’enfance. C’est pourquoi je souhaite la supprimer, ainsi que la disposition que nous examinerons ensuite à l’article 43 \n",
      "Mme la présidente : Quel est l’avis du Gouvernement ?\n",
      "Mme Marlène Schiappa : Avis favorable.\n",
      "Mme la présidente : L’amendement n\n",
      "Mme la présidente : La parole est à M. Stéphane Peu, pour soutenir l’amendement n\n",
      "M. Stéphane Peu : Il s’agit d’un amendement de suppression car nous ne souhaitons pas modifier la loi de 1905 et permettre au préfet de prononcer la fermeture administrative temporaire des lieux de culte dans lesquels les propos qui sont tenus, les idées ou théories qui sont diffusées ou les activités qui s’y déroulent provoquent ou tendent à justifier la haine ou la violence envers les personnes. L’article prévoit en outre que les locaux dépendant du lieu de culte puissent également être fermés.\n",
      "Mme la présidente : Quel est l’avis de la commission ?\n",
      "M. Sacha Houlié : Nous avons eu ce débat en commission spéciale, mais dans une autre tonalité, à l’occasion d’un amendement déposé par M. Ciotti : ce dernier proposait même d’aggraver la mesure, pour l’aligner quasiment avec la disposition du code de sécurité intérieure, dont vous avez souligné qu’elle avait été créée par la loi SILT de 2007, et qu’elle serait pérennisée dans la loi relative à la prévention d’actes de terrorisme et au renseignement, qui devrait être adoptée prochainement.\n",
      "Mme la présidente : Les amendements n\n",
      "Mme la présidente : Je suis saisie de trois amendements, n\n",
      "M. Sacha Houlié : Ils visent à revoir la durée de fermeture éventuelle des lieux de culte, pour la porter soit à six mois, soit à un an – soit une durée bien plus longue que celle prévue à l’article 44. J’ai déjà expliqué pourquoi un allongement de cette durée présenterait un risque constitutionnel et contreviendrait aux principes de police administrative de proportionnalité et de nécessité de la sanction – qui structurent notre proposition. Au vu de l’analyse du Conseil d’État et de nos débats en commission spéciale et en séance aux différentes étapes de la navette, j’émets un avis défavorable à ces amendements, dont les dispositions ne franchiraient pas le cap du Conseil constitutionnel.\n",
      "Mme la présidente : L’amendement n\n",
      "Mme la présidente : La parole est à M. Éric Diard, pour soutenir l’amendement n\n",
      "M. Éric Diard : J’avais proposé un amendement similaire dans le cadre du projet de loi SILT, quand M. Gérard Collomb était ministre de l’intérieur. Il faut pouvoir, dans le cas où une mosquée où l’on prêche la haine serait fermée pendant deux mois, puis rouverte et devrait à nouveau être fermée parce que des prêches suscitant la haine et la violence se sont reproduits, proroger la fermeture administrative, sous le contrôle du juge administratif.\n",
      "Mme la présidente : Quel est l’avis de la commission ?\n",
      "M. Sacha Houlié : L’amendement est satisfait. Dans l’avis qu’il a rendu sur la disposition concernée, le Conseil d’État précise qu’en cas de fait nouveau, une nouvelle mesure de fermeture peut être prise pour une durée maximale de deux mois. Votre amendement ne précise pas cette nouvelle durée, ce qui présente un risque juridique. Pour ces raisons, mon avis est défavorable.\n",
      "Mme la présidente : Quel est l’avis du Gouvernement ?\n",
      "Mme Marlène Schiappa : Même avis, pour les mêmes raisons.\n",
      "Mme la présidente : L’amendement n\n",
      "Mme la présidente : La parole est à Mme la ministre déléguée, pour soutenir l’amendement n\n",
      "Mme Marlène Schiappa : Le Sénat a proposé un dispositif visant à assujettir les sites de cagnotte en ligne aux obligations de lutte contre le blanchiment de capitaux et le financement du terrorisme. Il assimile ces sites à des intermédiaires en financement participatif, soumis notamment à des obligations d’enregistrement, d’honorabilité et de compétence professionnelles des dirigeants, ou encore de protection des investisseurs. Ce dispositif nous semble aller dans le bon sens, mais n’est pas suffisamment complet pour atteindre son objectif, et prématuré par rapport aux travaux actuels liés à l’application prochaine du règlement européen relatif au financement participatif. Aussi l’article 46 \n",
      "Mme la présidente : L’amendement de précision n\n",
      "Mme la présidente : L’amendement de précision n\n",
      "Mme Marlène Schiappa : J’en demande le retrait ; défaut, mon avis sera défavorable.\n",
      "Mme la présidente : La parole est à Mme la ministre déléguée, pour soutenir l’amendement de suppression n\n",
      "Mme Marlène Schiappa : Il s’agit du corollaire de l’amendement n\n",
      "Mme la présidente : L’amendement n\n",
      "Mme la présidente : L’amendement n\n",
      "Mme la présidente : La parole est à M. le rapporteur, pour soutenir l’amendement n\n",
      "Mme la présidente : L’amendement n\n",
      "Mme la présidente : La parole est à Mme la ministre déléguée, pour soutenir l’amendement n\n",
      "Mme Marlène Schiappa : Il s’agit presque d’un amendement rédactionnel : à l’alinéa 2, nous proposons de substituer aux mots « pour des motifs tirés des relations internationales de la France ou de la défense de ses intérêts fondamentaux », les mots « afin de prévenir toute forme d’ingérence étrangère ou de protéger les intérêts fondamentaux de la nation ».\n",
      "Mme la présidente : La parole est à M. François Pupponi, pour soutenir le sous-amendement n\n",
      "M. François Pupponi : L’excellent amendement du Gouvernement reprend une proposition du Sénat. S’il va dans le bon sens, il présente une difficulté : les associations liées à des puissances étrangères, auxquelles le préfet aura interdit d’ouvrir une école hors contrat, pourront toujours ouvrir des centres culturels ou socioculturels où elles proposeront des activités éducatives s’apparentant à celles d’une école. Mon sous-amendement vise donc à élargir le champ de l’interdiction du préfet, afin d’empêcher les associations liées à des puissances étrangères, et mettant en péril l’intérêt de la nation, d’ouvrir ce type de structure.\n",
      "Mme la présidente : Quel est l’avis de la commission sur l’amendement n\n",
      "M. Sacha Houlié : Avis favorable sur l’amendement du Gouvernement et défavorable sur le sous-amendement.\n",
      "Mme la présidente : Quel est l’avis du Gouvernement sur le sous-amendement ?\n",
      "Mme Marlène Schiappa : Même avis, pour les mêmes motifs.\n",
      "Mme la présidente : La parole est à Mme la ministre déléguée, pour soutenir l’amendement n\n",
      "Mme Marlène Schiappa : Il vise à harmoniser les règles applicables en Alsace-Moselle avec les dispositions du projet, tout en préservant le droit local et le droit concordataire, en effectuant une coordination avec les articles précédents du présent texte.\n",
      "Mme la présidente : La parole est à M. le rapporteur général, pour soutenir les amendements n\n",
      "M. Florent Boudié : L’amendement n\n",
      "Mme la présidente : L’amendement n\n",
      "Mme la présidente : L’amendement n\n",
      "Mme la présidente : La parole est à Mme la ministre déléguée, pour soutenir l’amendement n\n",
      "Mme Marlène Schiappa : Amendement de cohérence.\n",
      "Mme la présidente : L’amendement n\n",
      "Mme la présidente : L’amendement n\n",
      "Mme la présidente : L’amendement n\n",
      "Mme la présidente : Les amendements n\n",
      "Mme la présidente : L’amendement n\n",
      "M. Florent Boudié : Madame la présidente, je suis désolée de vous dire que j’y suis défavorable.\n",
      "Mme la présidente : J’ai espéré jusqu’à la fin !\n",
      "Mme Marlène Schiappa : Même avis.\n",
      "Mme la présidente : Les amendements n\n",
      "Mme la présidente : Je suis saisie de deux amendements, n\n",
      "M. Julien Ravier : Comme c’est le dernier amendement, je vais le défendre.\n",
      "Mme Anne-Laure Blin : Très juste !\n",
      "Mme la présidente : Quel est l’avis de la commission sur ces amendements ?\n",
      "M. Florent Boudié : Il est bien normal qu’avant de terminer l’examen de ce texte, je prenne quelques instants pour répondre à M. Ravier.\n",
      "Mme Anne-Laure Blin : Elle était courageuse !\n",
      "M. Florent Boudié : …parce qu’il aurait manqué un mot dans son titre ?\n",
      "Mme Anne-Laure Blin : Non ! C’était également une loi courageuse !\n",
      "M. Florent Boudié : Comme cela a été dit à plusieurs reprises, nous faisons des lois qui ont une portée générale et qui s’appliquent à tous, donc à toutes les formes de séparatisme. Par conséquent, nous préférons positionner ce texte de façon dynamique. Nous voulons conforter le respect des principes de la République. Nous ne visons personne en particulier, nous nous adressons à tous nos compatriotes en général. Alors que vous voulez voir dans ce titre, pour des raisons à la fois politiciennes et très opportunistes que je comprends, une forme de faiblesse, nous faisons au contraire la démonstration que nous gardons l’esprit froid. C’est une démonstration de force et de ténacité.\n",
      "M. Jean-Michel Fauvergue : Très bien !\n",
      "Mme la présidente : La parole est à M. le président de la commission spéciale.\n",
      "M. François de Rugy : Cet amendement de notre collègue Ravier nous donne l’occasion de redire, à la fin de la discussion, quel est le sens de ce projet de loi et quelle est notre démarche que vous mettez en cause depuis le début de la discussion. Certains députés du groupe Les Républicains – car votre amendement n’est pas signé par tout votre groupe – manifestent jusqu’au bout cette obsession de pointer du doigt l’islam en parlant de l’islamisme politique et radical.\n",
      "Mme Anne-Laure Blin : Cessez de caricaturer !\n",
      "M. François de Rugy : D’ailleurs, on voit bien que vous avez vous-même du mal à nommer les choses puisque vous êtes obligés de proposer plusieurs qualificatifs.\n",
      "Mme Anne-Laure Blin : Votre obsession, c’est la religion catholique. C’est ça, le problème !\n",
      "M. François de Rugy : Vous vous souvenez peut-être d’une affiche que les laïcs les plus virulents avaient fait imprimer à l’époque. On y lisait, avec la basilique du Sacré-Cœur en toile de fond, « Le cléricalisme, voilà l’ennemi ! » Ils ne parlaient pas du catholicisme mais du cléricalisme, c’est-à-dire de l’esprit clérical. En l’occurrence, la loi de 1905 n’était pas une loi contre le cléricalisme. Les législateurs de l’époque, pourtant républicains, laïcs, avaient eu la sagesse de prévoir une appellation de portée générale.\n",
      "Mme Anne-Laure Blin : Ça n’a rien à voir avec l’amendement !\n",
      "M. François de Rugy : Par ailleurs, ce texte vise à lutter contre différentes menaces dont l’islamisme radical et l’intégrisme religieux, mais – c’est une banalité – toutes les religions, comme des phénomènes qui ne sont pas religieux, peuvent produire des intégrismes entraînant des dérives antirépublicaines parfois violentes, à même de remettre en cause l’unité nationale.\n",
      "Mme la présidente : La parole est à M. Sacha Houlié.\n",
      "M. Sacha Houlié : Si ce texte peut laisser un goût amer dans la bouche de certains collègues, c’est aussi parce qu’ils se sont trompés en se focalisant sur l’accessoire plutôt que sur l’essentiel. Ce texte, en effet, permet bien de renforcer la protection des services publics et de tous les organismes ou institutions qui exercent une mission de service public, soit par contrat soit par l’effet de la loi, puisqu’il protège les agents du service public. Il permet une protection de la réserve héréditaire. Des dispositions très précises de ce texte protègent les personnes qui vivent sur le territoire national du harcèlement sur les réseaux sociaux, de toute influence communautariste ou de tout repli identitaire dans le domaine éducatif comme dans le domaine sportif.\n",
      "M. Julien Ravier : L’islam politique, c’est accessoire ?\n",
      "M. Sacha Houlié : …qui, outre qu’ils intéressent peu nos concitoyens…\n",
      "Mme Anne-Laure Blin : Allez donc voir sur le terrain si ça ne les intéresse pas !\n",
      "M. Sacha Houlié : …, ne demandent aucun courage mais font appel à d’autres ressorts qui sont ceux de la démagogie et du populisme. Si vous aviez voulu débattre de mesures vraiment utiles à l’intérêt général, nous aurions pu le faire plus longtemps, mais le travail que nous avons fait, d’abord en première lecture, ensuite en commission, où nous avons dû rétablir un texte qui soit acceptable et qui soit tout simplement constitutionnel et applicable, était tout à fait nécessaire. De ce point de vue, en permettant l’élaboration du texte que nous allons voter, la majorité a fait un excellent travail. Elle a fait en tout cas œuvre utile pour nos concitoyens.\n",
      "Mme la présidente : Sur l’ensemble du projet de loi, je suis saisie par le groupe de la Gauche démocrate et républicaine d’une demande de scrutin public.\n",
      "Mme la présidente : Dans les explications de vote, la parole est à Mme Lamia El Aaraje.\n",
      "Mme Lamia El Aaraje (SOC) : Le débat que nous nous apprêtons à conclure a été parfois passionné, parfois mesuré, mais finalement assez peu apaisé et rassembleur ; je le regrette. Je déplore en particulier qu’à cause de certains propos tenus dans cet hémicycle, des personnes ou des groupes de personnes se sont sentis stigmatisés, pointés du doigt. Je le déplore d’autant plus que nous avons déjà été durement éprouvés par des années qui ont été extrêmement difficiles, sur le plan moral comme économique – je pense que c’est un constat que nous partageons tous, ou alors nous ne vivons pas dans les mêmes territoires.\n",
      "Mme la présidente : La parole est à M. Pierre-Yves Bournazel.\n",
      "M. Pierre-Yves Bournazel (Agir ens) : Je commencerai par remercier le président de la commission spéciale, le rapporteur général, l’ensemble des rapporteurs et tous les membres de la commission spéciale pour leur engagement et pour le travail accompli depuis les premières auditions, il y a six mois.\n",
      "Mme la présidente : La parole est à M. Alexis Corbière.\n",
      "M. Alexis Corbière (FI) : Nous voilà au terme de l’examen parlementaire d’un texte que vous nous avez présenté comme tellement important que vous avez jugé opportun de le présenter un 9 décembre, en référence à la grande loi du 9 décembre 1905. Avec le recul, la comparaison n’est pas flatteuse pour vous : entre le grand texte d’émancipation de 1905, dont nous nous réclamons, et cette succession d’articles, il n’y a rien de commun.\n",
      "M. Bruno Millienne : Vous y avez un peu participé…\n",
      "M. Alexis Corbière : Non : c’est totalement absent de ce texte. Traduit-il la volonté de réparer ce que le Président de la République lui-même évoquait lorsqu’il disait : « nous avons fabriqué notre propre séparatisme », constatant que dans certains quartiers, les difficultés s’accumulaient, les services publics n’étaient plus présents, l’égalité républicaine n’était plus une réalité ? Rien de tout cela n’a été abordé, rien !\n",
      "M. Florent Boudié : Mais non !\n",
      "M. Alexis Corbière : Avez-vous considéré que, parce que la loi de 1905, dont vous ne cessez de parler, et la laïcité sont des acquis incontournables qui doivent être défendus, il était temps qu’elles s’appliquent sur l’ensemble du territoire et que cette aberration historique qu’est le concordat en Alsace-Moselle soit enfin abrogé ? Non ! Vous ne l’avez pas voulu, et vous avez même utilisé, pour empêcher son abrogation, des arguments particulièrement réactionnaires et à double tranchant – il m’a été répondu que c’était pour des raisons historiques que la laïcité ne devait pas s’appliquer dans trois territoires. Méfiez-vous de cet argument, qui sera demain retourné contre vous :…\n",
      "M. Bruno Millienne : On vous fait confiance !\n",
      "M. Alexis Corbière : …si, pour des raisons historiques, on ne respecte plus les lois de la République, chacun de vos propos et l’utilisation même du mot « laïcité » apparaîtront comme une manœuvre.\n",
      "Mme Anne-Laure Blin : Arrêtez la désinformation !\n",
      "M. Alexis Corbière : …affirmant que ces danses choquaient nos concitoyens, et qu’il fallait donc les interdire.\n",
      "Mme Anne-Laure Blin : Vous mentez !\n",
      "M. Alexis Corbière : Ne me dites pas que ce n’est pas vrai : cela a été dit !\n",
      "Mme Anne-Laure Blin : Non, nous parlions des drapeaux étrangers brandis dans les mairies !\n",
      "M. Alexis Corbière : Ici, dans le temple de la République, certains ont voulu interdire des manières de danser pour nos concitoyens !\n",
      "Mme Anne-Laure Blin : Relisez donc les comptes rendus des débats !\n",
      "M. Alexis Corbière : Voilà comment ce texte a rendu déraisonnables certains d’entre nous.\n",
      "Mme la présidente : La parole est à M. Stéphane Peu.\n",
      "M. Stéphane Peu (GDR) : Au terme de ces débats, ce texte, de notre point de vue, aura plutôt pour effet de malmener la laïcité, en tout cas dans l’esprit de la loi de 1905, et ne répondra en rien à la question du séparatisme, notamment du premier des séparatismes qu’est le séparatisme social.\n",
      "Mme la présidente : La parole est à Mme Fabienne Colboc.\n",
      "Mme Fabienne Colboc (LaREM) : Nous parvenons en effet à la fin de ce texte très important. Le résultat convient parfaitement au travail accompli en première lecture puis en commission, lorsque nous avons voulu rétablir les équilibres supprimés par nos collègues du Sénat. Ce texte répond très concrètement aux réalités et vise spécifiquement le terreau du terrorisme. Je me félicite que l’Assemblée nationale ne soit pas tombée dans le piège de la stigmatisation de nos concitoyens de confession musulmane, mais soit restée sur la ligne de conduite fixée par le Président de la République dans son discours des Mureaux, en votant un texte qui permet à chacun d’exercer librement sa foi dans un cadre plus protecteur.\n",
      "Mme la présidente : La parole est à M. Éric Diard.\n",
      "M. Éric Diard (LR) : Ce projet de loi était, pour le moins, attendu. Comme vous l’avez dit, Emmanuel Macron l’avait esquissé dans son discours de Mulhouse puis dans son discours des Mureaux. Cependant, comme on le craignait, entre les annonces et le texte, le compte n’y est pas.\n",
      "M. Florent Boudié : Du voile, dites-le !\n",
      "M. Éric Diard : …du voile des mineures ou du burkini, mais même la proposition du groupe Dem concernant la neutralité religieuse pour les personnes siégeant dans les bureaux de vote n’a pas été retenue.\n",
      "M. Julien Ravier : C’est déjà le cas ! \n",
      "M. Éric Diard : Pour notre part, alors que nous attendions de réelles propositions, nous avons vu le texte devenir de plus en plus frileux. Je regrette que vous n’ayez pas pris en considération nos propositions, qui étaient souvent constructives. Malheureusement, vous êtes limités par le « en même temps » qui émaille tous vos projets de loi, qui ne sont pas des textes d’action mais bien des textes de réaction. En matière de séparatisme islamiste, cette stratégie peut se révéler inopérante voire dangereuse, car vous aurez toujours un coup de retard.\n",
      "Mme la présidente : La parole est à Mme Isabelle Florennes.\n",
      "Mme Isabelle Florennes (Dem) : Le groupe Dem est satisfait du texte que nous nous apprêtons à adopter. Comme nous l’avons dit dès la première lecture, il nous semble équilibré et nous avons été entendus sur un certain nombre de sujets. La création du délit de séparatisme notamment, permise par le travail effectué sur le premier chapitre du texte avec la rapporteure Laurence Vichnievsky, nous semble constituer une mesure phare du projet de loi. Nous avons également contribué à trouver un équilibre au sujet de l’instruction en famille, en première lecture tout d’abord, puis, en nouvelle lecture, en rétablissant le texte d’origine. Nous tenons à rappeler que la possibilité d’instruire à domicile est évidemment maintenue : nous remercions le ministre de l’éducation nationale de nous avoir entendus sur ce point, ce qui a permis d’aboutir à la rédaction actuelle de l’article 21. Avec François Pupponi, nous avons également soutenu d’autres dispositions, par exemple pour interdire l’ingérence étrangère, en particulier s’agissant de l’édification des lieux de culte.\n",
      "M. Éric Diard : Ils ont même parlé de « l’amendement Bardella » !\n",
      "Mme Isabelle Florennes : Nous le regrettons en tant que groupe, mais je le regrette aussi à titre personnel car, comme l’avait expliqué mon collègue François Pupponi, il s’agissait d’un amendement de bon sens. Devant la caricature, la brutalité et la véhémence des échanges de mardi soir, nous nous interrogeons donc au sujet de notre capacité collective à aborder sereinement ces sujets.\n",
      "Mme la présidente : Je mets aux voix l’ensemble du projet de loi.\n",
      "Mme la présidente : Voici le résultat du scrutin :\n",
      "Mme la présidente : Prochaine séance, mardi 6 juillet, à quinze heures :\n"
     ]
    }
   ],
   "source": [
    "for i in range(len(nom)):\n",
    "    print(f'{nom[i]} : {texte[i]}')"
   ]
  },
  {
   "cell_type": "code",
   "execution_count": 8,
   "id": "d87249d7",
   "metadata": {
    "ExecuteTime": {
     "end_time": "2022-01-07T19:40:55.996589Z",
     "start_time": "2022-01-07T19:40:55.935612Z"
    }
   },
   "outputs": [
    {
     "name": "stderr",
     "output_type": "stream",
     "text": [
      "/var/folders/32/9d66kzz52dz4b0_b57djs_nr0000gn/T/ipykernel_4507/3365991547.py:3: FutureWarning: The default value of regex will change from True to False in a future version.\n",
      "  interventions.nom = interventions.nom.str.replace('M\\.', '')\n"
     ]
    },
    {
     "data": {
      "text/plain": [
       "array(['la présidente', 'Marie-George Buffet', 'Anne Brugnera',\n",
       "       'Roxana Maracineanu', 'Florent Boudié', 'Marlène Schiappa',\n",
       "       'Alexis Corbière', 'Stéphane Peu', 'François de Rugy',\n",
       "       'François Pupponi', 'Éric Diard', 'Sacha Houlié',\n",
       "       'Emmanuelle Ménard', 'Julien Ravier', 'Anne-Laure Blin',\n",
       "       'Jean-Michel Fauvergue', 'Lamia El Aaraje (SOC)',\n",
       "       'Pierre-Yves Bournazel (Agir ens)', 'Alexis Corbière (FI)',\n",
       "       'Bruno Millienne', 'Stéphane Peu (GDR)', 'Fabienne Colboc (LaREM)',\n",
       "       'Éric Diard (LR)', 'Isabelle Florennes (Dem)',\n",
       "       'Isabelle Florennes'], dtype=object)"
      ]
     },
     "execution_count": 8,
     "metadata": {},
     "output_type": "execute_result"
    }
   ],
   "source": [
    "interventions = pd.DataFrame({'nom': nom, 'texte': texte})\n",
    "interventions = interventions[interventions.nom != \"M. le président\"].reset_index(drop=True)\n",
    "interventions.nom = interventions.nom.str.replace('M\\.', '')\n",
    "interventions.nom = interventions.nom.str.replace('Mme','')\n",
    "interventions.nom = interventions.nom.str.replace(u'\\xa0', ' ')\n",
    "interventions.nom = interventions.nom.str.strip()\n",
    "interventions.texte = interventions.texte.str.replace('                            ', ' ')\n",
    "interventions.texte = interventions.texte.str.strip()\n",
    "interventions.nom.unique()"
   ]
  },
  {
   "cell_type": "code",
   "execution_count": 9,
   "id": "fcade46c",
   "metadata": {
    "ExecuteTime": {
     "end_time": "2022-01-07T19:41:01.364741Z",
     "start_time": "2022-01-07T19:41:01.300121Z"
    }
   },
   "outputs": [
    {
     "name": "stdout",
     "output_type": "stream",
     "text": [
      "la présidente : La séance est ouverte.\n",
      "la présidente : Le président de l’Assemblée nationale a reçu de M. Serge Letchimy, député de la troisième circonscription de la Martinique, une lettre l’informant qu’il se démettait de son mandat de député. Acte est donné de cette démission, qui sera notifiée au Premier ministre.\n",
      "la présidente : L’ordre du jour appelle la suite de la discussion, en nouvelle lecture, du projet de loi confortant le respect des principes de la République et de lutte contre le séparatisme (n\n",
      "la présidente : Ce matin, l’Assemblée a poursuivi la discussion des articles du projet de loi, s’arrêtant à l’article 25\n",
      "la présidente : La parole est à Mme Marie-George Buffet, pour soutenir l’amendement n\n",
      "Marie-George Buffet : L’article 25\n",
      "la présidente : La parole est à Mme Anne Brugnera, rapporteure de la commission spéciale, pour donner l’avis de la commission.\n",
      "Anne Brugnera : Défavorable. L’article 25\n",
      "Marie-George Buffet : Lesquels ?\n",
      "Anne Brugnera : …en cohérence avec les nouvelles obligations des associations et fédérations avec lesquelles ils travailleront. Nous souhaitons donc le conserver.\n",
      "la présidente : La parole est à Mme la ministre déléguée chargée des sports, pour donner l’avis du Gouvernement.\n",
      "Roxana Maracineanu : Il est vrai que l’ANS compte l’État parmi ses membres fondateurs – par l’intermédiaire de plusieurs ministères, dont celui chargé des sports. Mais même si elle est un opérateur de l’État liée par une convention avec mon ministère, elle reste un groupement d’intérêt public et doit à ce titre s’engager, lorsqu’elle distribue les subventions aux fédérations, à le faire dans le cadre du contrat d’engagement républicain et dans le respect des principes de la République, auxquels elle se trouve donc elle-même soumise. Aux termes de l’article 25\n",
      "la présidente : Les amendements n\n",
      "la présidente : L’amendement n\n",
      "la présidente : L’amendement n\n",
      "Florent Boudié : Il est défavorable.\n",
      "la présidente : La parole est à Mme la ministre déléguée.\n",
      "Roxana Maracineanu : Mme Schiappa doit me remplacer d’ici quelques instants.\n",
      "la présidente : La parole est à Mme la ministre déléguée chargée de la citoyenneté, pour donner l’avis du Gouvernement sur l’amendement n\n",
      "Marlène Schiappa : Il est défavorable.\n",
      "la présidente : Les amendements n\n",
      "la présidente : La parole est à M. Alexis Corbière, pour soutenir l’amendement n\n",
      "Alexis Corbière : Il vise à supprimer l’alinéa 5 de l’article 26, présenté comme un dispositif « anti-putsch ».\n",
      "Florent Boudié : Tout à fait !\n",
      "Alexis Corbière : J’irai à l’essentiel pour respecter le rythme, désormais rapide, de nos débats.\n",
      "Florent Boudié : Si, si !\n",
      "Alexis Corbière : Je crois avoir déjà échangé sur le sujet avec M. le rapporteur général : les associations dites diocésaines, qui organisent le culte catholique depuis qu’un accord a été trouvé sur la question – en 1905, le Vatican avait initialement refusé – ne fonctionnent pas avec des conseils d’administration démocratiques dans lesquels l’ensemble des fidèles auraient la possibilité d’éviter des coups de force.\n",
      "Florent Boudié : Si, si !\n",
      "Alexis Corbière : On peut bien sûr estimer qu’il existe un danger lié à la présence de courants intégristes au sein de certaines associations. Mais si ceux-ci doivent être surveillés, ils doivent l’être par les moyens des pouvoirs publics, y compris par la police s’ils menacent l’ordre public ou préparent un attentat par exemple. Toutes les études et toutes les auditions que nous avons menées démontrent que ces « putschs » sont en réalité très limités. Certains lieux cultuels sont effectivement entre les mains de courants particulièrement rigoristes, mais cela vaut pour tous les cultes. À quelques centaines de mètres d’ici, une église située à proximité de la Maison de la Mutualité est tenue depuis des années par un courant de l’Église catholique, la Fraternité Saint-Pie X, sans qu’il n’y ait jamais été mis bon ordre, malgré la volonté de la mairie de Paris. Ne découvrons donc pas des phénomènes qui existent déjà !\n",
      "la présidente : Quel est l’avis de la commission ?\n",
      "Florent Boudié : D’abord, il n’est pas exact d’affirmer que seul le culte musulman serait concerné par des dispositions du type de celles de l’article 26. Ce n’est pas du tout le cas. Les associations diocésaines obéissent ainsi à des statuts types qui les obligent, par exemple, à soumettre certaines décisions à leur assemblée générale. L’article 26 n’est donc pas ciblé exclusivement sur un seul culte.\n",
      "la présidente : Les amendements n\n",
      "la présidente : Les amendements n\n",
      "la présidente : L’amendement n\n",
      "la présidente : La parole est à M. Stéphane Peu, pour soutenir l’amendement de suppression n\n",
      "Stéphane Peu : Le projet de loi comporte des dispositions intéressantes en matière d’exercice du culte. Ainsi, nous nous félicitons que la constitution d’associations régies par la loi de 1905 soit encouragée car elles sont trop peu nombreuses aujourd’hui. En revanche, nous nous étonnons de la possibilité donnée aux associations cultuelles de posséder et d’administrer des immeubles de rapport tant elle nous semble éloignée de l’esprit et de la lettre de la loi de 1905.\n",
      "la présidente : Quel est l’avis de la commission ?\n",
      "Florent Boudié : Je reprends quelques arguments importants que j’ai déjà évoqués dans les débats précédents.\n",
      "la présidente : La parole est à M. Alexis Corbière, pour soutenir l’amendement n\n",
      "Alexis Corbière : Je suis désolé de revenir sur un sujet que nous avons déjà abondamment évoqué mais il est important. Nos discussions ne se limitent pas au cercle parlementaire, elles s’adressent aussi à ceux qui suivent les débats. Je réitère mon désaccord avec la possibilité donnée aux associations cultuelles de gérer des immeubles de rapport.\n",
      "la présidente : Quel est l’avis de la commission ?\n",
      "Florent Boudié : Vous avez remarqué, mon cher collègue Corbière, que nous n’avons pas demandé le plafonnement des ressources tirées de la vente des cierges\n",
      "Alexis Corbière : La question s’est posée en 1905 !\n",
      "Florent Boudié : Selon vous, nous nous détournons de l’esprit de la loi de 1905 puisque les associations, désormais autorisées à posséder et à administrer des biens, n’auraient plus un but exclusivement cultuel. Mais bien sûr que si : les ressources tirées des biens ne pourront être affectées qu’à l’objet exclusif du culte et absolument rien d’autre. L’esprit de la loi de 1905 me semble parfaitement respecté en l’occurrence.\n",
      "la présidente : La parole est à M. François de Rugy, président de la commission spéciale.\n",
      "François de Rugy : Le débat est récurrent, et c’est normal, puisque l’article consacre une évolution du cadre juridique du financement des associations cultuelles, donc des religions.\n",
      "Alexis Corbière : Les religions ne sont pas demandeuses !\n",
      "François Pupponi : Si !\n",
      "la présidente : Quel est l’avis du Gouvernement ?\n",
      "Marlène Schiappa : Je n’ai rien à ajouter à ces brillantes explications, madame la présidente.\n",
      "la présidente : La parole est à M. Alexis Corbière.\n",
      "Alexis Corbière : Le débat est vraiment intéressant mais aucun des cultes, sauf le culte musulman dont je dirai un mot ensuite, n’a considéré que sa situation financière était difficile au point d’empêcher son bon exercice.\n",
      "la présidente : La parole est à M. François Pupponi.\n",
      "François Pupponi : J’ai un petit désaccord avec notre collègue Corbière car tous les représentants des cultes que nous avons reçus ont dit être favorables à de nouvelles sources pour répondre à leurs problèmes financiers, que la crise du covid est venue aggraver. Ils ont d’ailleurs insisté sur la nécessité d’augmenter la déductibilité des dons au culte, mesure qui a été votée dans le cadre du projet de loi de finances rectificative.\n",
      "la présidente : L’amendement n\n",
      "la présidente : La parole est à M. Alexis Corbière, pour soutenir l’amendement n\n",
      "Alexis Corbière : L’une des modifications de la loi de 1905 est intervenue par la loi du 25 décembre 1942, sous le régime de Vichy, donc. Elle a ouvert le financement de la réparation des lieux de culte, « qu’ils soient ou non classés monuments historiques ». Ce faisant, elle a permis d’aller plus loin que la loi de 1905, qui prévoyait que les communes prendraient en charge l’entretien – le clos et le couvert, comme on dit –, des seuls édifices déjà construits au moment de sa promulgation. Nous voulons revenir à l’esprit de cette loi et supprimer les mots « qu’ils soient ou non » afin de limiter les inégalités et les disparités nées de cette modification et de restreindre, disons-le aussi, une forme de clientélisme dans certaines communes.\n",
      "la présidente : Quel est l’avis de la commission ?\n",
      "Florent Boudié : Nous avons eu, monsieur Corbière, ce débat avec votre collègue Éric Coquerel en commission spéciale. Il est vrai qu’il existe dans notre droit un très grand nombre de mesures et de normes issues du régime de Vichy dont certaines ont été perpétuées à partir de 1944 par le Gouvernement provisoire de la République française, dont on ne peut pas soupçonner les membres d’avoir entretenu des sympathies idéologiques avec le régime de Vichy – je pense en particulier à Léon Blum, président du dernier gouvernement provisoire.\n",
      "la présidente : Quel est l’avis du Gouvernement ?\n",
      "Marlène Schiappa : Même avis.\n",
      "la présidente : L’amendement n\n",
      "la présidente : L’amendement n\n",
      "la présidente : Je suis saisie de deux amendements identiques, n\n",
      "Marlène Schiappa : Cet amendement rédactionnel supprime la référence à l’article 19-4.\n",
      "la présidente : La parole est à M. le rapporteur général, pour soutenir l’amendement n\n",
      "Florent Boudié : Il est identique.\n",
      "la présidente : La parole est à Mme la ministre déléguée, pour soutenir l’amendement n\n",
      "Marlène Schiappa : Il s’agit de ne plus soumettre les associations mixtes à l’obligation consistant à tenir un état inventorié de leurs biens meubles et immeubles. Le Gouvernement a en effet considéré, s’agissant d’associations qui organisent d’autres activités que l’exercice du culte, qu’une telle disposition pouvait constituer une atteinte excessive et injustifiée à la liberté d’association et présentait un risque constitutionnel. Elle contraindrait ces associations à inventorier des biens qui ne sont pas utilisés pour l’exercice du culte.\n",
      "la présidente : La parole est à Mme la ministre déléguée, pour soutenir l’amendement n\n",
      "Marlène Schiappa : Par souci de transparence financière et de protection, nous voulons faire en sorte que le donateur ait la possibilité de vérifier que son don est utilisé conformément à l’objectif affiché par l’auteur de l’appel public à la générosité (APG). En effet, avec le développement des cagnottes en ligne, les APG sont devenus un mode courant de financement du culte. Il convient de s’assurer que les dons servent bien à financer le culte. Nous proposons donc d’imposer aux associations mixtes l’obligation d’établir un compte d’emploi des ressources collectées par les appels publics à la générosité destinés à soutenir le culte.\n",
      "la présidente : L’amendement n\n",
      "la présidente : La parole est à M. Éric Diard, pour soutenir l’amendement n\n",
      "Éric Diard : Cet amendement vise à limiter les influences étrangères sur les associations mixtes en empêchant ces dernières d’aliéner leurs biens immobiliers à des personnes morales ou États étrangers ainsi qu’aux personnes physiques non-résidentes en France.\n",
      "la présidente : Quel est l’avis de la commission ?\n",
      "Florent Boudié : Nous répondons, monsieur Diard, à la préoccupation que vous exprimez par l’article 36\n",
      "la présidente : Je vous rappelle que l’article 31 est réservé à la demande du Gouvernement.\n",
      "la présidente : L’amendement n\n",
      "la présidente : La parole est à Mme la ministre déléguée, pour soutenir l’amendement n\n",
      "Marlène Schiappa : Il s’agit de préciser le droit d’agir des personnes ayant un intérêt à le faire, par référence au code de procédure civile. Cet amendement ne change pas le sens de la disposition, mais apporte une précision demandée par les représentants des cultes, qui tenaient à s’assurer que l’élargissement au préfet et au procureur de l’intérêt à agir devant le juge civil n’aurait pas pour effet d’ouvrir cette possibilité à n’importe quel autre requérant.\n",
      "la présidente : Quel est l’avis de la commission ?\n",
      "Florent Boudié : Mme la ministre déléguée a défendu l’amendement n\n",
      "la présidente : La parole est à Mme la ministre déléguée, pour soutenir l’amendement n\n",
      "Marlène Schiappa : Il s’agit d’un amendement de précision.\n",
      "la présidente : La parole est à Mme la ministre déléguée, pour soutenir l’amendement n\n",
      "Marlène Schiappa : Comme M. le rapporteur général l’a fait remarquer très justement, je viens de le défendre, voulant aller plus vite que la musique. Il a d’ailleurs donné un avis favorable.\n",
      "la présidente : Je suis saisie de deux amendements, n\n",
      "Florent Boudié : Défavorable.\n",
      "la présidente : Quel est l’avis du Gouvernement ?\n",
      "Marlène Schiappa : Je suis navrée de devoir donner un avis défavorable, madame la présidente.\n",
      "la présidente : Je le regrette, mais je m’y attendais.\n",
      "la présidente : L’amendement n\n",
      "la présidente : L’amendement n\n",
      "la présidente : Je suis saisie de deux amendements, n\n",
      "Sacha Houlié : Il vise à préciser le dispositif en mentionnant que la provocation ou la commission de l’infraction dont se rend coupable le ministre du culte doit être directe. Il s’agit de conserver la qualification actuelle prévue dans la loi de 1905 qui exige une provocation directe, exigence qui figure également à l’article 24 de la loi sur la liberté de la presse de 1881 dont s’inspire le dispositif de l’article 39 que nous nous apprêtons à adopter.\n",
      "la présidente : Quel est l’avis du Gouvernement ?\n",
      "Marlène Schiappa : Concernant l’amendement de Mme Ménard, je m’en remets à la sagesse de l’assemblée, et j’émets un avis favorable à l’amendement du rapporteur.\n",
      "la présidente : Madame Ménard, maintenez-vous votre amendement ?\n",
      "Emmanuelle Ménard : Oui, madame la présidente.\n",
      "la présidente : L’amendement n\n",
      "Stéphane Peu : Qui l’a défendu ?\n",
      "la présidente : C’est moi, puisque je suis cosignataire. Je vous assure qu’il n’y a pas eu d’abus de pouvoir de ma part.\n",
      "la présidente : L’amendement n\n",
      "la présidente : L’amendement n\n",
      "la présidente : L’amendement n\n",
      "Sacha Houlié : Je vais dire quelques mots car nous passons très rapidement sur des dispositions essentielles du projet de loi : les articles 33 à 36 concernent le contrôle du financement des cultes en France et les articles que nous examinons depuis l’article 37 traitent de la police des cultes. Or cette police des cultes sera rénovée soit grâce au contrôle, dans le cadre de l’opposition aux financements émanant de l’étranger, soit dans la manière dont les infractions particulières seront déterminées – c’est l’objet de l’article 39 –, soit par l’interdiction d’administrer ou de diriger une association cultuelle – objet de l’article 43 – ou encore par la possibilité de fermer des lieux de culte. Il s’agit de dispositions nouvelles par rapport à la loi de 1905, qui sont particulièrement importantes.\n",
      "la présidente : Quel est l’avis du Gouvernement ?\n",
      "François Pupponi : Défavorable !\n",
      "Marlène Schiappa : Même avis.\n",
      "la présidente : La parole est à M. le rapporteur, pour soutenir l’amendement n\n",
      "Sacha Houlié : Il vise en effet à supprimer cet article car l’interdiction d’exercer certaines fonctions dans des établissements relevant du code de l’action sociale et des familles – même si elle est justifiée – n’a pas sa place dans cette partie consacrée à la police des cultes. Il s’agit d’un cavalier législatif. Nous aurons l’occasion d’examiner cette disposition dans un autre texte, qui traite de la protection de l’enfance. C’est pourquoi je souhaite la supprimer, ainsi que la disposition que nous examinerons ensuite à l’article 43\n",
      "la présidente : Quel est l’avis du Gouvernement ?\n",
      "Marlène Schiappa : Avis favorable.\n",
      "la présidente : L’amendement n\n",
      "la présidente : La parole est à M. Stéphane Peu, pour soutenir l’amendement n\n",
      "Stéphane Peu : Il s’agit d’un amendement de suppression car nous ne souhaitons pas modifier la loi de 1905 et permettre au préfet de prononcer la fermeture administrative temporaire des lieux de culte dans lesquels les propos qui sont tenus, les idées ou théories qui sont diffusées ou les activités qui s’y déroulent provoquent ou tendent à justifier la haine ou la violence envers les personnes. L’article prévoit en outre que les locaux dépendant du lieu de culte puissent également être fermés.\n",
      "la présidente : Quel est l’avis de la commission ?\n",
      "Sacha Houlié : Nous avons eu ce débat en commission spéciale, mais dans une autre tonalité, à l’occasion d’un amendement déposé par M. Ciotti : ce dernier proposait même d’aggraver la mesure, pour l’aligner quasiment avec la disposition du code de sécurité intérieure, dont vous avez souligné qu’elle avait été créée par la loi SILT de 2007, et qu’elle serait pérennisée dans la loi relative à la prévention d’actes de terrorisme et au renseignement, qui devrait être adoptée prochainement.\n",
      "la présidente : Les amendements n\n",
      "la présidente : Je suis saisie de trois amendements, n\n",
      "Sacha Houlié : Ils visent à revoir la durée de fermeture éventuelle des lieux de culte, pour la porter soit à six mois, soit à un an – soit une durée bien plus longue que celle prévue à l’article 44. J’ai déjà expliqué pourquoi un allongement de cette durée présenterait un risque constitutionnel et contreviendrait aux principes de police administrative de proportionnalité et de nécessité de la sanction – qui structurent notre proposition. Au vu de l’analyse du Conseil d’État et de nos débats en commission spéciale et en séance aux différentes étapes de la navette, j’émets un avis défavorable à ces amendements, dont les dispositions ne franchiraient pas le cap du Conseil constitutionnel.\n",
      "la présidente : L’amendement n\n",
      "la présidente : La parole est à M. Éric Diard, pour soutenir l’amendement n\n",
      "Éric Diard : J’avais proposé un amendement similaire dans le cadre du projet de loi SILT, quand M. Gérard Collomb était ministre de l’intérieur. Il faut pouvoir, dans le cas où une mosquée où l’on prêche la haine serait fermée pendant deux mois, puis rouverte et devrait à nouveau être fermée parce que des prêches suscitant la haine et la violence se sont reproduits, proroger la fermeture administrative, sous le contrôle du juge administratif.\n",
      "la présidente : Quel est l’avis de la commission ?\n",
      "Sacha Houlié : L’amendement est satisfait. Dans l’avis qu’il a rendu sur la disposition concernée, le Conseil d’État précise qu’en cas de fait nouveau, une nouvelle mesure de fermeture peut être prise pour une durée maximale de deux mois. Votre amendement ne précise pas cette nouvelle durée, ce qui présente un risque juridique. Pour ces raisons, mon avis est défavorable.\n",
      "la présidente : Quel est l’avis du Gouvernement ?\n",
      "Marlène Schiappa : Même avis, pour les mêmes raisons.\n",
      "la présidente : L’amendement n\n",
      "la présidente : La parole est à Mme la ministre déléguée, pour soutenir l’amendement n\n",
      "Marlène Schiappa : Le Sénat a proposé un dispositif visant à assujettir les sites de cagnotte en ligne aux obligations de lutte contre le blanchiment de capitaux et le financement du terrorisme. Il assimile ces sites à des intermédiaires en financement participatif, soumis notamment à des obligations d’enregistrement, d’honorabilité et de compétence professionnelles des dirigeants, ou encore de protection des investisseurs. Ce dispositif nous semble aller dans le bon sens, mais n’est pas suffisamment complet pour atteindre son objectif, et prématuré par rapport aux travaux actuels liés à l’application prochaine du règlement européen relatif au financement participatif. Aussi l’article 46\n",
      "la présidente : L’amendement de précision n\n",
      "la présidente : L’amendement de précision n\n",
      "Marlène Schiappa : J’en demande le retrait ; défaut, mon avis sera défavorable.\n",
      "la présidente : La parole est à Mme la ministre déléguée, pour soutenir l’amendement de suppression n\n",
      "Marlène Schiappa : Il s’agit du corollaire de l’amendement n\n",
      "la présidente : L’amendement n\n",
      "la présidente : L’amendement n\n",
      "la présidente : La parole est à M. le rapporteur, pour soutenir l’amendement n\n",
      "la présidente : L’amendement n\n",
      "la présidente : La parole est à Mme la ministre déléguée, pour soutenir l’amendement n\n",
      "Marlène Schiappa : Il s’agit presque d’un amendement rédactionnel : à l’alinéa 2, nous proposons de substituer aux mots « pour des motifs tirés des relations internationales de la France ou de la défense de ses intérêts fondamentaux », les mots « afin de prévenir toute forme d’ingérence étrangère ou de protéger les intérêts fondamentaux de la nation ».\n",
      "la présidente : La parole est à M. François Pupponi, pour soutenir le sous-amendement n\n",
      "François Pupponi : L’excellent amendement du Gouvernement reprend une proposition du Sénat. S’il va dans le bon sens, il présente une difficulté : les associations liées à des puissances étrangères, auxquelles le préfet aura interdit d’ouvrir une école hors contrat, pourront toujours ouvrir des centres culturels ou socioculturels où elles proposeront des activités éducatives s’apparentant à celles d’une école. Mon sous-amendement vise donc à élargir le champ de l’interdiction du préfet, afin d’empêcher les associations liées à des puissances étrangères, et mettant en péril l’intérêt de la nation, d’ouvrir ce type de structure.\n",
      "la présidente : Quel est l’avis de la commission sur l’amendement n\n",
      "Sacha Houlié : Avis favorable sur l’amendement du Gouvernement et défavorable sur le sous-amendement.\n",
      "la présidente : Quel est l’avis du Gouvernement sur le sous-amendement ?\n",
      "Marlène Schiappa : Même avis, pour les mêmes motifs.\n",
      "la présidente : La parole est à Mme la ministre déléguée, pour soutenir l’amendement n\n",
      "Marlène Schiappa : Il vise à harmoniser les règles applicables en Alsace-Moselle avec les dispositions du projet, tout en préservant le droit local et le droit concordataire, en effectuant une coordination avec les articles précédents du présent texte.\n",
      "la présidente : La parole est à M. le rapporteur général, pour soutenir les amendements n\n",
      "Florent Boudié : L’amendement n\n",
      "la présidente : L’amendement n\n",
      "la présidente : L’amendement n\n",
      "la présidente : La parole est à Mme la ministre déléguée, pour soutenir l’amendement n\n",
      "Marlène Schiappa : Amendement de cohérence.\n",
      "la présidente : L’amendement n\n",
      "la présidente : L’amendement n\n",
      "la présidente : L’amendement n\n",
      "la présidente : Les amendements n\n",
      "la présidente : L’amendement n\n",
      "Florent Boudié : Madame la présidente, je suis désolée de vous dire que j’y suis défavorable.\n",
      "la présidente : J’ai espéré jusqu’à la fin !\n",
      "Marlène Schiappa : Même avis.\n",
      "la présidente : Les amendements n\n",
      "la présidente : Je suis saisie de deux amendements, n\n",
      "Julien Ravier : Comme c’est le dernier amendement, je vais le défendre.\n",
      "Anne-Laure Blin : Très juste !\n",
      "la présidente : Quel est l’avis de la commission sur ces amendements ?\n",
      "Florent Boudié : Il est bien normal qu’avant de terminer l’examen de ce texte, je prenne quelques instants pour répondre à M. Ravier.\n",
      "Anne-Laure Blin : Elle était courageuse !\n",
      "Florent Boudié : …parce qu’il aurait manqué un mot dans son titre ?\n",
      "Anne-Laure Blin : Non ! C’était également une loi courageuse !\n",
      "Florent Boudié : Comme cela a été dit à plusieurs reprises, nous faisons des lois qui ont une portée générale et qui s’appliquent à tous, donc à toutes les formes de séparatisme. Par conséquent, nous préférons positionner ce texte de façon dynamique. Nous voulons conforter le respect des principes de la République. Nous ne visons personne en particulier, nous nous adressons à tous nos compatriotes en général. Alors que vous voulez voir dans ce titre, pour des raisons à la fois politiciennes et très opportunistes que je comprends, une forme de faiblesse, nous faisons au contraire la démonstration que nous gardons l’esprit froid. C’est une démonstration de force et de ténacité.\n",
      "Jean-Michel Fauvergue : Très bien !\n",
      "la présidente : La parole est à M. le président de la commission spéciale.\n",
      "François de Rugy : Cet amendement de notre collègue Ravier nous donne l’occasion de redire, à la fin de la discussion, quel est le sens de ce projet de loi et quelle est notre démarche que vous mettez en cause depuis le début de la discussion. Certains députés du groupe Les Républicains – car votre amendement n’est pas signé par tout votre groupe – manifestent jusqu’au bout cette obsession de pointer du doigt l’islam en parlant de l’islamisme politique et radical.\n",
      "Anne-Laure Blin : Cessez de caricaturer !\n",
      "François de Rugy : D’ailleurs, on voit bien que vous avez vous-même du mal à nommer les choses puisque vous êtes obligés de proposer plusieurs qualificatifs.\n",
      "Anne-Laure Blin : Votre obsession, c’est la religion catholique. C’est ça, le problème !\n",
      "François de Rugy : Vous vous souvenez peut-être d’une affiche que les laïcs les plus virulents avaient fait imprimer à l’époque. On y lisait, avec la basilique du Sacré-Cœur en toile de fond, « Le cléricalisme, voilà l’ennemi ! » Ils ne parlaient pas du catholicisme mais du cléricalisme, c’est-à-dire de l’esprit clérical. En l’occurrence, la loi de 1905 n’était pas une loi contre le cléricalisme. Les législateurs de l’époque, pourtant républicains, laïcs, avaient eu la sagesse de prévoir une appellation de portée générale.\n",
      "Anne-Laure Blin : Ça n’a rien à voir avec l’amendement !\n",
      "François de Rugy : Par ailleurs, ce texte vise à lutter contre différentes menaces dont l’islamisme radical et l’intégrisme religieux, mais – c’est une banalité – toutes les religions, comme des phénomènes qui ne sont pas religieux, peuvent produire des intégrismes entraînant des dérives antirépublicaines parfois violentes, à même de remettre en cause l’unité nationale.\n",
      "la présidente : La parole est à M. Sacha Houlié.\n",
      "Sacha Houlié : Si ce texte peut laisser un goût amer dans la bouche de certains collègues, c’est aussi parce qu’ils se sont trompés en se focalisant sur l’accessoire plutôt que sur l’essentiel. Ce texte, en effet, permet bien de renforcer la protection des services publics et de tous les organismes ou institutions qui exercent une mission de service public, soit par contrat soit par l’effet de la loi, puisqu’il protège les agents du service public. Il permet une protection de la réserve héréditaire. Des dispositions très précises de ce texte protègent les personnes qui vivent sur le territoire national du harcèlement sur les réseaux sociaux, de toute influence communautariste ou de tout repli identitaire dans le domaine éducatif comme dans le domaine sportif.\n",
      "Julien Ravier : L’islam politique, c’est accessoire ?\n",
      "Sacha Houlié : …qui, outre qu’ils intéressent peu nos concitoyens…\n",
      "Anne-Laure Blin : Allez donc voir sur le terrain si ça ne les intéresse pas !\n",
      "Sacha Houlié : …, ne demandent aucun courage mais font appel à d’autres ressorts qui sont ceux de la démagogie et du populisme. Si vous aviez voulu débattre de mesures vraiment utiles à l’intérêt général, nous aurions pu le faire plus longtemps, mais le travail que nous avons fait, d’abord en première lecture, ensuite en commission, où nous avons dû rétablir un texte qui soit acceptable et qui soit tout simplement constitutionnel et applicable, était tout à fait nécessaire. De ce point de vue, en permettant l’élaboration du texte que nous allons voter, la majorité a fait un excellent travail. Elle a fait en tout cas œuvre utile pour nos concitoyens.\n",
      "la présidente : Sur l’ensemble du projet de loi, je suis saisie par le groupe de la Gauche démocrate et républicaine d’une demande de scrutin public.\n",
      "la présidente : Dans les explications de vote, la parole est à Mme Lamia El Aaraje.\n",
      "Lamia El Aaraje (SOC) : Le débat que nous nous apprêtons à conclure a été parfois passionné, parfois mesuré, mais finalement assez peu apaisé et rassembleur ; je le regrette. Je déplore en particulier qu’à cause de certains propos tenus dans cet hémicycle, des personnes ou des groupes de personnes se sont sentis stigmatisés, pointés du doigt. Je le déplore d’autant plus que nous avons déjà été durement éprouvés par des années qui ont été extrêmement difficiles, sur le plan moral comme économique – je pense que c’est un constat que nous partageons tous, ou alors nous ne vivons pas dans les mêmes territoires.\n",
      "la présidente : La parole est à M. Pierre-Yves Bournazel.\n",
      "Pierre-Yves Bournazel (Agir ens) : Je commencerai par remercier le président de la commission spéciale, le rapporteur général, l’ensemble des rapporteurs et tous les membres de la commission spéciale pour leur engagement et pour le travail accompli depuis les premières auditions, il y a six mois.\n",
      "la présidente : La parole est à M. Alexis Corbière.\n",
      "Alexis Corbière (FI) : Nous voilà au terme de l’examen parlementaire d’un texte que vous nous avez présenté comme tellement important que vous avez jugé opportun de le présenter un 9 décembre, en référence à la grande loi du 9 décembre 1905. Avec le recul, la comparaison n’est pas flatteuse pour vous : entre le grand texte d’émancipation de 1905, dont nous nous réclamons, et cette succession d’articles, il n’y a rien de commun.\n",
      "Bruno Millienne : Vous y avez un peu participé…\n",
      "Alexis Corbière : Non : c’est totalement absent de ce texte. Traduit-il la volonté de réparer ce que le Président de la République lui-même évoquait lorsqu’il disait : « nous avons fabriqué notre propre séparatisme », constatant que dans certains quartiers, les difficultés s’accumulaient, les services publics n’étaient plus présents, l’égalité républicaine n’était plus une réalité ? Rien de tout cela n’a été abordé, rien !\n",
      "Florent Boudié : Mais non !\n",
      "Alexis Corbière : Avez-vous considéré que, parce que la loi de 1905, dont vous ne cessez de parler, et la laïcité sont des acquis incontournables qui doivent être défendus, il était temps qu’elles s’appliquent sur l’ensemble du territoire et que cette aberration historique qu’est le concordat en Alsace-Moselle soit enfin abrogé ? Non ! Vous ne l’avez pas voulu, et vous avez même utilisé, pour empêcher son abrogation, des arguments particulièrement réactionnaires et à double tranchant – il m’a été répondu que c’était pour des raisons historiques que la laïcité ne devait pas s’appliquer dans trois territoires. Méfiez-vous de cet argument, qui sera demain retourné contre vous :…\n",
      "Bruno Millienne : On vous fait confiance !\n",
      "Alexis Corbière : …si, pour des raisons historiques, on ne respecte plus les lois de la République, chacun de vos propos et l’utilisation même du mot « laïcité » apparaîtront comme une manœuvre.\n",
      "Anne-Laure Blin : Arrêtez la désinformation !\n",
      "Alexis Corbière : …affirmant que ces danses choquaient nos concitoyens, et qu’il fallait donc les interdire.\n",
      "Anne-Laure Blin : Vous mentez !\n",
      "Alexis Corbière : Ne me dites pas que ce n’est pas vrai : cela a été dit !\n",
      "Anne-Laure Blin : Non, nous parlions des drapeaux étrangers brandis dans les mairies !\n",
      "Alexis Corbière : Ici, dans le temple de la République, certains ont voulu interdire des manières de danser pour nos concitoyens !\n",
      "Anne-Laure Blin : Relisez donc les comptes rendus des débats !\n",
      "Alexis Corbière : Voilà comment ce texte a rendu déraisonnables certains d’entre nous.\n",
      "la présidente : La parole est à M. Stéphane Peu.\n",
      "Stéphane Peu (GDR) : Au terme de ces débats, ce texte, de notre point de vue, aura plutôt pour effet de malmener la laïcité, en tout cas dans l’esprit de la loi de 1905, et ne répondra en rien à la question du séparatisme, notamment du premier des séparatismes qu’est le séparatisme social.\n",
      "la présidente : La parole est à Mme Fabienne Colboc.\n",
      "Fabienne Colboc (LaREM) : Nous parvenons en effet à la fin de ce texte très important. Le résultat convient parfaitement au travail accompli en première lecture puis en commission, lorsque nous avons voulu rétablir les équilibres supprimés par nos collègues du Sénat. Ce texte répond très concrètement aux réalités et vise spécifiquement le terreau du terrorisme. Je me félicite que l’Assemblée nationale ne soit pas tombée dans le piège de la stigmatisation de nos concitoyens de confession musulmane, mais soit restée sur la ligne de conduite fixée par le Président de la République dans son discours des Mureaux, en votant un texte qui permet à chacun d’exercer librement sa foi dans un cadre plus protecteur.\n",
      "la présidente : La parole est à M. Éric Diard.\n",
      "Éric Diard (LR) : Ce projet de loi était, pour le moins, attendu. Comme vous l’avez dit, Emmanuel Macron l’avait esquissé dans son discours de Mulhouse puis dans son discours des Mureaux. Cependant, comme on le craignait, entre les annonces et le texte, le compte n’y est pas.\n",
      "Florent Boudié : Du voile, dites-le !\n",
      "Éric Diard : …du voile des mineures ou du burkini, mais même la proposition du groupe Dem concernant la neutralité religieuse pour les personnes siégeant dans les bureaux de vote n’a pas été retenue.\n",
      "Julien Ravier : C’est déjà le cas !\n",
      "Éric Diard : Pour notre part, alors que nous attendions de réelles propositions, nous avons vu le texte devenir de plus en plus frileux. Je regrette que vous n’ayez pas pris en considération nos propositions, qui étaient souvent constructives. Malheureusement, vous êtes limités par le « en même temps » qui émaille tous vos projets de loi, qui ne sont pas des textes d’action mais bien des textes de réaction. En matière de séparatisme islamiste, cette stratégie peut se révéler inopérante voire dangereuse, car vous aurez toujours un coup de retard.\n",
      "la présidente : La parole est à Mme Isabelle Florennes.\n",
      "Isabelle Florennes (Dem) : Le groupe Dem est satisfait du texte que nous nous apprêtons à adopter. Comme nous l’avons dit dès la première lecture, il nous semble équilibré et nous avons été entendus sur un certain nombre de sujets. La création du délit de séparatisme notamment, permise par le travail effectué sur le premier chapitre du texte avec la rapporteure Laurence Vichnievsky, nous semble constituer une mesure phare du projet de loi. Nous avons également contribué à trouver un équilibre au sujet de l’instruction en famille, en première lecture tout d’abord, puis, en nouvelle lecture, en rétablissant le texte d’origine. Nous tenons à rappeler que la possibilité d’instruire à domicile est évidemment maintenue : nous remercions le ministre de l’éducation nationale de nous avoir entendus sur ce point, ce qui a permis d’aboutir à la rédaction actuelle de l’article 21. Avec François Pupponi, nous avons également soutenu d’autres dispositions, par exemple pour interdire l’ingérence étrangère, en particulier s’agissant de l’édification des lieux de culte.\n",
      "Éric Diard : Ils ont même parlé de « l’amendement Bardella » !\n",
      "Isabelle Florennes : Nous le regrettons en tant que groupe, mais je le regrette aussi à titre personnel car, comme l’avait expliqué mon collègue François Pupponi, il s’agissait d’un amendement de bon sens. Devant la caricature, la brutalité et la véhémence des échanges de mardi soir, nous nous interrogeons donc au sujet de notre capacité collective à aborder sereinement ces sujets.\n",
      "la présidente : Je mets aux voix l’ensemble du projet de loi.\n",
      "la présidente : Voici le résultat du scrutin :\n",
      "la présidente : Prochaine séance, mardi 6 juillet, à quinze heures :\n"
     ]
    }
   ],
   "source": [
    "for i in range(len(interventions)):\n",
    "    print(f\"{interventions.loc[i, 'nom']} : {interventions.loc[i, 'texte']}\")"
   ]
  },
  {
   "cell_type": "code",
   "execution_count": 10,
   "id": "9b9089aa",
   "metadata": {
    "ExecuteTime": {
     "end_time": "2022-01-07T19:41:40.439910Z",
     "start_time": "2022-01-07T19:41:40.419474Z"
    }
   },
   "outputs": [
    {
     "data": {
      "text/html": [
       "<div>\n",
       "<style scoped>\n",
       "    .dataframe tbody tr th:only-of-type {\n",
       "        vertical-align: middle;\n",
       "    }\n",
       "\n",
       "    .dataframe tbody tr th {\n",
       "        vertical-align: top;\n",
       "    }\n",
       "\n",
       "    .dataframe thead th {\n",
       "        text-align: right;\n",
       "    }\n",
       "</style>\n",
       "<table border=\"1\" class=\"dataframe\">\n",
       "  <thead>\n",
       "    <tr style=\"text-align: right;\">\n",
       "      <th></th>\n",
       "      <th>nom</th>\n",
       "      <th>texte</th>\n",
       "    </tr>\n",
       "  </thead>\n",
       "  <tbody>\n",
       "    <tr>\n",
       "      <th>0</th>\n",
       "      <td>la présidente</td>\n",
       "      <td>La séance est ouverte.</td>\n",
       "    </tr>\n",
       "    <tr>\n",
       "      <th>1</th>\n",
       "      <td>la présidente</td>\n",
       "      <td>Le président de l’Assemblée nationale a reçu d...</td>\n",
       "    </tr>\n",
       "    <tr>\n",
       "      <th>2</th>\n",
       "      <td>la présidente</td>\n",
       "      <td>L’ordre du jour appelle la suite de la discuss...</td>\n",
       "    </tr>\n",
       "    <tr>\n",
       "      <th>3</th>\n",
       "      <td>la présidente</td>\n",
       "      <td>Ce matin, l’Assemblée a poursuivi la discussio...</td>\n",
       "    </tr>\n",
       "    <tr>\n",
       "      <th>4</th>\n",
       "      <td>la présidente</td>\n",
       "      <td>La parole est à Mme Marie-George Buffet, pour ...</td>\n",
       "    </tr>\n",
       "    <tr>\n",
       "      <th>...</th>\n",
       "      <td>...</td>\n",
       "      <td>...</td>\n",
       "    </tr>\n",
       "    <tr>\n",
       "      <th>222</th>\n",
       "      <td>Éric Diard</td>\n",
       "      <td>Ils ont même parlé de « l’amendement Bardella » !</td>\n",
       "    </tr>\n",
       "    <tr>\n",
       "      <th>223</th>\n",
       "      <td>Isabelle Florennes</td>\n",
       "      <td>Nous le regrettons en tant que groupe, mais je...</td>\n",
       "    </tr>\n",
       "    <tr>\n",
       "      <th>224</th>\n",
       "      <td>la présidente</td>\n",
       "      <td>Je mets aux voix l’ensemble du projet de loi.</td>\n",
       "    </tr>\n",
       "    <tr>\n",
       "      <th>225</th>\n",
       "      <td>la présidente</td>\n",
       "      <td>Voici le résultat du scrutin :</td>\n",
       "    </tr>\n",
       "    <tr>\n",
       "      <th>226</th>\n",
       "      <td>la présidente</td>\n",
       "      <td>Prochaine séance, mardi 6 juillet, à quinze he...</td>\n",
       "    </tr>\n",
       "  </tbody>\n",
       "</table>\n",
       "<p>227 rows × 2 columns</p>\n",
       "</div>"
      ],
      "text/plain": [
       "                    nom                                              texte\n",
       "0         la présidente                             La séance est ouverte.\n",
       "1         la présidente  Le président de l’Assemblée nationale a reçu d...\n",
       "2         la présidente  L’ordre du jour appelle la suite de la discuss...\n",
       "3         la présidente  Ce matin, l’Assemblée a poursuivi la discussio...\n",
       "4         la présidente  La parole est à Mme Marie-George Buffet, pour ...\n",
       "..                  ...                                                ...\n",
       "222          Éric Diard  Ils ont même parlé de « l’amendement Bardella » !\n",
       "223  Isabelle Florennes  Nous le regrettons en tant que groupe, mais je...\n",
       "224       la présidente      Je mets aux voix l’ensemble du projet de loi.\n",
       "225       la présidente                     Voici le résultat du scrutin :\n",
       "226       la présidente  Prochaine séance, mardi 6 juillet, à quinze he...\n",
       "\n",
       "[227 rows x 2 columns]"
      ]
     },
     "execution_count": 10,
     "metadata": {},
     "output_type": "execute_result"
    }
   ],
   "source": [
    "interventions"
   ]
  },
  {
   "cell_type": "code",
   "execution_count": 2,
   "id": "cedfa94e",
   "metadata": {
    "ExecuteTime": {
     "end_time": "2022-01-11T13:41:22.645665Z",
     "start_time": "2022-01-11T13:41:19.720624Z"
    }
   },
   "outputs": [
    {
     "name": "stdout",
     "output_type": "stream",
     "text": [
      "<class 'pandas.core.frame.DataFrame'>\n",
      "RangeIndex: 448184 entries, 0 to 448183\n",
      "Data columns (total 2 columns):\n",
      " #   Column  Non-Null Count   Dtype \n",
      "---  ------  --------------   ----- \n",
      " 0   nom     448184 non-null  object\n",
      " 1   texte   448018 non-null  object\n",
      "dtypes: object(2)\n",
      "memory usage: 6.8+ MB\n"
     ]
    }
   ],
   "source": [
    "resultat = pd.read_csv('data/interventions.csv')\n",
    "resultat.info()"
   ]
  },
  {
   "cell_type": "code",
   "execution_count": 3,
   "id": "94b7e368",
   "metadata": {
    "ExecuteTime": {
     "end_time": "2022-01-11T13:41:25.942695Z",
     "start_time": "2022-01-11T13:41:25.712504Z"
    }
   },
   "outputs": [
    {
     "name": "stdout",
     "output_type": "stream",
     "text": [
      "<class 'pandas.core.frame.DataFrame'>\n",
      "Int64Index: 448018 entries, 0 to 448183\n",
      "Data columns (total 2 columns):\n",
      " #   Column  Non-Null Count   Dtype \n",
      "---  ------  --------------   ----- \n",
      " 0   nom     448018 non-null  object\n",
      " 1   texte   448018 non-null  object\n",
      "dtypes: object(2)\n",
      "memory usage: 10.3+ MB\n"
     ]
    }
   ],
   "source": [
    "resultat.dropna(inplace=True)\n",
    "resultat.info()"
   ]
  },
  {
   "cell_type": "code",
   "execution_count": 4,
   "id": "181af436",
   "metadata": {
    "ExecuteTime": {
     "end_time": "2022-01-11T13:41:29.552628Z",
     "start_time": "2022-01-11T13:41:29.546121Z"
    }
   },
   "outputs": [],
   "source": [
    "line_out = [' et ', 'député', 'rapporteur', 'groupe', 'ministre', 'secrétaire', 'président', ',']"
   ]
  },
  {
   "cell_type": "code",
   "execution_count": 5,
   "id": "f9042cb9",
   "metadata": {
    "ExecuteTime": {
     "end_time": "2022-01-11T13:41:33.628109Z",
     "start_time": "2022-01-11T13:41:32.422096Z"
    }
   },
   "outputs": [
    {
     "name": "stdout",
     "output_type": "stream",
     "text": [
      "<class 'pandas.core.frame.DataFrame'>\n",
      "Int64Index: 441026 entries, 0 to 448183\n",
      "Data columns (total 2 columns):\n",
      " #   Column  Non-Null Count   Dtype \n",
      "---  ------  --------------   ----- \n",
      " 0   nom     441026 non-null  object\n",
      " 1   texte   441026 non-null  object\n",
      "dtypes: object(2)\n",
      "memory usage: 10.1+ MB\n"
     ]
    }
   ],
   "source": [
    "for element in line_out:\n",
    "    resultat = resultat[resultat.nom.map(lambda x : element not in x)]\n",
    "resultat.info()"
   ]
  },
  {
   "cell_type": "code",
   "execution_count": 9,
   "id": "b36da4c0",
   "metadata": {
    "ExecuteTime": {
     "end_time": "2022-01-11T13:42:59.284919Z",
     "start_time": "2022-01-11T13:42:59.266493Z"
    }
   },
   "outputs": [
    {
     "ename": "AttributeError",
     "evalue": "'DataFrame' object has no attribute 'str'",
     "output_type": "error",
     "traceback": [
      "\u001b[0;31m---------------------------------------------------------------------------\u001b[0m",
      "\u001b[0;31mAttributeError\u001b[0m                            Traceback (most recent call last)",
      "\u001b[0;32m/var/folders/32/9d66kzz52dz4b0_b57djs_nr0000gn/T/ipykernel_3385/215373437.py\u001b[0m in \u001b[0;36m<module>\u001b[0;34m\u001b[0m\n\u001b[0;32m----> 1\u001b[0;31m \u001b[0mresultat\u001b[0m\u001b[0;34m[\u001b[0m\u001b[0;34m'isaac'\u001b[0m \u001b[0;32min\u001b[0m \u001b[0mresultat\u001b[0m\u001b[0;34m.\u001b[0m\u001b[0mstr\u001b[0m\u001b[0;34m.\u001b[0m\u001b[0mnom\u001b[0m\u001b[0;34m]\u001b[0m\u001b[0;34m\u001b[0m\u001b[0;34m\u001b[0m\u001b[0m\n\u001b[0m",
      "\u001b[0;32m~/.pyenv/versions/3.8.12/envs/lewagon_current/lib/python3.8/site-packages/pandas/core/generic.py\u001b[0m in \u001b[0;36m__getattr__\u001b[0;34m(self, name)\u001b[0m\n\u001b[1;32m   5485\u001b[0m         ):\n\u001b[1;32m   5486\u001b[0m             \u001b[0;32mreturn\u001b[0m \u001b[0mself\u001b[0m\u001b[0;34m[\u001b[0m\u001b[0mname\u001b[0m\u001b[0;34m]\u001b[0m\u001b[0;34m\u001b[0m\u001b[0;34m\u001b[0m\u001b[0m\n\u001b[0;32m-> 5487\u001b[0;31m         \u001b[0;32mreturn\u001b[0m \u001b[0mobject\u001b[0m\u001b[0;34m.\u001b[0m\u001b[0m__getattribute__\u001b[0m\u001b[0;34m(\u001b[0m\u001b[0mself\u001b[0m\u001b[0;34m,\u001b[0m \u001b[0mname\u001b[0m\u001b[0;34m)\u001b[0m\u001b[0;34m\u001b[0m\u001b[0;34m\u001b[0m\u001b[0m\n\u001b[0m\u001b[1;32m   5488\u001b[0m \u001b[0;34m\u001b[0m\u001b[0m\n\u001b[1;32m   5489\u001b[0m     \u001b[0;32mdef\u001b[0m \u001b[0m__setattr__\u001b[0m\u001b[0;34m(\u001b[0m\u001b[0mself\u001b[0m\u001b[0;34m,\u001b[0m \u001b[0mname\u001b[0m\u001b[0;34m:\u001b[0m \u001b[0mstr\u001b[0m\u001b[0;34m,\u001b[0m \u001b[0mvalue\u001b[0m\u001b[0;34m)\u001b[0m \u001b[0;34m->\u001b[0m \u001b[0;32mNone\u001b[0m\u001b[0;34m:\u001b[0m\u001b[0;34m\u001b[0m\u001b[0;34m\u001b[0m\u001b[0m\n",
      "\u001b[0;31mAttributeError\u001b[0m: 'DataFrame' object has no attribute 'str'"
     ]
    }
   ],
   "source": [
    "resultat['isaac' in resultat.str.nom]"
   ]
  },
  {
   "cell_type": "code",
   "execution_count": 10,
   "id": "666baa70",
   "metadata": {
    "ExecuteTime": {
     "end_time": "2022-01-11T13:43:13.199554Z",
     "start_time": "2022-01-11T13:43:11.172609Z"
    }
   },
   "outputs": [],
   "source": [
    "def calc_longueur(chaine):\n",
    "    return len(chaine.split())\n",
    "resultat['longueur'] = resultat.texte.map(calc_longueur)"
   ]
  },
  {
   "cell_type": "code",
   "execution_count": 11,
   "id": "cb75df37",
   "metadata": {
    "ExecuteTime": {
     "end_time": "2022-01-11T13:43:18.247004Z",
     "start_time": "2022-01-11T13:43:18.224471Z"
    }
   },
   "outputs": [
    {
     "data": {
      "text/html": [
       "<div>\n",
       "<style scoped>\n",
       "    .dataframe tbody tr th:only-of-type {\n",
       "        vertical-align: middle;\n",
       "    }\n",
       "\n",
       "    .dataframe tbody tr th {\n",
       "        vertical-align: top;\n",
       "    }\n",
       "\n",
       "    .dataframe thead th {\n",
       "        text-align: right;\n",
       "    }\n",
       "</style>\n",
       "<table border=\"1\" class=\"dataframe\">\n",
       "  <thead>\n",
       "    <tr style=\"text-align: right;\">\n",
       "      <th></th>\n",
       "      <th>nom</th>\n",
       "      <th>texte</th>\n",
       "      <th>longueur</th>\n",
       "    </tr>\n",
       "  </thead>\n",
       "  <tbody>\n",
       "    <tr>\n",
       "      <th>0</th>\n",
       "      <td>Edouard Philippe</td>\n",
       "      <td>Monsieur le président, mesdames, messieurs les...</td>\n",
       "      <td>87</td>\n",
       "    </tr>\n",
       "    <tr>\n",
       "      <th>1</th>\n",
       "      <td>Franck Marlin</td>\n",
       "      <td>Où étiez-vous, avant, monsieur ? Vous étiez av...</td>\n",
       "      <td>11</td>\n",
       "    </tr>\n",
       "    <tr>\n",
       "      <th>2</th>\n",
       "      <td>Edouard Philippe</td>\n",
       "      <td>Pour redevenir elle-même, la France doit rétab...</td>\n",
       "      <td>82</td>\n",
       "    </tr>\n",
       "    <tr>\n",
       "      <th>3</th>\n",
       "      <td>Franck Marlin</td>\n",
       "      <td>L’honnêteté…</td>\n",
       "      <td>1</td>\n",
       "    </tr>\n",
       "    <tr>\n",
       "      <th>4</th>\n",
       "      <td>Edouard Philippe</td>\n",
       "      <td>…sous la pression souvent, mais de façon très ...</td>\n",
       "      <td>43</td>\n",
       "    </tr>\n",
       "    <tr>\n",
       "      <th>...</th>\n",
       "      <td>...</td>\n",
       "      <td>...</td>\n",
       "      <td>...</td>\n",
       "    </tr>\n",
       "    <tr>\n",
       "      <th>448179</th>\n",
       "      <td>Claude Malhuret</td>\n",
       "      <td>« Il faut souvent changer d’opinion pour être ...</td>\n",
       "      <td>22</td>\n",
       "    </tr>\n",
       "    <tr>\n",
       "      <th>448180</th>\n",
       "      <td>Emmanuel Capus</td>\n",
       "      <td>Brillant !</td>\n",
       "      <td>2</td>\n",
       "    </tr>\n",
       "    <tr>\n",
       "      <th>448181</th>\n",
       "      <td>Olivier Falorni</td>\n",
       "      <td>Monsieur le président du Congrès, monsieur le ...</td>\n",
       "      <td>53</td>\n",
       "    </tr>\n",
       "    <tr>\n",
       "      <th>448182</th>\n",
       "      <td>Plusieurs sénateurs</td>\n",
       "      <td>Si, il en a parlé !</td>\n",
       "      <td>6</td>\n",
       "    </tr>\n",
       "    <tr>\n",
       "      <th>448183</th>\n",
       "      <td>Olivier Falorni</td>\n",
       "      <td>…et quand il en parle, c’est toujours devant l...</td>\n",
       "      <td>37</td>\n",
       "    </tr>\n",
       "  </tbody>\n",
       "</table>\n",
       "<p>441026 rows × 3 columns</p>\n",
       "</div>"
      ],
      "text/plain": [
       "                        nom  \\\n",
       "0          Edouard Philippe   \n",
       "1             Franck Marlin   \n",
       "2          Edouard Philippe   \n",
       "3             Franck Marlin   \n",
       "4          Edouard Philippe   \n",
       "...                     ...   \n",
       "448179      Claude Malhuret   \n",
       "448180       Emmanuel Capus   \n",
       "448181      Olivier Falorni   \n",
       "448182  Plusieurs sénateurs   \n",
       "448183      Olivier Falorni   \n",
       "\n",
       "                                                    texte  longueur  \n",
       "0       Monsieur le président, mesdames, messieurs les...        87  \n",
       "1       Où étiez-vous, avant, monsieur ? Vous étiez av...        11  \n",
       "2       Pour redevenir elle-même, la France doit rétab...        82  \n",
       "3                                            L’honnêteté…         1  \n",
       "4       …sous la pression souvent, mais de façon très ...        43  \n",
       "...                                                   ...       ...  \n",
       "448179  « Il faut souvent changer d’opinion pour être ...        22  \n",
       "448180                                         Brillant !         2  \n",
       "448181  Monsieur le président du Congrès, monsieur le ...        53  \n",
       "448182                                Si, il en a parlé !         6  \n",
       "448183  …et quand il en parle, c’est toujours devant l...        37  \n",
       "\n",
       "[441026 rows x 3 columns]"
      ]
     },
     "execution_count": 11,
     "metadata": {},
     "output_type": "execute_result"
    }
   ],
   "source": [
    "resultat"
   ]
  },
  {
   "cell_type": "code",
   "execution_count": 27,
   "id": "e67d52f1",
   "metadata": {
    "ExecuteTime": {
     "end_time": "2022-01-11T13:49:42.858019Z",
     "start_time": "2022-01-11T13:49:42.828771Z"
    }
   },
   "outputs": [],
   "source": [
    "cyrille = resultat[resultat.nom == 'Cyrille Isaac-Sibille']"
   ]
  },
  {
   "cell_type": "code",
   "execution_count": 28,
   "id": "864c1c56",
   "metadata": {
    "ExecuteTime": {
     "end_time": "2022-01-11T13:50:12.345747Z",
     "start_time": "2022-01-11T13:50:12.324609Z"
    }
   },
   "outputs": [
    {
     "data": {
      "text/html": [
       "<div>\n",
       "<style scoped>\n",
       "    .dataframe tbody tr th:only-of-type {\n",
       "        vertical-align: middle;\n",
       "    }\n",
       "\n",
       "    .dataframe tbody tr th {\n",
       "        vertical-align: top;\n",
       "    }\n",
       "\n",
       "    .dataframe thead th {\n",
       "        text-align: right;\n",
       "    }\n",
       "</style>\n",
       "<table border=\"1\" class=\"dataframe\">\n",
       "  <thead>\n",
       "    <tr style=\"text-align: right;\">\n",
       "      <th></th>\n",
       "      <th>nom</th>\n",
       "      <th>texte</th>\n",
       "      <th>longueur</th>\n",
       "    </tr>\n",
       "  </thead>\n",
       "  <tbody>\n",
       "    <tr>\n",
       "      <th>867</th>\n",
       "      <td>Cyrille Isaac-Sibille</td>\n",
       "      <td>Monsieur le président, madame la ministre, mad...</td>\n",
       "      <td>61.0</td>\n",
       "    </tr>\n",
       "    <tr>\n",
       "      <th>868</th>\n",
       "      <td>Cyrille Isaac-Sibille</td>\n",
       "      <td>Cet amendement vise à garantir un réel suivi e...</td>\n",
       "      <td>70.0</td>\n",
       "    </tr>\n",
       "    <tr>\n",
       "      <th>869</th>\n",
       "      <td>Cyrille Isaac-Sibille</td>\n",
       "      <td>Très bien !</td>\n",
       "      <td>3.0</td>\n",
       "    </tr>\n",
       "    <tr>\n",
       "      <th>870</th>\n",
       "      <td>Cyrille Isaac-Sibille</td>\n",
       "      <td>Je remercie d’abord M. Maillard de son amendem...</td>\n",
       "      <td>61.0</td>\n",
       "    </tr>\n",
       "    <tr>\n",
       "      <th>871</th>\n",
       "      <td>Cyrille Isaac-Sibille</td>\n",
       "      <td>Je pense que l’amendement déposé par M. Mailla...</td>\n",
       "      <td>84.0</td>\n",
       "    </tr>\n",
       "    <tr>\n",
       "      <th>...</th>\n",
       "      <td>...</td>\n",
       "      <td>...</td>\n",
       "      <td>...</td>\n",
       "    </tr>\n",
       "    <tr>\n",
       "      <th>1416</th>\n",
       "      <td>Cyrille Isaac-Sibille</td>\n",
       "      <td>C’est le personnel qui manque, pas les lits !</td>\n",
       "      <td>9.0</td>\n",
       "    </tr>\n",
       "    <tr>\n",
       "      <th>1417</th>\n",
       "      <td>Cyrille Isaac-Sibille</td>\n",
       "      <td>Comme vous l’avez dit, monsieur le ministre, n...</td>\n",
       "      <td>50.0</td>\n",
       "    </tr>\n",
       "    <tr>\n",
       "      <th>1418</th>\n",
       "      <td>Cyrille Isaac-Sibille</td>\n",
       "      <td>On connaît par ailleurs les lieux de contamina...</td>\n",
       "      <td>71.0</td>\n",
       "    </tr>\n",
       "    <tr>\n",
       "      <th>1419</th>\n",
       "      <td>Cyrille Isaac-Sibille</td>\n",
       "      <td>Je partage en partie votre réponse, monsieur l...</td>\n",
       "      <td>112.0</td>\n",
       "    </tr>\n",
       "    <tr>\n",
       "      <th>1420</th>\n",
       "      <td>Cyrille Isaac-Sibille</td>\n",
       "      <td>Au nom du groupe Mouvement démocrate (MODEM) e...</td>\n",
       "      <td>76.0</td>\n",
       "    </tr>\n",
       "  </tbody>\n",
       "</table>\n",
       "<p>554 rows × 3 columns</p>\n",
       "</div>"
      ],
      "text/plain": [
       "                        nom  \\\n",
       "867   Cyrille Isaac-Sibille   \n",
       "868   Cyrille Isaac-Sibille   \n",
       "869   Cyrille Isaac-Sibille   \n",
       "870   Cyrille Isaac-Sibille   \n",
       "871   Cyrille Isaac-Sibille   \n",
       "...                     ...   \n",
       "1416  Cyrille Isaac-Sibille   \n",
       "1417  Cyrille Isaac-Sibille   \n",
       "1418  Cyrille Isaac-Sibille   \n",
       "1419  Cyrille Isaac-Sibille   \n",
       "1420  Cyrille Isaac-Sibille   \n",
       "\n",
       "                                                  texte  longueur  \n",
       "867   Monsieur le président, madame la ministre, mad...      61.0  \n",
       "868   Cet amendement vise à garantir un réel suivi e...      70.0  \n",
       "869                                         Très bien !       3.0  \n",
       "870   Je remercie d’abord M. Maillard de son amendem...      61.0  \n",
       "871   Je pense que l’amendement déposé par M. Mailla...      84.0  \n",
       "...                                                 ...       ...  \n",
       "1416      C’est le personnel qui manque, pas les lits !       9.0  \n",
       "1417  Comme vous l’avez dit, monsieur le ministre, n...      50.0  \n",
       "1418  On connaît par ailleurs les lieux de contamina...      71.0  \n",
       "1419  Je partage en partie votre réponse, monsieur l...     112.0  \n",
       "1420  Au nom du groupe Mouvement démocrate (MODEM) e...      76.0  \n",
       "\n",
       "[554 rows x 3 columns]"
      ]
     },
     "execution_count": 28,
     "metadata": {},
     "output_type": "execute_result"
    }
   ],
   "source": [
    "cyrille"
   ]
  },
  {
   "cell_type": "code",
   "execution_count": 31,
   "id": "2dd27872",
   "metadata": {
    "ExecuteTime": {
     "end_time": "2022-01-11T13:51:15.578044Z",
     "start_time": "2022-01-11T13:51:15.567603Z"
    }
   },
   "outputs": [
    {
     "data": {
      "text/plain": [
       "'Au nom du groupe Mouvement démocrate (MODEM) et démocrates apparentés, je tiens à remercier nos collègues Régis Juanico et Marie Tamarelle-Verhaeghe pour la qualité de leur travail. Ils nous apportent un éclairage pertinent sur les conséquences néfastes de la sédentarité sur notre santé et sur la promotion de l’activité physique comme moyen d’y faire face. Je les remercie aussi et surtout d’avoir permis de mettre ce sujet si important à l’ordre du jour de notre assemblée.'"
      ]
     },
     "execution_count": 31,
     "metadata": {},
     "output_type": "execute_result"
    }
   ],
   "source": [
    "cyrille.loc[1420, 'texte']"
   ]
  },
  {
   "cell_type": "code",
   "execution_count": 12,
   "id": "574c153b",
   "metadata": {
    "ExecuteTime": {
     "end_time": "2022-01-11T13:43:42.516191Z",
     "start_time": "2022-01-11T13:43:42.453167Z"
    }
   },
   "outputs": [
    {
     "data": {
      "text/plain": [
       "739"
      ]
     },
     "execution_count": 12,
     "metadata": {},
     "output_type": "execute_result"
    }
   ],
   "source": [
    "deputes = list(resultat.nom.unique())\n",
    "len(deputes)"
   ]
  },
  {
   "cell_type": "code",
   "execution_count": 35,
   "id": "e01241db",
   "metadata": {
    "ExecuteTime": {
     "end_time": "2022-01-11T13:54:55.430663Z",
     "start_time": "2022-01-11T13:54:55.378988Z"
    }
   },
   "outputs": [
    {
     "name": "stdout",
     "output_type": "stream",
     "text": [
      "<class 'pandas.core.frame.DataFrame'>\n",
      "RangeIndex: 570 entries, 0 to 569\n",
      "Data columns (total 31 columns):\n",
      " #   Column                  Non-Null Count  Dtype  \n",
      "---  ------                  --------------  -----  \n",
      " 0   id                      570 non-null    int64  \n",
      " 1   nom                     570 non-null    object \n",
      " 2   nom_de_famille          570 non-null    object \n",
      " 3   prenom                  570 non-null    object \n",
      " 4   sexe                    570 non-null    object \n",
      " 5   date_naissance          570 non-null    object \n",
      " 6   lieu_naissance          569 non-null    object \n",
      " 7   num_deptmt              570 non-null    object \n",
      " 8   nom_circo               570 non-null    object \n",
      " 9   num_circo               570 non-null    int64  \n",
      " 10  mandat_debut            570 non-null    object \n",
      " 11  mandat_fin              0 non-null      float64\n",
      " 12  ancien_depute           570 non-null    int64  \n",
      " 13  groupe_sigle            570 non-null    object \n",
      " 14  parti_ratt_financier    570 non-null    object \n",
      " 15  sites_web               549 non-null    object \n",
      " 16  emails                  568 non-null    object \n",
      " 17  adresses                570 non-null    object \n",
      " 18  collaborateurs          570 non-null    object \n",
      " 19  autres_mandats          316 non-null    object \n",
      " 20  anciens_autres_mandats  0 non-null      float64\n",
      " 21  anciens_mandats         570 non-null    object \n",
      " 22  profession              552 non-null    object \n",
      " 23  place_en_hemicycle      570 non-null    int64  \n",
      " 24  url_an                  570 non-null    object \n",
      " 25  id_an                   570 non-null    int64  \n",
      " 26  slug                    570 non-null    object \n",
      " 27  url_nosdeputes          570 non-null    object \n",
      " 28  url_nosdeputes_api      570 non-null    object \n",
      " 29  nb_mandats              570 non-null    int64  \n",
      " 30  twitter                 534 non-null    object \n",
      "dtypes: float64(2), int64(6), object(23)\n",
      "memory usage: 138.2+ KB\n"
     ]
    }
   ],
   "source": [
    "mps = pd.read_csv('data/current_mps.csv', sep=';')\n",
    "mps.info()"
   ]
  },
  {
   "cell_type": "code",
   "execution_count": 14,
   "id": "9c63153b",
   "metadata": {
    "ExecuteTime": {
     "end_time": "2022-01-11T13:43:54.397490Z",
     "start_time": "2022-01-11T13:43:53.078198Z"
    }
   },
   "outputs": [
    {
     "data": {
      "text/plain": [
       "570"
      ]
     },
     "execution_count": 14,
     "metadata": {},
     "output_type": "execute_result"
    }
   ],
   "source": [
    "resultat = resultat.merge(mps, on='nom', how='right')[['nom', 'texte', 'longueur']]\n",
    "len(resultat.nom.unique())"
   ]
  },
  {
   "cell_type": "code",
   "execution_count": 34,
   "id": "a9abb010",
   "metadata": {
    "ExecuteTime": {
     "end_time": "2022-01-11T13:54:50.168907Z",
     "start_time": "2022-01-11T13:54:50.154393Z"
    }
   },
   "outputs": [
    {
     "ename": "NameError",
     "evalue": "name 'num_deptmt' is not defined",
     "output_type": "error",
     "traceback": [
      "\u001b[0;31m---------------------------------------------------------------------------\u001b[0m",
      "\u001b[0;31mNameError\u001b[0m                                 Traceback (most recent call last)",
      "\u001b[0;32m/var/folders/32/9d66kzz52dz4b0_b57djs_nr0000gn/T/ipykernel_3385/4140920419.py\u001b[0m in \u001b[0;36m<module>\u001b[0;34m\u001b[0m\n\u001b[0;32m----> 1\u001b[0;31m \u001b[0mresultat\u001b[0m\u001b[0;34m[\u001b[0m\u001b[0mnum_deptmt\u001b[0m \u001b[0;34m==\u001b[0m \u001b[0;34m'69'\u001b[0m\u001b[0;34m]\u001b[0m\u001b[0;34m\u001b[0m\u001b[0;34m\u001b[0m\u001b[0m\n\u001b[0m",
      "\u001b[0;31mNameError\u001b[0m: name 'num_deptmt' is not defined"
     ]
    }
   ],
   "source": [
    "resultat[num_deptmt == '69']"
   ]
  },
  {
   "cell_type": "code",
   "execution_count": 15,
   "id": "30968f88",
   "metadata": {
    "ExecuteTime": {
     "end_time": "2022-01-11T13:43:59.770934Z",
     "start_time": "2022-01-11T13:43:59.622707Z"
    }
   },
   "outputs": [
    {
     "data": {
      "text/html": [
       "<div>\n",
       "<style scoped>\n",
       "    .dataframe tbody tr th:only-of-type {\n",
       "        vertical-align: middle;\n",
       "    }\n",
       "\n",
       "    .dataframe tbody tr th {\n",
       "        vertical-align: top;\n",
       "    }\n",
       "\n",
       "    .dataframe thead th {\n",
       "        text-align: right;\n",
       "    }\n",
       "</style>\n",
       "<table border=\"1\" class=\"dataframe\">\n",
       "  <thead>\n",
       "    <tr style=\"text-align: right;\">\n",
       "      <th></th>\n",
       "      <th>texte</th>\n",
       "      <th>longueur</th>\n",
       "    </tr>\n",
       "    <tr>\n",
       "      <th>nom</th>\n",
       "      <th></th>\n",
       "      <th></th>\n",
       "    </tr>\n",
       "  </thead>\n",
       "  <tbody>\n",
       "    <tr>\n",
       "      <th>Adrien Morenas</th>\n",
       "      <td>49</td>\n",
       "      <td>41.673469</td>\n",
       "    </tr>\n",
       "    <tr>\n",
       "      <th>Adrien Quatennens</th>\n",
       "      <td>1239</td>\n",
       "      <td>40.577885</td>\n",
       "    </tr>\n",
       "    <tr>\n",
       "      <th>Agnès Firmin Le Bodo</th>\n",
       "      <td>737</td>\n",
       "      <td>49.617368</td>\n",
       "    </tr>\n",
       "    <tr>\n",
       "      <th>Agnès Thill</th>\n",
       "      <td>763</td>\n",
       "      <td>33.140236</td>\n",
       "    </tr>\n",
       "    <tr>\n",
       "      <th>Aina Kuric</th>\n",
       "      <td>150</td>\n",
       "      <td>54.413333</td>\n",
       "    </tr>\n",
       "    <tr>\n",
       "      <th>...</th>\n",
       "      <td>...</td>\n",
       "      <td>...</td>\n",
       "    </tr>\n",
       "    <tr>\n",
       "      <th>Éric Diard</th>\n",
       "      <td>834</td>\n",
       "      <td>31.780576</td>\n",
       "    </tr>\n",
       "    <tr>\n",
       "      <th>Éric Girardin</th>\n",
       "      <td>95</td>\n",
       "      <td>42.810526</td>\n",
       "    </tr>\n",
       "    <tr>\n",
       "      <th>Éric Pauget</th>\n",
       "      <td>490</td>\n",
       "      <td>47.936735</td>\n",
       "    </tr>\n",
       "    <tr>\n",
       "      <th>Éric Poulliat</th>\n",
       "      <td>236</td>\n",
       "      <td>45.953390</td>\n",
       "    </tr>\n",
       "    <tr>\n",
       "      <th>Éric Woerth</th>\n",
       "      <td>2057</td>\n",
       "      <td>44.718522</td>\n",
       "    </tr>\n",
       "  </tbody>\n",
       "</table>\n",
       "<p>570 rows × 2 columns</p>\n",
       "</div>"
      ],
      "text/plain": [
       "                      texte   longueur\n",
       "nom                                   \n",
       "Adrien Morenas           49  41.673469\n",
       "Adrien Quatennens      1239  40.577885\n",
       "Agnès Firmin Le Bodo    737  49.617368\n",
       "Agnès Thill             763  33.140236\n",
       "Aina Kuric              150  54.413333\n",
       "...                     ...        ...\n",
       "Éric Diard              834  31.780576\n",
       "Éric Girardin            95  42.810526\n",
       "Éric Pauget             490  47.936735\n",
       "Éric Poulliat           236  45.953390\n",
       "Éric Woerth            2057  44.718522\n",
       "\n",
       "[570 rows x 2 columns]"
      ]
     },
     "execution_count": 15,
     "metadata": {},
     "output_type": "execute_result"
    }
   ],
   "source": [
    "depute = resultat.groupby('nom')\n",
    "interventions = depute.count()\n",
    "interventions.drop(columns='longueur', inplace=True)\n",
    "interventions['longueur'] = depute['longueur'].mean()\n",
    "interventions"
   ]
  },
  {
   "cell_type": "code",
   "execution_count": 16,
   "id": "c4c5efcf",
   "metadata": {
    "ExecuteTime": {
     "end_time": "2022-01-11T13:44:13.602443Z",
     "start_time": "2022-01-11T13:44:13.583699Z"
    }
   },
   "outputs": [],
   "source": [
    "interventions['nom'] = interventions.index\n",
    "interventions.reset_index(inplace=True, drop=True)"
   ]
  },
  {
   "cell_type": "code",
   "execution_count": 17,
   "id": "16e89e5d",
   "metadata": {
    "ExecuteTime": {
     "end_time": "2022-01-11T13:44:22.172587Z",
     "start_time": "2022-01-11T13:44:22.118378Z"
    }
   },
   "outputs": [
    {
     "data": {
      "text/html": [
       "<div>\n",
       "<style scoped>\n",
       "    .dataframe tbody tr th:only-of-type {\n",
       "        vertical-align: middle;\n",
       "    }\n",
       "\n",
       "    .dataframe tbody tr th {\n",
       "        vertical-align: top;\n",
       "    }\n",
       "\n",
       "    .dataframe thead th {\n",
       "        text-align: right;\n",
       "    }\n",
       "</style>\n",
       "<table border=\"1\" class=\"dataframe\">\n",
       "  <thead>\n",
       "    <tr style=\"text-align: right;\">\n",
       "      <th></th>\n",
       "      <th>nom</th>\n",
       "      <th>texte</th>\n",
       "      <th>longueur</th>\n",
       "      <th>sexe</th>\n",
       "      <th>parti_ratt_financier</th>\n",
       "    </tr>\n",
       "  </thead>\n",
       "  <tbody>\n",
       "    <tr>\n",
       "      <th>113</th>\n",
       "      <td>Claire O'Petit</td>\n",
       "      <td>0</td>\n",
       "      <td>NaN</td>\n",
       "      <td>F</td>\n",
       "      <td>La République en Marche</td>\n",
       "    </tr>\n",
       "    <tr>\n",
       "      <th>321</th>\n",
       "      <td>Loïc Prud'homme</td>\n",
       "      <td>0</td>\n",
       "      <td>NaN</td>\n",
       "      <td>H</td>\n",
       "      <td>La France Insoumise</td>\n",
       "    </tr>\n",
       "    <tr>\n",
       "      <th>326</th>\n",
       "      <td>M'jid El Guerrab</td>\n",
       "      <td>0</td>\n",
       "      <td>NaN</td>\n",
       "      <td>H</td>\n",
       "      <td>Union des démocrates, radicaux et libéraux</td>\n",
       "    </tr>\n",
       "    <tr>\n",
       "      <th>444</th>\n",
       "      <td>Pierre Morel-À-L'Huissier</td>\n",
       "      <td>0</td>\n",
       "      <td>NaN</td>\n",
       "      <td>H</td>\n",
       "      <td>Les Républicains</td>\n",
       "    </tr>\n",
       "    <tr>\n",
       "      <th>155</th>\n",
       "      <td>Edith Audibert</td>\n",
       "      <td>2</td>\n",
       "      <td>94.000000</td>\n",
       "      <td>F</td>\n",
       "      <td>Les Républicains</td>\n",
       "    </tr>\n",
       "    <tr>\n",
       "      <th>...</th>\n",
       "      <td>...</td>\n",
       "      <td>...</td>\n",
       "      <td>...</td>\n",
       "      <td>...</td>\n",
       "      <td>...</td>\n",
       "    </tr>\n",
       "    <tr>\n",
       "      <th>511</th>\n",
       "      <td>Sébastien Jumel</td>\n",
       "      <td>5487</td>\n",
       "      <td>25.012028</td>\n",
       "      <td>H</td>\n",
       "      <td>Parti communiste français</td>\n",
       "    </tr>\n",
       "    <tr>\n",
       "      <th>161</th>\n",
       "      <td>Fabien Di Filippo</td>\n",
       "      <td>6156</td>\n",
       "      <td>14.229370</td>\n",
       "      <td>H</td>\n",
       "      <td>Les Républicains</td>\n",
       "    </tr>\n",
       "    <tr>\n",
       "      <th>522</th>\n",
       "      <td>Ugo Bernalicis</td>\n",
       "      <td>6386</td>\n",
       "      <td>33.413248</td>\n",
       "      <td>H</td>\n",
       "      <td>La France Insoumise</td>\n",
       "    </tr>\n",
       "    <tr>\n",
       "      <th>441</th>\n",
       "      <td>Pierre Cordier</td>\n",
       "      <td>6553</td>\n",
       "      <td>8.516252</td>\n",
       "      <td>H</td>\n",
       "      <td>Les Républicains</td>\n",
       "    </tr>\n",
       "    <tr>\n",
       "      <th>514</th>\n",
       "      <td>Thibault Bazin</td>\n",
       "      <td>6644</td>\n",
       "      <td>26.003763</td>\n",
       "      <td>H</td>\n",
       "      <td>Les Républicains</td>\n",
       "    </tr>\n",
       "  </tbody>\n",
       "</table>\n",
       "<p>570 rows × 5 columns</p>\n",
       "</div>"
      ],
      "text/plain": [
       "                           nom  texte   longueur sexe  \\\n",
       "113             Claire O'Petit      0        NaN    F   \n",
       "321            Loïc Prud'homme      0        NaN    H   \n",
       "326           M'jid El Guerrab      0        NaN    H   \n",
       "444  Pierre Morel-À-L'Huissier      0        NaN    H   \n",
       "155             Edith Audibert      2  94.000000    F   \n",
       "..                         ...    ...        ...  ...   \n",
       "511            Sébastien Jumel   5487  25.012028    H   \n",
       "161          Fabien Di Filippo   6156  14.229370    H   \n",
       "522             Ugo Bernalicis   6386  33.413248    H   \n",
       "441             Pierre Cordier   6553   8.516252    H   \n",
       "514             Thibault Bazin   6644  26.003763    H   \n",
       "\n",
       "                           parti_ratt_financier  \n",
       "113                     La République en Marche  \n",
       "321                         La France Insoumise  \n",
       "326  Union des démocrates, radicaux et libéraux  \n",
       "444                            Les Républicains  \n",
       "155                            Les Républicains  \n",
       "..                                          ...  \n",
       "511                   Parti communiste français  \n",
       "161                            Les Républicains  \n",
       "522                         La France Insoumise  \n",
       "441                            Les Républicains  \n",
       "514                            Les Républicains  \n",
       "\n",
       "[570 rows x 5 columns]"
      ]
     },
     "execution_count": 17,
     "metadata": {},
     "output_type": "execute_result"
    }
   ],
   "source": [
    "def nettoyage(val):\n",
    "    if np.isnan(val):\n",
    "        val = 0\n",
    "    return val\n",
    "interventions = interventions.merge(mps, on='nom', how='inner')[['nom', 'texte', 'longueur', 'sexe', 'parti_ratt_financier']]\n",
    "interventions.longueur.map(nettoyage)\n",
    "interventions.texte.map(nettoyage)\n",
    "interventions.sort_values(by='texte', inplace=True)\n",
    "interventions"
   ]
  },
  {
   "cell_type": "code",
   "execution_count": 18,
   "id": "c79ca7a8",
   "metadata": {
    "ExecuteTime": {
     "end_time": "2022-01-11T13:44:40.852706Z",
     "start_time": "2022-01-11T13:44:40.839223Z"
    }
   },
   "outputs": [
    {
     "data": {
      "text/plain": [
       "25.012028430836523"
      ]
     },
     "execution_count": 18,
     "metadata": {},
     "output_type": "execute_result"
    }
   ],
   "source": [
    "nettoyage(interventions.longueur[511])"
   ]
  },
  {
   "cell_type": "code",
   "execution_count": 19,
   "id": "b9bf8325",
   "metadata": {
    "ExecuteTime": {
     "end_time": "2022-01-11T13:44:44.708986Z",
     "start_time": "2022-01-11T13:44:44.679350Z"
    }
   },
   "outputs": [
    {
     "data": {
      "text/html": [
       "<div>\n",
       "<style scoped>\n",
       "    .dataframe tbody tr th:only-of-type {\n",
       "        vertical-align: middle;\n",
       "    }\n",
       "\n",
       "    .dataframe tbody tr th {\n",
       "        vertical-align: top;\n",
       "    }\n",
       "\n",
       "    .dataframe thead th {\n",
       "        text-align: right;\n",
       "    }\n",
       "</style>\n",
       "<table border=\"1\" class=\"dataframe\">\n",
       "  <thead>\n",
       "    <tr style=\"text-align: right;\">\n",
       "      <th></th>\n",
       "      <th>nom</th>\n",
       "      <th>texte</th>\n",
       "      <th>longueur</th>\n",
       "      <th>sexe</th>\n",
       "      <th>parti_ratt_financier</th>\n",
       "    </tr>\n",
       "  </thead>\n",
       "  <tbody>\n",
       "    <tr>\n",
       "      <th>113</th>\n",
       "      <td>Claire O'Petit</td>\n",
       "      <td>0</td>\n",
       "      <td>NaN</td>\n",
       "      <td>F</td>\n",
       "      <td>La République en Marche</td>\n",
       "    </tr>\n",
       "    <tr>\n",
       "      <th>321</th>\n",
       "      <td>Loïc Prud'homme</td>\n",
       "      <td>0</td>\n",
       "      <td>NaN</td>\n",
       "      <td>H</td>\n",
       "      <td>La France Insoumise</td>\n",
       "    </tr>\n",
       "    <tr>\n",
       "      <th>326</th>\n",
       "      <td>M'jid El Guerrab</td>\n",
       "      <td>0</td>\n",
       "      <td>NaN</td>\n",
       "      <td>H</td>\n",
       "      <td>Union des démocrates, radicaux et libéraux</td>\n",
       "    </tr>\n",
       "    <tr>\n",
       "      <th>444</th>\n",
       "      <td>Pierre Morel-À-L'Huissier</td>\n",
       "      <td>0</td>\n",
       "      <td>NaN</td>\n",
       "      <td>H</td>\n",
       "      <td>Les Républicains</td>\n",
       "    </tr>\n",
       "    <tr>\n",
       "      <th>155</th>\n",
       "      <td>Edith Audibert</td>\n",
       "      <td>2</td>\n",
       "      <td>94.000000</td>\n",
       "      <td>F</td>\n",
       "      <td>Les Républicains</td>\n",
       "    </tr>\n",
       "    <tr>\n",
       "      <th>...</th>\n",
       "      <td>...</td>\n",
       "      <td>...</td>\n",
       "      <td>...</td>\n",
       "      <td>...</td>\n",
       "      <td>...</td>\n",
       "    </tr>\n",
       "    <tr>\n",
       "      <th>511</th>\n",
       "      <td>Sébastien Jumel</td>\n",
       "      <td>5487</td>\n",
       "      <td>25.012028</td>\n",
       "      <td>H</td>\n",
       "      <td>Parti communiste français</td>\n",
       "    </tr>\n",
       "    <tr>\n",
       "      <th>161</th>\n",
       "      <td>Fabien Di Filippo</td>\n",
       "      <td>6156</td>\n",
       "      <td>14.229370</td>\n",
       "      <td>H</td>\n",
       "      <td>Les Républicains</td>\n",
       "    </tr>\n",
       "    <tr>\n",
       "      <th>522</th>\n",
       "      <td>Ugo Bernalicis</td>\n",
       "      <td>6386</td>\n",
       "      <td>33.413248</td>\n",
       "      <td>H</td>\n",
       "      <td>La France Insoumise</td>\n",
       "    </tr>\n",
       "    <tr>\n",
       "      <th>441</th>\n",
       "      <td>Pierre Cordier</td>\n",
       "      <td>6553</td>\n",
       "      <td>8.516252</td>\n",
       "      <td>H</td>\n",
       "      <td>Les Républicains</td>\n",
       "    </tr>\n",
       "    <tr>\n",
       "      <th>514</th>\n",
       "      <td>Thibault Bazin</td>\n",
       "      <td>6644</td>\n",
       "      <td>26.003763</td>\n",
       "      <td>H</td>\n",
       "      <td>Les Républicains</td>\n",
       "    </tr>\n",
       "  </tbody>\n",
       "</table>\n",
       "<p>570 rows × 5 columns</p>\n",
       "</div>"
      ],
      "text/plain": [
       "                           nom  texte   longueur sexe  \\\n",
       "113             Claire O'Petit      0        NaN    F   \n",
       "321            Loïc Prud'homme      0        NaN    H   \n",
       "326           M'jid El Guerrab      0        NaN    H   \n",
       "444  Pierre Morel-À-L'Huissier      0        NaN    H   \n",
       "155             Edith Audibert      2  94.000000    F   \n",
       "..                         ...    ...        ...  ...   \n",
       "511            Sébastien Jumel   5487  25.012028    H   \n",
       "161          Fabien Di Filippo   6156  14.229370    H   \n",
       "522             Ugo Bernalicis   6386  33.413248    H   \n",
       "441             Pierre Cordier   6553   8.516252    H   \n",
       "514             Thibault Bazin   6644  26.003763    H   \n",
       "\n",
       "                           parti_ratt_financier  \n",
       "113                     La République en Marche  \n",
       "321                         La France Insoumise  \n",
       "326  Union des démocrates, radicaux et libéraux  \n",
       "444                            Les Républicains  \n",
       "155                            Les Républicains  \n",
       "..                                          ...  \n",
       "511                   Parti communiste français  \n",
       "161                            Les Républicains  \n",
       "522                         La France Insoumise  \n",
       "441                            Les Républicains  \n",
       "514                            Les Républicains  \n",
       "\n",
       "[570 rows x 5 columns]"
      ]
     },
     "execution_count": 19,
     "metadata": {},
     "output_type": "execute_result"
    }
   ],
   "source": [
    "interventions"
   ]
  },
  {
   "cell_type": "code",
   "execution_count": 24,
   "id": "62b1666f",
   "metadata": {
    "ExecuteTime": {
     "end_time": "2022-01-11T13:46:44.386622Z",
     "start_time": "2022-01-11T13:46:44.365348Z"
    }
   },
   "outputs": [
    {
     "data": {
      "text/html": [
       "<div>\n",
       "<style scoped>\n",
       "    .dataframe tbody tr th:only-of-type {\n",
       "        vertical-align: middle;\n",
       "    }\n",
       "\n",
       "    .dataframe tbody tr th {\n",
       "        vertical-align: top;\n",
       "    }\n",
       "\n",
       "    .dataframe thead th {\n",
       "        text-align: right;\n",
       "    }\n",
       "</style>\n",
       "<table border=\"1\" class=\"dataframe\">\n",
       "  <thead>\n",
       "    <tr style=\"text-align: right;\">\n",
       "      <th></th>\n",
       "      <th>nom</th>\n",
       "      <th>texte</th>\n",
       "      <th>longueur</th>\n",
       "      <th>sexe</th>\n",
       "      <th>parti_ratt_financier</th>\n",
       "    </tr>\n",
       "  </thead>\n",
       "  <tbody>\n",
       "    <tr>\n",
       "      <th>121</th>\n",
       "      <td>Cyrille Isaac-Sibille</td>\n",
       "      <td>554</td>\n",
       "      <td>41.117329</td>\n",
       "      <td>H</td>\n",
       "      <td>Mouvement Démocrate</td>\n",
       "    </tr>\n",
       "  </tbody>\n",
       "</table>\n",
       "</div>"
      ],
      "text/plain": [
       "                       nom  texte   longueur sexe parti_ratt_financier\n",
       "121  Cyrille Isaac-Sibille    554  41.117329    H  Mouvement Démocrate"
      ]
     },
     "execution_count": 24,
     "metadata": {},
     "output_type": "execute_result"
    }
   ],
   "source": [
    "interventions[interventions.nom == 'Cyrille Isaac-Sibille']"
   ]
  },
  {
   "cell_type": "code",
   "execution_count": null,
   "id": "753f3baa",
   "metadata": {},
   "outputs": [],
   "source": []
  }
 ],
 "metadata": {
  "kernelspec": {
   "display_name": "Python 3 (ipykernel)",
   "language": "python",
   "name": "python3"
  },
  "language_info": {
   "codemirror_mode": {
    "name": "ipython",
    "version": 3
   },
   "file_extension": ".py",
   "mimetype": "text/x-python",
   "name": "python",
   "nbconvert_exporter": "python",
   "pygments_lexer": "ipython3",
   "version": "3.8.12"
  },
  "toc": {
   "base_numbering": 1,
   "nav_menu": {},
   "number_sections": true,
   "sideBar": true,
   "skip_h1_title": false,
   "title_cell": "Table of Contents",
   "title_sidebar": "Contents",
   "toc_cell": false,
   "toc_position": {},
   "toc_section_display": true,
   "toc_window_display": false
  },
  "varInspector": {
   "cols": {
    "lenName": 16,
    "lenType": 16,
    "lenVar": 40
   },
   "kernels_config": {
    "python": {
     "delete_cmd_postfix": "",
     "delete_cmd_prefix": "del ",
     "library": "var_list.py",
     "varRefreshCmd": "print(var_dic_list())"
    },
    "r": {
     "delete_cmd_postfix": ") ",
     "delete_cmd_prefix": "rm(",
     "library": "var_list.r",
     "varRefreshCmd": "cat(var_dic_list()) "
    }
   },
   "types_to_exclude": [
    "module",
    "function",
    "builtin_function_or_method",
    "instance",
    "_Feature"
   ],
   "window_display": false
  }
 },
 "nbformat": 4,
 "nbformat_minor": 5
}
