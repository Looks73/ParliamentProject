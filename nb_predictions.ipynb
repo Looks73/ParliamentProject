{
 "cells": [
  {
   "cell_type": "code",
   "execution_count": 1,
   "id": "687d0329",
   "metadata": {
    "ExecuteTime": {
     "end_time": "2022-02-11T23:24:24.875149Z",
     "start_time": "2022-02-11T23:24:23.947894Z"
    }
   },
   "outputs": [],
   "source": [
    "import pandas as pd\n",
    "import numpy as np"
   ]
  },
  {
   "cell_type": "code",
   "execution_count": 2,
   "id": "76563bc2",
   "metadata": {
    "ExecuteTime": {
     "end_time": "2022-02-11T23:24:27.075071Z",
     "start_time": "2022-02-11T23:24:27.068233Z"
    }
   },
   "outputs": [],
   "source": [
    "# Choix du fichier d'entrée\n",
    "files = ['data/mots_mps.pickle', 'data/mots_mps_bis.pickle']\n",
    "file = files[1]"
   ]
  },
  {
   "cell_type": "code",
   "execution_count": 3,
   "id": "600e36b7",
   "metadata": {
    "ExecuteTime": {
     "end_time": "2022-02-11T23:24:31.670766Z",
     "start_time": "2022-02-11T23:24:30.169268Z"
    }
   },
   "outputs": [],
   "source": [
    "interv_mps = pd.read_pickle(file)"
   ]
  },
  {
   "cell_type": "code",
   "execution_count": 4,
   "id": "12734619",
   "metadata": {
    "ExecuteTime": {
     "end_time": "2022-02-11T23:24:35.044631Z",
     "start_time": "2022-02-11T23:24:34.946127Z"
    }
   },
   "outputs": [
    {
     "data": {
      "text/html": [
       "<div>\n",
       "<style scoped>\n",
       "    .dataframe tbody tr th:only-of-type {\n",
       "        vertical-align: middle;\n",
       "    }\n",
       "\n",
       "    .dataframe tbody tr th {\n",
       "        vertical-align: top;\n",
       "    }\n",
       "\n",
       "    .dataframe thead th {\n",
       "        text-align: right;\n",
       "    }\n",
       "</style>\n",
       "<table border=\"1\" class=\"dataframe\">\n",
       "  <thead>\n",
       "    <tr style=\"text-align: right;\">\n",
       "      <th></th>\n",
       "      <th>nom</th>\n",
       "      <th>nbre_interv</th>\n",
       "      <th>mean_length</th>\n",
       "      <th>sexe</th>\n",
       "      <th>num_deptmt</th>\n",
       "      <th>parti_ratt_financier</th>\n",
       "      <th>id_an</th>\n",
       "      <th>mots</th>\n",
       "      <th>nbre_mots</th>\n",
       "      <th>freq_mots</th>\n",
       "      <th>liste_mots</th>\n",
       "      <th>nbre_freq_mots</th>\n",
       "    </tr>\n",
       "  </thead>\n",
       "  <tbody>\n",
       "    <tr>\n",
       "      <th>0</th>\n",
       "      <td>Christophe Leclercq</td>\n",
       "      <td>2</td>\n",
       "      <td>30.000000</td>\n",
       "      <td>H</td>\n",
       "      <td>62</td>\n",
       "      <td>La République en Marche</td>\n",
       "      <td>784314</td>\n",
       "      <td>[enfant, situation, handicap, scolariser, mili...</td>\n",
       "      <td>28</td>\n",
       "      <td>{'enfant': 2, 'situation': 1, 'handicap': 2, '...</td>\n",
       "      <td>[enfant, handicap, situation, scolariser, mili...</td>\n",
       "      <td>26</td>\n",
       "    </tr>\n",
       "    <tr>\n",
       "      <th>1</th>\n",
       "      <td>Bernard Brochand</td>\n",
       "      <td>3</td>\n",
       "      <td>4.000000</td>\n",
       "      <td>H</td>\n",
       "      <td>06</td>\n",
       "      <td>Les Républicains</td>\n",
       "      <td>223837</td>\n",
       "      <td>[acte, entrée, maîtriser]</td>\n",
       "      <td>3</td>\n",
       "      <td>{'acte': 1, 'entrée': 1, 'maîtriser': 1}</td>\n",
       "      <td>[acte, entrée, maîtriser]</td>\n",
       "      <td>3</td>\n",
       "    </tr>\n",
       "    <tr>\n",
       "      <th>2</th>\n",
       "      <td>Stéphane Vojetta</td>\n",
       "      <td>3</td>\n",
       "      <td>56.000000</td>\n",
       "      <td>H</td>\n",
       "      <td>999</td>\n",
       "      <td>La République en Marche</td>\n",
       "      <td>721170</td>\n",
       "      <td>[associer, question, représentant, compatriote...</td>\n",
       "      <td>81</td>\n",
       "      <td>{'associer': 1, 'question': 1, 'représentant':...</td>\n",
       "      <td>[français, france, international, hors, commer...</td>\n",
       "      <td>62</td>\n",
       "    </tr>\n",
       "    <tr>\n",
       "      <th>3</th>\n",
       "      <td>Edith Audibert</td>\n",
       "      <td>3</td>\n",
       "      <td>65.000000</td>\n",
       "      <td>F</td>\n",
       "      <td>83</td>\n",
       "      <td>Les Républicains</td>\n",
       "      <td>721666</td>\n",
       "      <td>[question, adress, état, charger, tourisme, fr...</td>\n",
       "      <td>96</td>\n",
       "      <td>{'question': 2, 'adress': 1, 'état': 2, 'charg...</td>\n",
       "      <td>[tourisme, question, état, français, falloir, ...</td>\n",
       "      <td>78</td>\n",
       "    </tr>\n",
       "    <tr>\n",
       "      <th>4</th>\n",
       "      <td>Catherine Daufès-Roux</td>\n",
       "      <td>4</td>\n",
       "      <td>26.750000</td>\n",
       "      <td>F</td>\n",
       "      <td>30</td>\n",
       "      <td>La République en Marche</td>\n",
       "      <td>719484</td>\n",
       "      <td>[souhaite, adresser, opposition, directrice, é...</td>\n",
       "      <td>53</td>\n",
       "      <td>{'souhaite': 1, 'adresser': 1, 'opposition': 1...</td>\n",
       "      <td>[école, vaccinal, souhaite, adresser, oppositi...</td>\n",
       "      <td>49</td>\n",
       "    </tr>\n",
       "    <tr>\n",
       "      <th>...</th>\n",
       "      <td>...</td>\n",
       "      <td>...</td>\n",
       "      <td>...</td>\n",
       "      <td>...</td>\n",
       "      <td>...</td>\n",
       "      <td>...</td>\n",
       "      <td>...</td>\n",
       "      <td>...</td>\n",
       "      <td>...</td>\n",
       "      <td>...</td>\n",
       "      <td>...</td>\n",
       "      <td>...</td>\n",
       "    </tr>\n",
       "    <tr>\n",
       "      <th>561</th>\n",
       "      <td>Sébastien Jumel</td>\n",
       "      <td>5494</td>\n",
       "      <td>24.994175</td>\n",
       "      <td>H</td>\n",
       "      <td>76</td>\n",
       "      <td>Parti communiste français</td>\n",
       "      <td>722202</td>\n",
       "      <td>[premier, voici, vent, fraîcheur, censé, dépou...</td>\n",
       "      <td>56685</td>\n",
       "      <td>{'premier': 130, 'voici': 9, 'vent': 6, 'censé...</td>\n",
       "      <td>[dire, falloir, vouloir, état, territoire, pre...</td>\n",
       "      <td>6632</td>\n",
       "    </tr>\n",
       "    <tr>\n",
       "      <th>562</th>\n",
       "      <td>Fabien Di Filippo</td>\n",
       "      <td>6247</td>\n",
       "      <td>14.311029</td>\n",
       "      <td>H</td>\n",
       "      <td>57</td>\n",
       "      <td>Les Républicains</td>\n",
       "      <td>720386</td>\n",
       "      <td>[vrai, comprend, volonté, france, insoumis, ob...</td>\n",
       "      <td>34493</td>\n",
       "      <td>{'vrai': 101, 'comprend': 7, 'volonté': 19, 'f...</td>\n",
       "      <td>[dire, falloir, question, vouloir, oui, devoir...</td>\n",
       "      <td>5393</td>\n",
       "    </tr>\n",
       "    <tr>\n",
       "      <th>563</th>\n",
       "      <td>Ugo Bernalicis</td>\n",
       "      <td>6576</td>\n",
       "      <td>33.652676</td>\n",
       "      <td>H</td>\n",
       "      <td>59</td>\n",
       "      <td>La France Insoumise</td>\n",
       "      <td>720430</td>\n",
       "      <td>[état, vouloir, abord, associer, propos, tenir...</td>\n",
       "      <td>89624</td>\n",
       "      <td>{'état': 402, 'vouloir': 435, 'abord': 56, 'as...</td>\n",
       "      <td>[dire, falloir, non, savoir, vouloir, autre, d...</td>\n",
       "      <td>7347</td>\n",
       "    </tr>\n",
       "    <tr>\n",
       "      <th>564</th>\n",
       "      <td>Pierre Cordier</td>\n",
       "      <td>6644</td>\n",
       "      <td>8.520620</td>\n",
       "      <td>H</td>\n",
       "      <td>08</td>\n",
       "      <td>Les Républicains</td>\n",
       "      <td>718850</td>\n",
       "      <td>[bravo, juste, oui, dos, collectivité, local, ...</td>\n",
       "      <td>19817</td>\n",
       "      <td>{'bravo': 62, 'juste': 116, 'oui': 260, 'dos':...</td>\n",
       "      <td>[dire, oui, falloir, question, raison, vrai, b...</td>\n",
       "      <td>3874</td>\n",
       "    </tr>\n",
       "    <tr>\n",
       "      <th>565</th>\n",
       "      <td>Thibault Bazin</td>\n",
       "      <td>6758</td>\n",
       "      <td>26.147381</td>\n",
       "      <td>H</td>\n",
       "      <td>54</td>\n",
       "      <td>Les Républicains</td>\n",
       "      <td>642847</td>\n",
       "      <td>[trop, court, cravate, importe, irresponsable,...</td>\n",
       "      <td>73224</td>\n",
       "      <td>{'trop': 63, 'court': 20, 'cravate': 3, 'impor...</td>\n",
       "      <td>[falloir, devoir, dire, question, état, raison...</td>\n",
       "      <td>6845</td>\n",
       "    </tr>\n",
       "  </tbody>\n",
       "</table>\n",
       "<p>566 rows × 12 columns</p>\n",
       "</div>"
      ],
      "text/plain": [
       "                       nom  nbre_interv  mean_length sexe num_deptmt  \\\n",
       "0      Christophe Leclercq            2    30.000000    H         62   \n",
       "1         Bernard Brochand            3     4.000000    H         06   \n",
       "2         Stéphane Vojetta            3    56.000000    H        999   \n",
       "3           Edith Audibert            3    65.000000    F         83   \n",
       "4    Catherine Daufès-Roux            4    26.750000    F         30   \n",
       "..                     ...          ...          ...  ...        ...   \n",
       "561        Sébastien Jumel         5494    24.994175    H         76   \n",
       "562      Fabien Di Filippo         6247    14.311029    H         57   \n",
       "563         Ugo Bernalicis         6576    33.652676    H         59   \n",
       "564         Pierre Cordier         6644     8.520620    H         08   \n",
       "565         Thibault Bazin         6758    26.147381    H         54   \n",
       "\n",
       "          parti_ratt_financier   id_an  \\\n",
       "0      La République en Marche  784314   \n",
       "1             Les Républicains  223837   \n",
       "2      La République en Marche  721170   \n",
       "3             Les Républicains  721666   \n",
       "4      La République en Marche  719484   \n",
       "..                         ...     ...   \n",
       "561  Parti communiste français  722202   \n",
       "562           Les Républicains  720386   \n",
       "563        La France Insoumise  720430   \n",
       "564           Les Républicains  718850   \n",
       "565           Les Républicains  642847   \n",
       "\n",
       "                                                  mots  nbre_mots  \\\n",
       "0    [enfant, situation, handicap, scolariser, mili...         28   \n",
       "1                            [acte, entrée, maîtriser]          3   \n",
       "2    [associer, question, représentant, compatriote...         81   \n",
       "3    [question, adress, état, charger, tourisme, fr...         96   \n",
       "4    [souhaite, adresser, opposition, directrice, é...         53   \n",
       "..                                                 ...        ...   \n",
       "561  [premier, voici, vent, fraîcheur, censé, dépou...      56685   \n",
       "562  [vrai, comprend, volonté, france, insoumis, ob...      34493   \n",
       "563  [état, vouloir, abord, associer, propos, tenir...      89624   \n",
       "564  [bravo, juste, oui, dos, collectivité, local, ...      19817   \n",
       "565  [trop, court, cravate, importe, irresponsable,...      73224   \n",
       "\n",
       "                                             freq_mots  \\\n",
       "0    {'enfant': 2, 'situation': 1, 'handicap': 2, '...   \n",
       "1             {'acte': 1, 'entrée': 1, 'maîtriser': 1}   \n",
       "2    {'associer': 1, 'question': 1, 'représentant':...   \n",
       "3    {'question': 2, 'adress': 1, 'état': 2, 'charg...   \n",
       "4    {'souhaite': 1, 'adresser': 1, 'opposition': 1...   \n",
       "..                                                 ...   \n",
       "561  {'premier': 130, 'voici': 9, 'vent': 6, 'censé...   \n",
       "562  {'vrai': 101, 'comprend': 7, 'volonté': 19, 'f...   \n",
       "563  {'état': 402, 'vouloir': 435, 'abord': 56, 'as...   \n",
       "564  {'bravo': 62, 'juste': 116, 'oui': 260, 'dos':...   \n",
       "565  {'trop': 63, 'court': 20, 'cravate': 3, 'impor...   \n",
       "\n",
       "                                            liste_mots  nbre_freq_mots  \n",
       "0    [enfant, handicap, situation, scolariser, mili...              26  \n",
       "1                            [acte, entrée, maîtriser]               3  \n",
       "2    [français, france, international, hors, commer...              62  \n",
       "3    [tourisme, question, état, français, falloir, ...              78  \n",
       "4    [école, vaccinal, souhaite, adresser, oppositi...              49  \n",
       "..                                                 ...             ...  \n",
       "561  [dire, falloir, vouloir, état, territoire, pre...            6632  \n",
       "562  [dire, falloir, question, vouloir, oui, devoir...            5393  \n",
       "563  [dire, falloir, non, savoir, vouloir, autre, d...            7347  \n",
       "564  [dire, oui, falloir, question, raison, vrai, b...            3874  \n",
       "565  [falloir, devoir, dire, question, état, raison...            6845  \n",
       "\n",
       "[566 rows x 12 columns]"
      ]
     },
     "execution_count": 4,
     "metadata": {},
     "output_type": "execute_result"
    }
   ],
   "source": [
    "interv_mps"
   ]
  },
  {
   "cell_type": "code",
   "execution_count": 5,
   "id": "b3190fac",
   "metadata": {
    "ExecuteTime": {
     "end_time": "2022-02-11T23:24:44.500802Z",
     "start_time": "2022-02-11T23:24:44.445979Z"
    }
   },
   "outputs": [
    {
     "name": "stderr",
     "output_type": "stream",
     "text": [
      "/Users/louispro/.pyenv/versions/3.8.12/envs/lewagon_current/lib/python3.8/site-packages/pandas/core/frame.py:5039: SettingWithCopyWarning: \n",
      "A value is trying to be set on a copy of a slice from a DataFrame\n",
      "\n",
      "See the caveats in the documentation: https://pandas.pydata.org/pandas-docs/stable/user_guide/indexing.html#returning-a-view-versus-a-copy\n",
      "  return super().rename(\n"
     ]
    },
    {
     "data": {
      "text/html": [
       "<div>\n",
       "<style scoped>\n",
       "    .dataframe tbody tr th:only-of-type {\n",
       "        vertical-align: middle;\n",
       "    }\n",
       "\n",
       "    .dataframe tbody tr th {\n",
       "        vertical-align: top;\n",
       "    }\n",
       "\n",
       "    .dataframe thead th {\n",
       "        text-align: right;\n",
       "    }\n",
       "</style>\n",
       "<table border=\"1\" class=\"dataframe\">\n",
       "  <thead>\n",
       "    <tr style=\"text-align: right;\">\n",
       "      <th></th>\n",
       "      <th>nom</th>\n",
       "      <th>sexe</th>\n",
       "      <th>parti</th>\n",
       "      <th>liste_mots</th>\n",
       "    </tr>\n",
       "  </thead>\n",
       "  <tbody>\n",
       "    <tr>\n",
       "      <th>0</th>\n",
       "      <td>Christophe Leclercq</td>\n",
       "      <td>H</td>\n",
       "      <td>La République en Marche</td>\n",
       "      <td>[enfant, handicap, situation, scolariser, mili...</td>\n",
       "    </tr>\n",
       "    <tr>\n",
       "      <th>1</th>\n",
       "      <td>Bernard Brochand</td>\n",
       "      <td>H</td>\n",
       "      <td>Les Républicains</td>\n",
       "      <td>[acte, entrée, maîtriser]</td>\n",
       "    </tr>\n",
       "    <tr>\n",
       "      <th>2</th>\n",
       "      <td>Stéphane Vojetta</td>\n",
       "      <td>H</td>\n",
       "      <td>La République en Marche</td>\n",
       "      <td>[français, france, international, hors, commer...</td>\n",
       "    </tr>\n",
       "    <tr>\n",
       "      <th>3</th>\n",
       "      <td>Edith Audibert</td>\n",
       "      <td>F</td>\n",
       "      <td>Les Républicains</td>\n",
       "      <td>[tourisme, question, état, français, falloir, ...</td>\n",
       "    </tr>\n",
       "    <tr>\n",
       "      <th>4</th>\n",
       "      <td>Catherine Daufès-Roux</td>\n",
       "      <td>F</td>\n",
       "      <td>La République en Marche</td>\n",
       "      <td>[école, vaccinal, souhaite, adresser, oppositi...</td>\n",
       "    </tr>\n",
       "    <tr>\n",
       "      <th>...</th>\n",
       "      <td>...</td>\n",
       "      <td>...</td>\n",
       "      <td>...</td>\n",
       "      <td>...</td>\n",
       "    </tr>\n",
       "    <tr>\n",
       "      <th>561</th>\n",
       "      <td>Sébastien Jumel</td>\n",
       "      <td>H</td>\n",
       "      <td>Parti communiste français</td>\n",
       "      <td>[dire, falloir, vouloir, état, territoire, pre...</td>\n",
       "    </tr>\n",
       "    <tr>\n",
       "      <th>562</th>\n",
       "      <td>Fabien Di Filippo</td>\n",
       "      <td>H</td>\n",
       "      <td>Les Républicains</td>\n",
       "      <td>[dire, falloir, question, vouloir, oui, devoir...</td>\n",
       "    </tr>\n",
       "    <tr>\n",
       "      <th>563</th>\n",
       "      <td>Ugo Bernalicis</td>\n",
       "      <td>H</td>\n",
       "      <td>La France Insoumise</td>\n",
       "      <td>[dire, falloir, non, savoir, vouloir, autre, d...</td>\n",
       "    </tr>\n",
       "    <tr>\n",
       "      <th>564</th>\n",
       "      <td>Pierre Cordier</td>\n",
       "      <td>H</td>\n",
       "      <td>Les Républicains</td>\n",
       "      <td>[dire, oui, falloir, question, raison, vrai, b...</td>\n",
       "    </tr>\n",
       "    <tr>\n",
       "      <th>565</th>\n",
       "      <td>Thibault Bazin</td>\n",
       "      <td>H</td>\n",
       "      <td>Les Républicains</td>\n",
       "      <td>[falloir, devoir, dire, question, état, raison...</td>\n",
       "    </tr>\n",
       "  </tbody>\n",
       "</table>\n",
       "<p>566 rows × 4 columns</p>\n",
       "</div>"
      ],
      "text/plain": [
       "                       nom sexe                      parti  \\\n",
       "0      Christophe Leclercq    H    La République en Marche   \n",
       "1         Bernard Brochand    H           Les Républicains   \n",
       "2         Stéphane Vojetta    H    La République en Marche   \n",
       "3           Edith Audibert    F           Les Républicains   \n",
       "4    Catherine Daufès-Roux    F    La République en Marche   \n",
       "..                     ...  ...                        ...   \n",
       "561        Sébastien Jumel    H  Parti communiste français   \n",
       "562      Fabien Di Filippo    H           Les Républicains   \n",
       "563         Ugo Bernalicis    H        La France Insoumise   \n",
       "564         Pierre Cordier    H           Les Républicains   \n",
       "565         Thibault Bazin    H           Les Républicains   \n",
       "\n",
       "                                            liste_mots  \n",
       "0    [enfant, handicap, situation, scolariser, mili...  \n",
       "1                            [acte, entrée, maîtriser]  \n",
       "2    [français, france, international, hors, commer...  \n",
       "3    [tourisme, question, état, français, falloir, ...  \n",
       "4    [école, vaccinal, souhaite, adresser, oppositi...  \n",
       "..                                                 ...  \n",
       "561  [dire, falloir, vouloir, état, territoire, pre...  \n",
       "562  [dire, falloir, question, vouloir, oui, devoir...  \n",
       "563  [dire, falloir, non, savoir, vouloir, autre, d...  \n",
       "564  [dire, oui, falloir, question, raison, vrai, b...  \n",
       "565  [falloir, devoir, dire, question, état, raison...  \n",
       "\n",
       "[566 rows x 4 columns]"
      ]
     },
     "execution_count": 5,
     "metadata": {},
     "output_type": "execute_result"
    }
   ],
   "source": [
    "df_interv_mps = interv_mps[['nom', 'sexe', 'parti_ratt_financier', 'liste_mots']]\n",
    "df_interv_mps.rename(columns={'parti_ratt_financier':'parti'}, inplace=True)\n",
    "df_interv_mps"
   ]
  },
  {
   "cell_type": "code",
   "execution_count": 6,
   "id": "b66be215",
   "metadata": {
    "ExecuteTime": {
     "end_time": "2022-02-11T23:25:04.298597Z",
     "start_time": "2022-02-11T23:25:04.293206Z"
    }
   },
   "outputs": [],
   "source": [
    "# Choix de l'axe d'analyse\n",
    "analyses = ['sexe', 'parti']\n",
    "analyse = analyses[1]"
   ]
  },
  {
   "cell_type": "code",
   "execution_count": 7,
   "id": "f7333eb7",
   "metadata": {
    "ExecuteTime": {
     "end_time": "2022-02-11T23:25:16.766896Z",
     "start_time": "2022-02-11T23:25:16.698651Z"
    }
   },
   "outputs": [
    {
     "name": "stderr",
     "output_type": "stream",
     "text": [
      "/var/folders/32/9d66kzz52dz4b0_b57djs_nr0000gn/T/ipykernel_6101/719466966.py:2: SettingWithCopyWarning: \n",
      "A value is trying to be set on a copy of a slice from a DataFrame.\n",
      "Try using .loc[row_indexer,col_indexer] = value instead\n",
      "\n",
      "See the caveats in the documentation: https://pandas.pydata.org/pandas-docs/stable/user_guide/indexing.html#returning-a-view-versus-a-copy\n",
      "  df_interv_mps[analyse_bis] = pd.factorize(df_interv_mps[analyse])[0]\n"
     ]
    },
    {
     "data": {
      "text/html": [
       "<div>\n",
       "<style scoped>\n",
       "    .dataframe tbody tr th:only-of-type {\n",
       "        vertical-align: middle;\n",
       "    }\n",
       "\n",
       "    .dataframe tbody tr th {\n",
       "        vertical-align: top;\n",
       "    }\n",
       "\n",
       "    .dataframe thead th {\n",
       "        text-align: right;\n",
       "    }\n",
       "</style>\n",
       "<table border=\"1\" class=\"dataframe\">\n",
       "  <thead>\n",
       "    <tr style=\"text-align: right;\">\n",
       "      <th></th>\n",
       "      <th>nom</th>\n",
       "      <th>sexe</th>\n",
       "      <th>parti</th>\n",
       "      <th>liste_mots</th>\n",
       "      <th>parti_bis</th>\n",
       "    </tr>\n",
       "  </thead>\n",
       "  <tbody>\n",
       "    <tr>\n",
       "      <th>0</th>\n",
       "      <td>Christophe Leclercq</td>\n",
       "      <td>H</td>\n",
       "      <td>La République en Marche</td>\n",
       "      <td>[enfant, handicap, situation, scolariser, mili...</td>\n",
       "      <td>0</td>\n",
       "    </tr>\n",
       "    <tr>\n",
       "      <th>1</th>\n",
       "      <td>Bernard Brochand</td>\n",
       "      <td>H</td>\n",
       "      <td>Les Républicains</td>\n",
       "      <td>[acte, entrée, maîtriser]</td>\n",
       "      <td>1</td>\n",
       "    </tr>\n",
       "    <tr>\n",
       "      <th>2</th>\n",
       "      <td>Stéphane Vojetta</td>\n",
       "      <td>H</td>\n",
       "      <td>La République en Marche</td>\n",
       "      <td>[français, france, international, hors, commer...</td>\n",
       "      <td>0</td>\n",
       "    </tr>\n",
       "    <tr>\n",
       "      <th>3</th>\n",
       "      <td>Edith Audibert</td>\n",
       "      <td>F</td>\n",
       "      <td>Les Républicains</td>\n",
       "      <td>[tourisme, question, état, français, falloir, ...</td>\n",
       "      <td>1</td>\n",
       "    </tr>\n",
       "    <tr>\n",
       "      <th>4</th>\n",
       "      <td>Catherine Daufès-Roux</td>\n",
       "      <td>F</td>\n",
       "      <td>La République en Marche</td>\n",
       "      <td>[école, vaccinal, souhaite, adresser, oppositi...</td>\n",
       "      <td>0</td>\n",
       "    </tr>\n",
       "    <tr>\n",
       "      <th>...</th>\n",
       "      <td>...</td>\n",
       "      <td>...</td>\n",
       "      <td>...</td>\n",
       "      <td>...</td>\n",
       "      <td>...</td>\n",
       "    </tr>\n",
       "    <tr>\n",
       "      <th>561</th>\n",
       "      <td>Sébastien Jumel</td>\n",
       "      <td>H</td>\n",
       "      <td>Parti communiste français</td>\n",
       "      <td>[dire, falloir, vouloir, état, territoire, pre...</td>\n",
       "      <td>7</td>\n",
       "    </tr>\n",
       "    <tr>\n",
       "      <th>562</th>\n",
       "      <td>Fabien Di Filippo</td>\n",
       "      <td>H</td>\n",
       "      <td>Les Républicains</td>\n",
       "      <td>[dire, falloir, question, vouloir, oui, devoir...</td>\n",
       "      <td>1</td>\n",
       "    </tr>\n",
       "    <tr>\n",
       "      <th>563</th>\n",
       "      <td>Ugo Bernalicis</td>\n",
       "      <td>H</td>\n",
       "      <td>La France Insoumise</td>\n",
       "      <td>[dire, falloir, non, savoir, vouloir, autre, d...</td>\n",
       "      <td>17</td>\n",
       "    </tr>\n",
       "    <tr>\n",
       "      <th>564</th>\n",
       "      <td>Pierre Cordier</td>\n",
       "      <td>H</td>\n",
       "      <td>Les Républicains</td>\n",
       "      <td>[dire, oui, falloir, question, raison, vrai, b...</td>\n",
       "      <td>1</td>\n",
       "    </tr>\n",
       "    <tr>\n",
       "      <th>565</th>\n",
       "      <td>Thibault Bazin</td>\n",
       "      <td>H</td>\n",
       "      <td>Les Républicains</td>\n",
       "      <td>[falloir, devoir, dire, question, état, raison...</td>\n",
       "      <td>1</td>\n",
       "    </tr>\n",
       "  </tbody>\n",
       "</table>\n",
       "<p>566 rows × 5 columns</p>\n",
       "</div>"
      ],
      "text/plain": [
       "                       nom sexe                      parti  \\\n",
       "0      Christophe Leclercq    H    La République en Marche   \n",
       "1         Bernard Brochand    H           Les Républicains   \n",
       "2         Stéphane Vojetta    H    La République en Marche   \n",
       "3           Edith Audibert    F           Les Républicains   \n",
       "4    Catherine Daufès-Roux    F    La République en Marche   \n",
       "..                     ...  ...                        ...   \n",
       "561        Sébastien Jumel    H  Parti communiste français   \n",
       "562      Fabien Di Filippo    H           Les Républicains   \n",
       "563         Ugo Bernalicis    H        La France Insoumise   \n",
       "564         Pierre Cordier    H           Les Républicains   \n",
       "565         Thibault Bazin    H           Les Républicains   \n",
       "\n",
       "                                            liste_mots  parti_bis  \n",
       "0    [enfant, handicap, situation, scolariser, mili...          0  \n",
       "1                            [acte, entrée, maîtriser]          1  \n",
       "2    [français, france, international, hors, commer...          0  \n",
       "3    [tourisme, question, état, français, falloir, ...          1  \n",
       "4    [école, vaccinal, souhaite, adresser, oppositi...          0  \n",
       "..                                                 ...        ...  \n",
       "561  [dire, falloir, vouloir, état, territoire, pre...          7  \n",
       "562  [dire, falloir, question, vouloir, oui, devoir...          1  \n",
       "563  [dire, falloir, non, savoir, vouloir, autre, d...         17  \n",
       "564  [dire, oui, falloir, question, raison, vrai, b...          1  \n",
       "565  [falloir, devoir, dire, question, état, raison...          1  \n",
       "\n",
       "[566 rows x 5 columns]"
      ]
     },
     "execution_count": 7,
     "metadata": {},
     "output_type": "execute_result"
    }
   ],
   "source": [
    "analyse_bis = analyse + '_bis'\n",
    "df_interv_mps[analyse_bis] = pd.factorize(df_interv_mps[analyse])[0]\n",
    "df_interv_mps"
   ]
  },
  {
   "cell_type": "code",
   "execution_count": 8,
   "id": "fd2e7690",
   "metadata": {
    "ExecuteTime": {
     "end_time": "2022-02-11T23:25:38.729392Z",
     "start_time": "2022-02-11T23:25:30.213178Z"
    }
   },
   "outputs": [
    {
     "data": {
      "text/plain": [
       "(566, 19)"
      ]
     },
     "execution_count": 8,
     "metadata": {},
     "output_type": "execute_result"
    }
   ],
   "source": [
    "from tensorflow.keras.utils import to_categorical\n",
    "y_cat = to_categorical(df_interv_mps[analyse_bis])\n",
    "y = np.array(y_cat)\n",
    "y.shape"
   ]
  },
  {
   "cell_type": "code",
   "execution_count": 9,
   "id": "4d8261bc",
   "metadata": {
    "ExecuteTime": {
     "end_time": "2022-02-11T23:25:44.214735Z",
     "start_time": "2022-02-11T23:25:44.206892Z"
    }
   },
   "outputs": [],
   "source": [
    "X = np.array(df_interv_mps['liste_mots'])"
   ]
  },
  {
   "cell_type": "code",
   "execution_count": 10,
   "id": "16b336b1",
   "metadata": {
    "ExecuteTime": {
     "end_time": "2022-02-11T23:25:49.662368Z",
     "start_time": "2022-02-11T23:25:48.483800Z"
    }
   },
   "outputs": [],
   "source": [
    "from sklearn.model_selection import train_test_split\n",
    "X_train, X_test, y_train, y_test = train_test_split(X, y, train_size=0.7)"
   ]
  },
  {
   "cell_type": "code",
   "execution_count": 11,
   "id": "63a81a4a",
   "metadata": {
    "ExecuteTime": {
     "end_time": "2022-02-11T23:25:58.416394Z",
     "start_time": "2022-02-11T23:25:57.806532Z"
    }
   },
   "outputs": [],
   "source": [
    "def get_number_of_occurences(sentences):\n",
    "    occurences = {}\n",
    "    for s in sentences:\n",
    "        for w in s:\n",
    "            if w not in occurences:\n",
    "                occurences[w] = 0\n",
    "            occurences[w] += 1\n",
    "    return occurences\n",
    "\n",
    "def keep_frequent_words(X, occurences, min_occurence):\n",
    "    \n",
    "    frequent_words = {k:v for k, v in occurences.items() if v >= min_occurence}\n",
    "    output_sentences = [[word for word in sentence if word in frequent_words] for sentence in X]\n",
    "    \n",
    "    return output_sentences\n",
    "    \n",
    "# –– Data clearning\n",
    "occurences = get_number_of_occurences(X_train)\n",
    "X_clean_train = keep_frequent_words(X_train, occurences, min_occurence=10)\n",
    "X_clean_test = keep_frequent_words(X_test, occurences, min_occurence=10)"
   ]
  },
  {
   "cell_type": "code",
   "execution_count": 12,
   "id": "97b0786c",
   "metadata": {
    "ExecuteTime": {
     "end_time": "2022-02-11T23:26:07.976895Z",
     "start_time": "2022-02-11T23:26:07.178118Z"
    }
   },
   "outputs": [],
   "source": [
    "from tensorflow.keras.preprocessing.text import Tokenizer\n",
    "tk = Tokenizer()\n",
    "tk.fit_on_texts(X_clean_train)\n",
    "vocab_size = len(tk.word_index)"
   ]
  },
  {
   "cell_type": "code",
   "execution_count": 13,
   "id": "6c889666",
   "metadata": {
    "ExecuteTime": {
     "end_time": "2022-02-11T23:26:16.304285Z",
     "start_time": "2022-02-11T23:26:16.288857Z"
    }
   },
   "outputs": [
    {
     "data": {
      "text/plain": [
       "11730"
      ]
     },
     "execution_count": 13,
     "metadata": {},
     "output_type": "execute_result"
    }
   ],
   "source": [
    "vocab_size"
   ]
  },
  {
   "cell_type": "code",
   "execution_count": 14,
   "id": "0a4645db",
   "metadata": {
    "ExecuteTime": {
     "end_time": "2022-02-11T23:26:24.903420Z",
     "start_time": "2022-02-11T23:26:24.895226Z"
    }
   },
   "outputs": [],
   "source": [
    "from tensorflow.keras.preprocessing.sequence import pad_sequences\n",
    "maxlen = 40"
   ]
  },
  {
   "cell_type": "code",
   "execution_count": 15,
   "id": "0fecab70",
   "metadata": {
    "ExecuteTime": {
     "end_time": "2022-02-11T23:26:34.296537Z",
     "start_time": "2022-02-11T23:26:33.384995Z"
    }
   },
   "outputs": [],
   "source": [
    "X_token_train = tk.texts_to_sequences(X_train)\n",
    "X_token_test = tk.texts_to_sequences(X_test)\n",
    "X_train_pad = pad_sequences(X_token_train, maxlen=maxlen, dtype='float32', padding='post')\n",
    "X_test_pad = pad_sequences(X_token_test, maxlen=maxlen, dtype='float32', padding='post')"
   ]
  },
  {
   "cell_type": "code",
   "execution_count": 16,
   "id": "e9485204",
   "metadata": {
    "ExecuteTime": {
     "end_time": "2022-02-11T23:26:45.441778Z",
     "start_time": "2022-02-11T23:26:44.299544Z"
    }
   },
   "outputs": [
    {
     "name": "stderr",
     "output_type": "stream",
     "text": [
      "2022-02-12 00:26:44.313011: I tensorflow/core/platform/cpu_feature_guard.cc:151] This TensorFlow binary is optimized with oneAPI Deep Neural Network Library (oneDNN) to use the following CPU instructions in performance-critical operations:  AVX2 FMA\n",
      "To enable them in other operations, rebuild TensorFlow with the appropriate compiler flags.\n"
     ]
    },
    {
     "name": "stdout",
     "output_type": "stream",
     "text": [
      "Model: \"sequential\"\n",
      "_________________________________________________________________\n",
      " Layer (type)                Output Shape              Param #   \n",
      "=================================================================\n",
      " embedding (Embedding)       (None, 40, 100)           1173100   \n",
      "                                                                 \n",
      " lstm (LSTM)                 (None, 20)                9680      \n",
      "                                                                 \n",
      " dense (Dense)               (None, 19)                399       \n",
      "                                                                 \n",
      "=================================================================\n",
      "Total params: 1,183,179\n",
      "Trainable params: 1,183,179\n",
      "Non-trainable params: 0\n",
      "_________________________________________________________________\n"
     ]
    }
   ],
   "source": [
    "from tensorflow.keras import layers, Sequential\n",
    "# Size of your embedding space = size to represent each word\n",
    "embedding_size = 100\n",
    "model = Sequential()\n",
    "model.add(layers.Embedding(\n",
    "input_dim=vocab_size+1, # +1 for the 0 padding\n",
    "input_length=maxlen, # Max_sentence_length (optional, for model summary)\n",
    "output_dim=embedding_size,# 100\n",
    "mask_zero=True, # Included masking layer :)\n",
    "))\n",
    "model.add(layers.LSTM(20))\n",
    "if analyse == analyses[0]:\n",
    "    model.add(layers.Dense(2, activation=\"sigmoid\"))\n",
    "else:\n",
    "    model.add(layers.Dense(19, activation=\"softmax\"))\n",
    "model.summary()"
   ]
  },
  {
   "cell_type": "code",
   "execution_count": 17,
   "id": "fd0ed814",
   "metadata": {
    "ExecuteTime": {
     "end_time": "2022-02-11T23:26:57.387837Z",
     "start_time": "2022-02-11T23:26:57.367364Z"
    }
   },
   "outputs": [],
   "source": [
    "if analyse == analyses[0]:\n",
    "    model.compile(loss='binary_crossentropy',\n",
    "                  optimizer='adam',\n",
    "                  metrics='accuracy')\n",
    "else:\n",
    "    model.compile(loss='categorical_crossentropy',\n",
    "                  optimizer='adam',\n",
    "                  metrics='accuracy')"
   ]
  },
  {
   "cell_type": "code",
   "execution_count": 18,
   "id": "364aadde",
   "metadata": {
    "ExecuteTime": {
     "end_time": "2022-02-11T23:27:06.246345Z",
     "start_time": "2022-02-11T23:27:06.238585Z"
    }
   },
   "outputs": [],
   "source": [
    "from tensorflow.keras.callbacks import EarlyStopping \n",
    "es = EarlyStopping(patience=20, restore_best_weights=True)"
   ]
  },
  {
   "cell_type": "code",
   "execution_count": 19,
   "id": "9ca70814",
   "metadata": {
    "ExecuteTime": {
     "end_time": "2022-02-11T23:27:34.441714Z",
     "start_time": "2022-02-11T23:27:15.004909Z"
    }
   },
   "outputs": [
    {
     "name": "stdout",
     "output_type": "stream",
     "text": [
      "Epoch 1/100\n",
      "9/9 [==============================] - 7s 240ms/step - loss: 2.9326 - accuracy: 0.2274 - val_loss: 2.9148 - val_accuracy: 0.4538\n",
      "Epoch 2/100\n",
      "9/9 [==============================] - 0s 46ms/step - loss: 2.8653 - accuracy: 0.6390 - val_loss: 2.8668 - val_accuracy: 0.4958\n",
      "Epoch 3/100\n",
      "9/9 [==============================] - 0s 46ms/step - loss: 2.7559 - accuracy: 0.6101 - val_loss: 2.7515 - val_accuracy: 0.5042\n",
      "Epoch 4/100\n",
      "9/9 [==============================] - 0s 46ms/step - loss: 2.4618 - accuracy: 0.4946 - val_loss: 2.3332 - val_accuracy: 0.5042\n",
      "Epoch 5/100\n",
      "9/9 [==============================] - 0s 47ms/step - loss: 2.0382 - accuracy: 0.4729 - val_loss: 2.0155 - val_accuracy: 0.5042\n",
      "Epoch 6/100\n",
      "9/9 [==============================] - 0s 47ms/step - loss: 1.8286 - accuracy: 0.4729 - val_loss: 1.9024 - val_accuracy: 0.5042\n",
      "Epoch 7/100\n",
      "9/9 [==============================] - 0s 46ms/step - loss: 1.6162 - accuracy: 0.5126 - val_loss: 1.8485 - val_accuracy: 0.5042\n",
      "Epoch 8/100\n",
      "9/9 [==============================] - 0s 47ms/step - loss: 1.3913 - accuracy: 0.6209 - val_loss: 1.8072 - val_accuracy: 0.5042\n",
      "Epoch 9/100\n",
      "9/9 [==============================] - 0s 47ms/step - loss: 1.1790 - accuracy: 0.7906 - val_loss: 1.7902 - val_accuracy: 0.4874\n",
      "Epoch 10/100\n",
      "9/9 [==============================] - 0s 46ms/step - loss: 1.0224 - accuracy: 0.7942 - val_loss: 1.7962 - val_accuracy: 0.5042\n",
      "Epoch 11/100\n",
      "9/9 [==============================] - 0s 46ms/step - loss: 0.9113 - accuracy: 0.8556 - val_loss: 1.8491 - val_accuracy: 0.5210\n",
      "Epoch 12/100\n",
      "9/9 [==============================] - 0s 46ms/step - loss: 0.8197 - accuracy: 0.8628 - val_loss: 1.8403 - val_accuracy: 0.5126\n",
      "Epoch 13/100\n",
      "9/9 [==============================] - 0s 46ms/step - loss: 0.7511 - accuracy: 0.9134 - val_loss: 1.9345 - val_accuracy: 0.5294\n",
      "Epoch 14/100\n",
      "9/9 [==============================] - 0s 45ms/step - loss: 0.6912 - accuracy: 0.8953 - val_loss: 1.9514 - val_accuracy: 0.4622\n",
      "Epoch 15/100\n",
      "9/9 [==============================] - 0s 46ms/step - loss: 0.6452 - accuracy: 0.9097 - val_loss: 2.2117 - val_accuracy: 0.4958\n",
      "Epoch 16/100\n",
      "9/9 [==============================] - 1s 47ms/step - loss: 0.6018 - accuracy: 0.9025 - val_loss: 1.9471 - val_accuracy: 0.4958\n",
      "Epoch 17/100\n",
      "9/9 [==============================] - 0s 46ms/step - loss: 0.5575 - accuracy: 0.9242 - val_loss: 2.0280 - val_accuracy: 0.4706\n",
      "Epoch 18/100\n",
      "9/9 [==============================] - 0s 45ms/step - loss: 0.5135 - accuracy: 0.9278 - val_loss: 2.0797 - val_accuracy: 0.4790\n",
      "Epoch 19/100\n",
      "9/9 [==============================] - 0s 17ms/step - loss: 0.4725 - accuracy: 0.9350 - val_loss: 2.0900 - val_accuracy: 0.4790\n",
      "Epoch 20/100\n",
      "9/9 [==============================] - 1s 72ms/step - loss: 0.4340 - accuracy: 0.9458 - val_loss: 2.1243 - val_accuracy: 0.4706\n",
      "Epoch 21/100\n",
      "9/9 [==============================] - 1s 57ms/step - loss: 0.3998 - accuracy: 0.9422 - val_loss: 2.1641 - val_accuracy: 0.4790\n",
      "Epoch 22/100\n",
      "9/9 [==============================] - 1s 69ms/step - loss: 0.3672 - accuracy: 0.9422 - val_loss: 2.2177 - val_accuracy: 0.4622\n",
      "Epoch 23/100\n",
      "9/9 [==============================] - 1s 58ms/step - loss: 0.3383 - accuracy: 0.9458 - val_loss: 2.2421 - val_accuracy: 0.4622\n",
      "Epoch 24/100\n",
      "9/9 [==============================] - 1s 60ms/step - loss: 0.3111 - accuracy: 0.9603 - val_loss: 2.2898 - val_accuracy: 0.4706\n",
      "Epoch 25/100\n",
      "9/9 [==============================] - 1s 67ms/step - loss: 0.2862 - accuracy: 0.9567 - val_loss: 2.3206 - val_accuracy: 0.4538\n",
      "Epoch 26/100\n",
      "9/9 [==============================] - 0s 51ms/step - loss: 0.2620 - accuracy: 0.9639 - val_loss: 2.3441 - val_accuracy: 0.4454\n",
      "Epoch 27/100\n",
      "9/9 [==============================] - 1s 56ms/step - loss: 0.2463 - accuracy: 0.9747 - val_loss: 2.3494 - val_accuracy: 0.4286\n",
      "Epoch 28/100\n",
      "9/9 [==============================] - 0s 50ms/step - loss: 0.2236 - accuracy: 0.9783 - val_loss: 2.3616 - val_accuracy: 0.4370\n",
      "Epoch 29/100\n",
      "9/9 [==============================] - 1s 55ms/step - loss: 0.2060 - accuracy: 0.9819 - val_loss: 2.3704 - val_accuracy: 0.4538\n"
     ]
    }
   ],
   "source": [
    "history = model.fit(X_train_pad, y_train, \n",
    "                    epochs=100,\n",
    "                    batch_size=32,\n",
    "                    validation_split=0.3,\n",
    "                    callbacks=[es],\n",
    "                    verbose=1) "
   ]
  },
  {
   "cell_type": "code",
   "execution_count": 20,
   "id": "89226ac4",
   "metadata": {
    "ExecuteTime": {
     "end_time": "2022-02-11T23:27:53.916897Z",
     "start_time": "2022-02-11T23:27:51.979366Z"
    }
   },
   "outputs": [
    {
     "data": {
      "image/png": "[encoded data removed]",
      "text/plain": [
       "<Figure size 936x360 with 2 Axes>"
      ]
     },
     "metadata": {
      "needs_background": "light"
     },
     "output_type": "display_data"
    }
   ],
   "source": [
    "import matplotlib.pyplot as plt\n",
    "def plot_loss_accuracy(history, title=None):\n",
    "    fig, ax = plt.subplots(1,2, figsize=(13,5))\n",
    "    ax[0].plot(history.history['loss'])\n",
    "    ax[0].plot(history.history['val_loss'])\n",
    "    ax[0].set_title('Model loss')\n",
    "    ax[0].set_ylabel('Loss')\n",
    "    ax[0].set_xlabel('Epoch')\n",
    "    ax[0].set_ylim((0,3))\n",
    "    ax[0].legend(['Train', 'Test'], loc='best')\n",
    "    ax[1].plot(history.history['accuracy'])\n",
    "    ax[1].plot(history.history['val_accuracy'])\n",
    "    ax[1].set_title('Model Accuracy')\n",
    "    ax[1].set_ylabel('Accuracy')\n",
    "    ax[1].set_xlabel('Epoch')\n",
    "    ax[1].legend(['Train', 'Test'], loc='best')\n",
    "    ax[1].set_ylim((0,1))\n",
    "    if title:\n",
    "        fig.suptitle(title)\n",
    "plot_loss_accuracy(history, title=None)"
   ]
  },
  {
   "cell_type": "code",
   "execution_count": 21,
   "id": "bde70367",
   "metadata": {
    "ExecuteTime": {
     "end_time": "2022-02-11T23:28:02.963183Z",
     "start_time": "2022-02-11T23:28:02.832091Z"
    }
   },
   "outputs": [
    {
     "name": "stdout",
     "output_type": "stream",
     "text": [
      "6/6 [==============================] - 0s 9ms/step - loss: 1.8474 - accuracy: 0.4706\n"
     ]
    },
    {
     "data": {
      "text/plain": [
       "0.47058823704719543"
      ]
     },
     "execution_count": 21,
     "metadata": {},
     "output_type": "execute_result"
    }
   ],
   "source": [
    "score_test = model.evaluate(X_test_pad, y_test)[1]\n",
    "score_test"
   ]
  },
  {
   "cell_type": "code",
   "execution_count": null,
   "id": "e9f7e4ee",
   "metadata": {},
   "outputs": [],
   "source": []
  }
 ],
 "metadata": {
  "kernelspec": {
   "display_name": "Python 3 (ipykernel)",
   "language": "python",
   "name": "python3"
  },
  "language_info": {
   "codemirror_mode": {
    "name": "ipython",
    "version": 3
   },
   "file_extension": ".py",
   "mimetype": "text/x-python",
   "name": "python",
   "nbconvert_exporter": "python",
   "pygments_lexer": "ipython3",
   "version": "3.8.12"
  },
  "toc": {
   "base_numbering": 1,
   "nav_menu": {},
   "number_sections": true,
   "sideBar": true,
   "skip_h1_title": false,
   "title_cell": "Table of Contents",
   "title_sidebar": "Contents",
   "toc_cell": false,
   "toc_position": {},
   "toc_section_display": true,
   "toc_window_display": false
  },
  "varInspector": {
   "cols": {
    "lenName": 16,
    "lenType": 16,
    "lenVar": 40
   },
   "kernels_config": {
    "python": {
     "delete_cmd_postfix": "",
     "delete_cmd_prefix": "del ",
     "library": "var_list.py",
     "varRefreshCmd": "print(var_dic_list())"
    },
    "r": {
     "delete_cmd_postfix": ") ",
     "delete_cmd_prefix": "rm(",
     "library": "var_list.r",
     "varRefreshCmd": "cat(var_dic_list()) "
    }
   },
   "types_to_exclude": [
    "module",
    "function",
    "builtin_function_or_method",
    "instance",
    "_Feature"
   ],
   "window_display": false
  }
 },
 "nbformat": 4,
 "nbformat_minor": 5
}
