{
 "cells": [
  {
   "cell_type": "code",
   "execution_count": 1,
   "id": "687d0329",
   "metadata": {
    "ExecuteTime": {
     "end_time": "2022-01-25T19:27:06.151272Z",
     "start_time": "2022-01-25T19:27:05.367501Z"
    }
   },
   "outputs": [],
   "source": [
    "import pandas as pd\n",
    "import numpy as np"
   ]
  },
  {
   "cell_type": "code",
   "execution_count": 2,
   "id": "600e36b7",
   "metadata": {
    "ExecuteTime": {
     "end_time": "2022-01-25T19:27:07.424721Z",
     "start_time": "2022-01-25T19:27:06.154099Z"
    }
   },
   "outputs": [],
   "source": [
    "interv_mps = pd.read_pickle('data/mots_mps_bis.pickle')\n",
    "#interv_mps = pd.read_pickle('data/mots_mps.pickle')"
   ]
  },
  {
   "cell_type": "code",
   "execution_count": 3,
   "id": "12734619",
   "metadata": {
    "ExecuteTime": {
     "end_time": "2022-01-25T19:27:07.630626Z",
     "start_time": "2022-01-25T19:27:07.430789Z"
    }
   },
   "outputs": [
    {
     "data": {
      "text/html": [
       "<div>\n",
       "<style scoped>\n",
       "    .dataframe tbody tr th:only-of-type {\n",
       "        vertical-align: middle;\n",
       "    }\n",
       "\n",
       "    .dataframe tbody tr th {\n",
       "        vertical-align: top;\n",
       "    }\n",
       "\n",
       "    .dataframe thead th {\n",
       "        text-align: right;\n",
       "    }\n",
       "</style>\n",
       "<table border=\"1\" class=\"dataframe\">\n",
       "  <thead>\n",
       "    <tr style=\"text-align: right;\">\n",
       "      <th></th>\n",
       "      <th>nom</th>\n",
       "      <th>nbre_interv</th>\n",
       "      <th>mean_length</th>\n",
       "      <th>sexe</th>\n",
       "      <th>num_deptmt</th>\n",
       "      <th>parti_ratt_financier</th>\n",
       "      <th>id_an</th>\n",
       "      <th>mots</th>\n",
       "      <th>nbre_mots</th>\n",
       "      <th>freq_mots</th>\n",
       "      <th>liste_mots</th>\n",
       "      <th>nbre_freq_mots</th>\n",
       "    </tr>\n",
       "  </thead>\n",
       "  <tbody>\n",
       "    <tr>\n",
       "      <th>0</th>\n",
       "      <td>Christophe Leclercq</td>\n",
       "      <td>2</td>\n",
       "      <td>30.000000</td>\n",
       "      <td>H</td>\n",
       "      <td>62</td>\n",
       "      <td>La République en Marche</td>\n",
       "      <td>784314</td>\n",
       "      <td>[enfant, situation, handicap, scolariser, mili...</td>\n",
       "      <td>28</td>\n",
       "      <td>{'enfant': 2, 'situation': 1, 'handicap': 2, '...</td>\n",
       "      <td>[enfant, handicap, situation, scolariser, mili...</td>\n",
       "      <td>26</td>\n",
       "    </tr>\n",
       "    <tr>\n",
       "      <th>1</th>\n",
       "      <td>Edith Audibert</td>\n",
       "      <td>2</td>\n",
       "      <td>94.000000</td>\n",
       "      <td>F</td>\n",
       "      <td>83</td>\n",
       "      <td>Les Républicains</td>\n",
       "      <td>721666</td>\n",
       "      <td>[question, adress, état, charger, tourisme, fr...</td>\n",
       "      <td>94</td>\n",
       "      <td>{'question': 2, 'adress': 1, 'état': 2, 'charg...</td>\n",
       "      <td>[tourisme, question, état, français, falloir, ...</td>\n",
       "      <td>76</td>\n",
       "    </tr>\n",
       "    <tr>\n",
       "      <th>2</th>\n",
       "      <td>Bernard Brochand</td>\n",
       "      <td>3</td>\n",
       "      <td>4.000000</td>\n",
       "      <td>H</td>\n",
       "      <td>06</td>\n",
       "      <td>Les Républicains</td>\n",
       "      <td>223837</td>\n",
       "      <td>[acte, entrée, maîtriser]</td>\n",
       "      <td>3</td>\n",
       "      <td>{'acte': 1, 'entrée': 1, 'maîtriser': 1}</td>\n",
       "      <td>[acte, entrée, maîtriser]</td>\n",
       "      <td>3</td>\n",
       "    </tr>\n",
       "    <tr>\n",
       "      <th>3</th>\n",
       "      <td>Stéphane Vojetta</td>\n",
       "      <td>3</td>\n",
       "      <td>56.000000</td>\n",
       "      <td>H</td>\n",
       "      <td>999</td>\n",
       "      <td>La République en Marche</td>\n",
       "      <td>721170</td>\n",
       "      <td>[associer, question, représentant, compatriote...</td>\n",
       "      <td>81</td>\n",
       "      <td>{'associer': 1, 'question': 1, 'représentant':...</td>\n",
       "      <td>[français, france, international, hors, commer...</td>\n",
       "      <td>62</td>\n",
       "    </tr>\n",
       "    <tr>\n",
       "      <th>4</th>\n",
       "      <td>Françoise Ballet-Blu</td>\n",
       "      <td>4</td>\n",
       "      <td>102.500000</td>\n",
       "      <td>F</td>\n",
       "      <td>86</td>\n",
       "      <td>La République en Marche</td>\n",
       "      <td>722082</td>\n",
       "      <td>[nouvellement, députer, premier, circonscripti...</td>\n",
       "      <td>207</td>\n",
       "      <td>{'nouvellement': 1, 'députer': 1, 'premier': 1...</td>\n",
       "      <td>[national, européen, défense, militaire, profe...</td>\n",
       "      <td>175</td>\n",
       "    </tr>\n",
       "    <tr>\n",
       "      <th>...</th>\n",
       "      <td>...</td>\n",
       "      <td>...</td>\n",
       "      <td>...</td>\n",
       "      <td>...</td>\n",
       "      <td>...</td>\n",
       "      <td>...</td>\n",
       "      <td>...</td>\n",
       "      <td>...</td>\n",
       "      <td>...</td>\n",
       "      <td>...</td>\n",
       "      <td>...</td>\n",
       "      <td>...</td>\n",
       "    </tr>\n",
       "    <tr>\n",
       "      <th>561</th>\n",
       "      <td>Sébastien Jumel</td>\n",
       "      <td>5494</td>\n",
       "      <td>24.994175</td>\n",
       "      <td>H</td>\n",
       "      <td>76</td>\n",
       "      <td>Parti communiste français</td>\n",
       "      <td>722202</td>\n",
       "      <td>[premier, voici, vent, fraîcheur, censé, dépou...</td>\n",
       "      <td>56685</td>\n",
       "      <td>{'premier': 130, 'voici': 9, 'vent': 6, 'censé...</td>\n",
       "      <td>[dire, falloir, vouloir, état, territoire, pre...</td>\n",
       "      <td>6626</td>\n",
       "    </tr>\n",
       "    <tr>\n",
       "      <th>562</th>\n",
       "      <td>Fabien Di Filippo</td>\n",
       "      <td>6184</td>\n",
       "      <td>14.263745</td>\n",
       "      <td>H</td>\n",
       "      <td>57</td>\n",
       "      <td>Les Républicains</td>\n",
       "      <td>720386</td>\n",
       "      <td>[vrai, comprend, volonté, france, insoumis, ob...</td>\n",
       "      <td>33983</td>\n",
       "      <td>{'vrai': 99, 'comprend': 7, 'volonté': 19, 'fr...</td>\n",
       "      <td>[dire, falloir, question, vouloir, oui, devoir...</td>\n",
       "      <td>5350</td>\n",
       "    </tr>\n",
       "    <tr>\n",
       "      <th>563</th>\n",
       "      <td>Ugo Bernalicis</td>\n",
       "      <td>6549</td>\n",
       "      <td>33.668652</td>\n",
       "      <td>H</td>\n",
       "      <td>59</td>\n",
       "      <td>La France Insoumise</td>\n",
       "      <td>720430</td>\n",
       "      <td>[état, vouloir, abord, associer, propos, tenir...</td>\n",
       "      <td>89305</td>\n",
       "      <td>{'état': 399, 'vouloir': 433, 'abord': 56, 'as...</td>\n",
       "      <td>[dire, falloir, non, savoir, vouloir, autre, d...</td>\n",
       "      <td>7320</td>\n",
       "    </tr>\n",
       "    <tr>\n",
       "      <th>564</th>\n",
       "      <td>Pierre Cordier</td>\n",
       "      <td>6607</td>\n",
       "      <td>8.513092</td>\n",
       "      <td>H</td>\n",
       "      <td>08</td>\n",
       "      <td>Les Républicains</td>\n",
       "      <td>718850</td>\n",
       "      <td>[bravo, juste, oui, dos, collectivité, local, ...</td>\n",
       "      <td>19689</td>\n",
       "      <td>{'bravo': 62, 'juste': 116, 'oui': 257, 'dos':...</td>\n",
       "      <td>[dire, oui, falloir, question, raison, vrai, b...</td>\n",
       "      <td>3855</td>\n",
       "    </tr>\n",
       "    <tr>\n",
       "      <th>565</th>\n",
       "      <td>Thibault Bazin</td>\n",
       "      <td>6712</td>\n",
       "      <td>26.141091</td>\n",
       "      <td>H</td>\n",
       "      <td>54</td>\n",
       "      <td>Les Républicains</td>\n",
       "      <td>642847</td>\n",
       "      <td>[trop, court, cravate, importe, irresponsable,...</td>\n",
       "      <td>72697</td>\n",
       "      <td>{'trop': 62, 'court': 20, 'cravate': 3, 'impor...</td>\n",
       "      <td>[falloir, devoir, dire, question, état, raison...</td>\n",
       "      <td>6819</td>\n",
       "    </tr>\n",
       "  </tbody>\n",
       "</table>\n",
       "<p>566 rows × 12 columns</p>\n",
       "</div>"
      ],
      "text/plain": [
       "                      nom  nbre_interv  mean_length sexe num_deptmt  \\\n",
       "0     Christophe Leclercq            2    30.000000    H         62   \n",
       "1          Edith Audibert            2    94.000000    F         83   \n",
       "2        Bernard Brochand            3     4.000000    H         06   \n",
       "3        Stéphane Vojetta            3    56.000000    H        999   \n",
       "4    Françoise Ballet-Blu            4   102.500000    F         86   \n",
       "..                    ...          ...          ...  ...        ...   \n",
       "561       Sébastien Jumel         5494    24.994175    H         76   \n",
       "562     Fabien Di Filippo         6184    14.263745    H         57   \n",
       "563        Ugo Bernalicis         6549    33.668652    H         59   \n",
       "564        Pierre Cordier         6607     8.513092    H         08   \n",
       "565        Thibault Bazin         6712    26.141091    H         54   \n",
       "\n",
       "          parti_ratt_financier   id_an  \\\n",
       "0      La République en Marche  784314   \n",
       "1             Les Républicains  721666   \n",
       "2             Les Républicains  223837   \n",
       "3      La République en Marche  721170   \n",
       "4      La République en Marche  722082   \n",
       "..                         ...     ...   \n",
       "561  Parti communiste français  722202   \n",
       "562           Les Républicains  720386   \n",
       "563        La France Insoumise  720430   \n",
       "564           Les Républicains  718850   \n",
       "565           Les Républicains  642847   \n",
       "\n",
       "                                                  mots  nbre_mots  \\\n",
       "0    [enfant, situation, handicap, scolariser, mili...         28   \n",
       "1    [question, adress, état, charger, tourisme, fr...         94   \n",
       "2                            [acte, entrée, maîtriser]          3   \n",
       "3    [associer, question, représentant, compatriote...         81   \n",
       "4    [nouvellement, députer, premier, circonscripti...        207   \n",
       "..                                                 ...        ...   \n",
       "561  [premier, voici, vent, fraîcheur, censé, dépou...      56685   \n",
       "562  [vrai, comprend, volonté, france, insoumis, ob...      33983   \n",
       "563  [état, vouloir, abord, associer, propos, tenir...      89305   \n",
       "564  [bravo, juste, oui, dos, collectivité, local, ...      19689   \n",
       "565  [trop, court, cravate, importe, irresponsable,...      72697   \n",
       "\n",
       "                                             freq_mots  \\\n",
       "0    {'enfant': 2, 'situation': 1, 'handicap': 2, '...   \n",
       "1    {'question': 2, 'adress': 1, 'état': 2, 'charg...   \n",
       "2             {'acte': 1, 'entrée': 1, 'maîtriser': 1}   \n",
       "3    {'associer': 1, 'question': 1, 'représentant':...   \n",
       "4    {'nouvellement': 1, 'députer': 1, 'premier': 1...   \n",
       "..                                                 ...   \n",
       "561  {'premier': 130, 'voici': 9, 'vent': 6, 'censé...   \n",
       "562  {'vrai': 99, 'comprend': 7, 'volonté': 19, 'fr...   \n",
       "563  {'état': 399, 'vouloir': 433, 'abord': 56, 'as...   \n",
       "564  {'bravo': 62, 'juste': 116, 'oui': 257, 'dos':...   \n",
       "565  {'trop': 62, 'court': 20, 'cravate': 3, 'impor...   \n",
       "\n",
       "                                            liste_mots  nbre_freq_mots  \n",
       "0    [enfant, handicap, situation, scolariser, mili...              26  \n",
       "1    [tourisme, question, état, français, falloir, ...              76  \n",
       "2                            [acte, entrée, maîtriser]               3  \n",
       "3    [français, france, international, hors, commer...              62  \n",
       "4    [national, européen, défense, militaire, profe...             175  \n",
       "..                                                 ...             ...  \n",
       "561  [dire, falloir, vouloir, état, territoire, pre...            6626  \n",
       "562  [dire, falloir, question, vouloir, oui, devoir...            5350  \n",
       "563  [dire, falloir, non, savoir, vouloir, autre, d...            7320  \n",
       "564  [dire, oui, falloir, question, raison, vrai, b...            3855  \n",
       "565  [falloir, devoir, dire, question, état, raison...            6819  \n",
       "\n",
       "[566 rows x 12 columns]"
      ]
     },
     "execution_count": 3,
     "metadata": {},
     "output_type": "execute_result"
    }
   ],
   "source": [
    "interv_mps"
   ]
  },
  {
   "cell_type": "code",
   "execution_count": 4,
   "id": "b3190fac",
   "metadata": {
    "ExecuteTime": {
     "end_time": "2022-01-25T19:27:07.681260Z",
     "start_time": "2022-01-25T19:27:07.640546Z"
    }
   },
   "outputs": [
    {
     "data": {
      "text/html": [
       "<div>\n",
       "<style scoped>\n",
       "    .dataframe tbody tr th:only-of-type {\n",
       "        vertical-align: middle;\n",
       "    }\n",
       "\n",
       "    .dataframe tbody tr th {\n",
       "        vertical-align: top;\n",
       "    }\n",
       "\n",
       "    .dataframe thead th {\n",
       "        text-align: right;\n",
       "    }\n",
       "</style>\n",
       "<table border=\"1\" class=\"dataframe\">\n",
       "  <thead>\n",
       "    <tr style=\"text-align: right;\">\n",
       "      <th></th>\n",
       "      <th>nom</th>\n",
       "      <th>sexe</th>\n",
       "      <th>parti_ratt_financier</th>\n",
       "      <th>liste_mots</th>\n",
       "    </tr>\n",
       "  </thead>\n",
       "  <tbody>\n",
       "    <tr>\n",
       "      <th>0</th>\n",
       "      <td>Christophe Leclercq</td>\n",
       "      <td>H</td>\n",
       "      <td>La République en Marche</td>\n",
       "      <td>[enfant, handicap, situation, scolariser, mili...</td>\n",
       "    </tr>\n",
       "    <tr>\n",
       "      <th>1</th>\n",
       "      <td>Edith Audibert</td>\n",
       "      <td>F</td>\n",
       "      <td>Les Républicains</td>\n",
       "      <td>[tourisme, question, état, français, falloir, ...</td>\n",
       "    </tr>\n",
       "    <tr>\n",
       "      <th>2</th>\n",
       "      <td>Bernard Brochand</td>\n",
       "      <td>H</td>\n",
       "      <td>Les Républicains</td>\n",
       "      <td>[acte, entrée, maîtriser]</td>\n",
       "    </tr>\n",
       "    <tr>\n",
       "      <th>3</th>\n",
       "      <td>Stéphane Vojetta</td>\n",
       "      <td>H</td>\n",
       "      <td>La République en Marche</td>\n",
       "      <td>[français, france, international, hors, commer...</td>\n",
       "    </tr>\n",
       "    <tr>\n",
       "      <th>4</th>\n",
       "      <td>Françoise Ballet-Blu</td>\n",
       "      <td>F</td>\n",
       "      <td>La République en Marche</td>\n",
       "      <td>[national, européen, défense, militaire, profe...</td>\n",
       "    </tr>\n",
       "    <tr>\n",
       "      <th>...</th>\n",
       "      <td>...</td>\n",
       "      <td>...</td>\n",
       "      <td>...</td>\n",
       "      <td>...</td>\n",
       "    </tr>\n",
       "    <tr>\n",
       "      <th>561</th>\n",
       "      <td>Sébastien Jumel</td>\n",
       "      <td>H</td>\n",
       "      <td>Parti communiste français</td>\n",
       "      <td>[dire, falloir, vouloir, état, territoire, pre...</td>\n",
       "    </tr>\n",
       "    <tr>\n",
       "      <th>562</th>\n",
       "      <td>Fabien Di Filippo</td>\n",
       "      <td>H</td>\n",
       "      <td>Les Républicains</td>\n",
       "      <td>[dire, falloir, question, vouloir, oui, devoir...</td>\n",
       "    </tr>\n",
       "    <tr>\n",
       "      <th>563</th>\n",
       "      <td>Ugo Bernalicis</td>\n",
       "      <td>H</td>\n",
       "      <td>La France Insoumise</td>\n",
       "      <td>[dire, falloir, non, savoir, vouloir, autre, d...</td>\n",
       "    </tr>\n",
       "    <tr>\n",
       "      <th>564</th>\n",
       "      <td>Pierre Cordier</td>\n",
       "      <td>H</td>\n",
       "      <td>Les Républicains</td>\n",
       "      <td>[dire, oui, falloir, question, raison, vrai, b...</td>\n",
       "    </tr>\n",
       "    <tr>\n",
       "      <th>565</th>\n",
       "      <td>Thibault Bazin</td>\n",
       "      <td>H</td>\n",
       "      <td>Les Républicains</td>\n",
       "      <td>[falloir, devoir, dire, question, état, raison...</td>\n",
       "    </tr>\n",
       "  </tbody>\n",
       "</table>\n",
       "<p>566 rows × 4 columns</p>\n",
       "</div>"
      ],
      "text/plain": [
       "                      nom sexe       parti_ratt_financier  \\\n",
       "0     Christophe Leclercq    H    La République en Marche   \n",
       "1          Edith Audibert    F           Les Républicains   \n",
       "2        Bernard Brochand    H           Les Républicains   \n",
       "3        Stéphane Vojetta    H    La République en Marche   \n",
       "4    Françoise Ballet-Blu    F    La République en Marche   \n",
       "..                    ...  ...                        ...   \n",
       "561       Sébastien Jumel    H  Parti communiste français   \n",
       "562     Fabien Di Filippo    H           Les Républicains   \n",
       "563        Ugo Bernalicis    H        La France Insoumise   \n",
       "564        Pierre Cordier    H           Les Républicains   \n",
       "565        Thibault Bazin    H           Les Républicains   \n",
       "\n",
       "                                            liste_mots  \n",
       "0    [enfant, handicap, situation, scolariser, mili...  \n",
       "1    [tourisme, question, état, français, falloir, ...  \n",
       "2                            [acte, entrée, maîtriser]  \n",
       "3    [français, france, international, hors, commer...  \n",
       "4    [national, européen, défense, militaire, profe...  \n",
       "..                                                 ...  \n",
       "561  [dire, falloir, vouloir, état, territoire, pre...  \n",
       "562  [dire, falloir, question, vouloir, oui, devoir...  \n",
       "563  [dire, falloir, non, savoir, vouloir, autre, d...  \n",
       "564  [dire, oui, falloir, question, raison, vrai, b...  \n",
       "565  [falloir, devoir, dire, question, état, raison...  \n",
       "\n",
       "[566 rows x 4 columns]"
      ]
     },
     "execution_count": 4,
     "metadata": {},
     "output_type": "execute_result"
    }
   ],
   "source": [
    "df_interv_mps = interv_mps[['nom', 'sexe', 'parti_ratt_financier', 'liste_mots']]\n",
    "df_interv_mps"
   ]
  },
  {
   "cell_type": "code",
   "execution_count": 5,
   "id": "f7333eb7",
   "metadata": {
    "ExecuteTime": {
     "end_time": "2022-01-25T19:27:07.725727Z",
     "start_time": "2022-01-25T19:27:07.684095Z"
    }
   },
   "outputs": [
    {
     "name": "stderr",
     "output_type": "stream",
     "text": [
      "/var/folders/32/9d66kzz52dz4b0_b57djs_nr0000gn/T/ipykernel_7997/869973638.py:1: SettingWithCopyWarning: \n",
      "A value is trying to be set on a copy of a slice from a DataFrame.\n",
      "Try using .loc[row_indexer,col_indexer] = value instead\n",
      "\n",
      "See the caveats in the documentation: https://pandas.pydata.org/pandas-docs/stable/user_guide/indexing.html#returning-a-view-versus-a-copy\n",
      "  df_interv_mps['parti_bis'] = pd.factorize(df_interv_mps.parti_ratt_financier)[0]\n"
     ]
    },
    {
     "data": {
      "text/html": [
       "<div>\n",
       "<style scoped>\n",
       "    .dataframe tbody tr th:only-of-type {\n",
       "        vertical-align: middle;\n",
       "    }\n",
       "\n",
       "    .dataframe tbody tr th {\n",
       "        vertical-align: top;\n",
       "    }\n",
       "\n",
       "    .dataframe thead th {\n",
       "        text-align: right;\n",
       "    }\n",
       "</style>\n",
       "<table border=\"1\" class=\"dataframe\">\n",
       "  <thead>\n",
       "    <tr style=\"text-align: right;\">\n",
       "      <th></th>\n",
       "      <th>nom</th>\n",
       "      <th>sexe</th>\n",
       "      <th>parti_ratt_financier</th>\n",
       "      <th>liste_mots</th>\n",
       "      <th>parti_bis</th>\n",
       "    </tr>\n",
       "  </thead>\n",
       "  <tbody>\n",
       "    <tr>\n",
       "      <th>0</th>\n",
       "      <td>Christophe Leclercq</td>\n",
       "      <td>H</td>\n",
       "      <td>La République en Marche</td>\n",
       "      <td>[enfant, handicap, situation, scolariser, mili...</td>\n",
       "      <td>0</td>\n",
       "    </tr>\n",
       "    <tr>\n",
       "      <th>1</th>\n",
       "      <td>Edith Audibert</td>\n",
       "      <td>F</td>\n",
       "      <td>Les Républicains</td>\n",
       "      <td>[tourisme, question, état, français, falloir, ...</td>\n",
       "      <td>1</td>\n",
       "    </tr>\n",
       "    <tr>\n",
       "      <th>2</th>\n",
       "      <td>Bernard Brochand</td>\n",
       "      <td>H</td>\n",
       "      <td>Les Républicains</td>\n",
       "      <td>[acte, entrée, maîtriser]</td>\n",
       "      <td>1</td>\n",
       "    </tr>\n",
       "    <tr>\n",
       "      <th>3</th>\n",
       "      <td>Stéphane Vojetta</td>\n",
       "      <td>H</td>\n",
       "      <td>La République en Marche</td>\n",
       "      <td>[français, france, international, hors, commer...</td>\n",
       "      <td>0</td>\n",
       "    </tr>\n",
       "    <tr>\n",
       "      <th>4</th>\n",
       "      <td>Françoise Ballet-Blu</td>\n",
       "      <td>F</td>\n",
       "      <td>La République en Marche</td>\n",
       "      <td>[national, européen, défense, militaire, profe...</td>\n",
       "      <td>0</td>\n",
       "    </tr>\n",
       "    <tr>\n",
       "      <th>...</th>\n",
       "      <td>...</td>\n",
       "      <td>...</td>\n",
       "      <td>...</td>\n",
       "      <td>...</td>\n",
       "      <td>...</td>\n",
       "    </tr>\n",
       "    <tr>\n",
       "      <th>561</th>\n",
       "      <td>Sébastien Jumel</td>\n",
       "      <td>H</td>\n",
       "      <td>Parti communiste français</td>\n",
       "      <td>[dire, falloir, vouloir, état, territoire, pre...</td>\n",
       "      <td>8</td>\n",
       "    </tr>\n",
       "    <tr>\n",
       "      <th>562</th>\n",
       "      <td>Fabien Di Filippo</td>\n",
       "      <td>H</td>\n",
       "      <td>Les Républicains</td>\n",
       "      <td>[dire, falloir, question, vouloir, oui, devoir...</td>\n",
       "      <td>1</td>\n",
       "    </tr>\n",
       "    <tr>\n",
       "      <th>563</th>\n",
       "      <td>Ugo Bernalicis</td>\n",
       "      <td>H</td>\n",
       "      <td>La France Insoumise</td>\n",
       "      <td>[dire, falloir, non, savoir, vouloir, autre, d...</td>\n",
       "      <td>17</td>\n",
       "    </tr>\n",
       "    <tr>\n",
       "      <th>564</th>\n",
       "      <td>Pierre Cordier</td>\n",
       "      <td>H</td>\n",
       "      <td>Les Républicains</td>\n",
       "      <td>[dire, oui, falloir, question, raison, vrai, b...</td>\n",
       "      <td>1</td>\n",
       "    </tr>\n",
       "    <tr>\n",
       "      <th>565</th>\n",
       "      <td>Thibault Bazin</td>\n",
       "      <td>H</td>\n",
       "      <td>Les Républicains</td>\n",
       "      <td>[falloir, devoir, dire, question, état, raison...</td>\n",
       "      <td>1</td>\n",
       "    </tr>\n",
       "  </tbody>\n",
       "</table>\n",
       "<p>566 rows × 5 columns</p>\n",
       "</div>"
      ],
      "text/plain": [
       "                      nom sexe       parti_ratt_financier  \\\n",
       "0     Christophe Leclercq    H    La République en Marche   \n",
       "1          Edith Audibert    F           Les Républicains   \n",
       "2        Bernard Brochand    H           Les Républicains   \n",
       "3        Stéphane Vojetta    H    La République en Marche   \n",
       "4    Françoise Ballet-Blu    F    La République en Marche   \n",
       "..                    ...  ...                        ...   \n",
       "561       Sébastien Jumel    H  Parti communiste français   \n",
       "562     Fabien Di Filippo    H           Les Républicains   \n",
       "563        Ugo Bernalicis    H        La France Insoumise   \n",
       "564        Pierre Cordier    H           Les Républicains   \n",
       "565        Thibault Bazin    H           Les Républicains   \n",
       "\n",
       "                                            liste_mots  parti_bis  \n",
       "0    [enfant, handicap, situation, scolariser, mili...          0  \n",
       "1    [tourisme, question, état, français, falloir, ...          1  \n",
       "2                            [acte, entrée, maîtriser]          1  \n",
       "3    [français, france, international, hors, commer...          0  \n",
       "4    [national, européen, défense, militaire, profe...          0  \n",
       "..                                                 ...        ...  \n",
       "561  [dire, falloir, vouloir, état, territoire, pre...          8  \n",
       "562  [dire, falloir, question, vouloir, oui, devoir...          1  \n",
       "563  [dire, falloir, non, savoir, vouloir, autre, d...         17  \n",
       "564  [dire, oui, falloir, question, raison, vrai, b...          1  \n",
       "565  [falloir, devoir, dire, question, état, raison...          1  \n",
       "\n",
       "[566 rows x 5 columns]"
      ]
     },
     "execution_count": 5,
     "metadata": {},
     "output_type": "execute_result"
    }
   ],
   "source": [
    "df_interv_mps['parti_bis'] = pd.factorize(df_interv_mps.parti_ratt_financier)[0]\n",
    "#df_interv_mps['sexe_bis'] = pd.factorize(df_interv_mps.sexe)[0]\n",
    "df_interv_mps"
   ]
  },
  {
   "cell_type": "code",
   "execution_count": 6,
   "id": "fd2e7690",
   "metadata": {
    "ExecuteTime": {
     "end_time": "2022-01-25T19:27:11.862943Z",
     "start_time": "2022-01-25T19:27:07.728903Z"
    }
   },
   "outputs": [
    {
     "data": {
      "text/plain": [
       "(566, 19)"
      ]
     },
     "execution_count": 6,
     "metadata": {},
     "output_type": "execute_result"
    }
   ],
   "source": [
    "from tensorflow.keras.utils import to_categorical\n",
    "y_cat = to_categorical(df_interv_mps.parti_bis)\n",
    "#y_cat = to_categorical(df_interv_mps.sexe_bis)\n",
    "y = np.array(y_cat)\n",
    "y.shape"
   ]
  },
  {
   "cell_type": "code",
   "execution_count": 7,
   "id": "4d8261bc",
   "metadata": {
    "ExecuteTime": {
     "end_time": "2022-01-25T19:27:11.874009Z",
     "start_time": "2022-01-25T19:27:11.865599Z"
    }
   },
   "outputs": [],
   "source": [
    "X = np.array(df_interv_mps['liste_mots'])"
   ]
  },
  {
   "cell_type": "code",
   "execution_count": 8,
   "id": "16b336b1",
   "metadata": {
    "ExecuteTime": {
     "end_time": "2022-01-25T19:27:12.451524Z",
     "start_time": "2022-01-25T19:27:11.878244Z"
    }
   },
   "outputs": [],
   "source": [
    "from sklearn.model_selection import train_test_split\n",
    "X_train, X_test, y_train, y_test = train_test_split(X, y, train_size=0.7)"
   ]
  },
  {
   "cell_type": "code",
   "execution_count": 9,
   "id": "63a81a4a",
   "metadata": {
    "ExecuteTime": {
     "end_time": "2022-01-25T19:27:12.987340Z",
     "start_time": "2022-01-25T19:27:12.458780Z"
    }
   },
   "outputs": [],
   "source": [
    "def get_number_of_occurences(sentences):\n",
    "    occurences = {}\n",
    "    for s in sentences:\n",
    "        for w in s:\n",
    "            if w not in occurences:\n",
    "                occurences[w] = 0\n",
    "            occurences[w] += 1\n",
    "    return occurences\n",
    "\n",
    "def keep_frequent_words(X, occurences, min_occurence):\n",
    "    \n",
    "    frequent_words = {k:v for k, v in occurences.items() if v >= min_occurence}\n",
    "    output_sentences = [[word for word in sentence if word in frequent_words] for sentence in X]\n",
    "    \n",
    "    return output_sentences\n",
    "    \n",
    "# –– Data clearning\n",
    "occurences = get_number_of_occurences(X_train)\n",
    "X_clean_train = keep_frequent_words(X_train, occurences, min_occurence=10)\n",
    "X_clean_test = keep_frequent_words(X_test, occurences, min_occurence=10)"
   ]
  },
  {
   "cell_type": "code",
   "execution_count": 10,
   "id": "97b0786c",
   "metadata": {
    "ExecuteTime": {
     "end_time": "2022-01-25T19:27:13.728825Z",
     "start_time": "2022-01-25T19:27:12.990213Z"
    }
   },
   "outputs": [],
   "source": [
    "from tensorflow.keras.preprocessing.text import Tokenizer\n",
    "tk = Tokenizer()\n",
    "tk.fit_on_texts(X_clean_train)\n",
    "vocab_size = len(tk.word_index)"
   ]
  },
  {
   "cell_type": "code",
   "execution_count": 11,
   "id": "6c889666",
   "metadata": {
    "ExecuteTime": {
     "end_time": "2022-01-25T19:27:13.742323Z",
     "start_time": "2022-01-25T19:27:13.732574Z"
    }
   },
   "outputs": [
    {
     "data": {
      "text/plain": [
       "11647"
      ]
     },
     "execution_count": 11,
     "metadata": {},
     "output_type": "execute_result"
    }
   ],
   "source": [
    "vocab_size"
   ]
  },
  {
   "cell_type": "code",
   "execution_count": 12,
   "id": "0a4645db",
   "metadata": {
    "ExecuteTime": {
     "end_time": "2022-01-25T19:27:13.765362Z",
     "start_time": "2022-01-25T19:27:13.754313Z"
    }
   },
   "outputs": [],
   "source": [
    "from tensorflow.keras.preprocessing.sequence import pad_sequences\n",
    "maxlen = 40"
   ]
  },
  {
   "cell_type": "code",
   "execution_count": 13,
   "id": "0fecab70",
   "metadata": {
    "ExecuteTime": {
     "end_time": "2022-01-25T19:27:14.491354Z",
     "start_time": "2022-01-25T19:27:13.783648Z"
    }
   },
   "outputs": [],
   "source": [
    "X_token_train = tk.texts_to_sequences(X_train)\n",
    "X_token_test = tk.texts_to_sequences(X_test)\n",
    "X_train_pad = pad_sequences(X_token_train, maxlen=maxlen, dtype='float32', padding='post')\n",
    "X_test_pad = pad_sequences(X_token_test, maxlen=maxlen, dtype='float32', padding='post')"
   ]
  },
  {
   "cell_type": "code",
   "execution_count": 14,
   "id": "e9485204",
   "metadata": {
    "ExecuteTime": {
     "end_time": "2022-01-25T19:27:15.449968Z",
     "start_time": "2022-01-25T19:27:14.493810Z"
    }
   },
   "outputs": [
    {
     "name": "stderr",
     "output_type": "stream",
     "text": [
      "2022-01-25 20:27:14.513536: I tensorflow/core/platform/cpu_feature_guard.cc:151] This TensorFlow binary is optimized with oneAPI Deep Neural Network Library (oneDNN) to use the following CPU instructions in performance-critical operations:  AVX2 FMA\n",
      "To enable them in other operations, rebuild TensorFlow with the appropriate compiler flags.\n"
     ]
    },
    {
     "name": "stdout",
     "output_type": "stream",
     "text": [
      "Model: \"sequential\"\n",
      "_________________________________________________________________\n",
      " Layer (type)                Output Shape              Param #   \n",
      "=================================================================\n",
      " embedding (Embedding)       (None, 40, 100)           1164800   \n",
      "                                                                 \n",
      " lstm (LSTM)                 (None, 20)                9680      \n",
      "                                                                 \n",
      " dense (Dense)               (None, 19)                399       \n",
      "                                                                 \n",
      "=================================================================\n",
      "Total params: 1,174,879\n",
      "Trainable params: 1,174,879\n",
      "Non-trainable params: 0\n",
      "_________________________________________________________________\n"
     ]
    }
   ],
   "source": [
    "from tensorflow.keras import layers, Sequential\n",
    "# Size of your embedding space = size to represent each word\n",
    "embedding_size = 100\n",
    "model = Sequential()\n",
    "model.add(layers.Embedding(\n",
    "input_dim=vocab_size+1, # +1 for the 0 padding\n",
    "input_length=maxlen, # Max_sentence_length (optional, for model summary)\n",
    "output_dim=embedding_size,# 100\n",
    "mask_zero=True, # Included masking layer :)\n",
    "))\n",
    "model.add(layers.LSTM(20))\n",
    "model.add(layers.Dense(19, activation=\"softmax\"))\n",
    "#model.add(layers.Dense(2, activation=\"sigmoid\"))\n",
    "model.summary()"
   ]
  },
  {
   "cell_type": "code",
   "execution_count": 15,
   "id": "fd0ed814",
   "metadata": {
    "ExecuteTime": {
     "end_time": "2022-01-25T19:27:15.480601Z",
     "start_time": "2022-01-25T19:27:15.453151Z"
    }
   },
   "outputs": [],
   "source": [
    "model.compile(loss='categorical_crossentropy',\n",
    "              optimizer='adam',\n",
    "              metrics='accuracy')\n",
    "#model.compile(loss='binary_crossentropy',\n",
    "#              optimizer='adam',\n",
    "#              metrics='accuracy')"
   ]
  },
  {
   "cell_type": "code",
   "execution_count": 16,
   "id": "364aadde",
   "metadata": {
    "ExecuteTime": {
     "end_time": "2022-01-25T19:27:15.495282Z",
     "start_time": "2022-01-25T19:27:15.483869Z"
    }
   },
   "outputs": [],
   "source": [
    "from tensorflow.keras.callbacks import EarlyStopping \n",
    "es = EarlyStopping(patience=20, restore_best_weights=True)"
   ]
  },
  {
   "cell_type": "code",
   "execution_count": 17,
   "id": "9ca70814",
   "metadata": {
    "ExecuteTime": {
     "end_time": "2022-01-25T19:27:32.839867Z",
     "start_time": "2022-01-25T19:27:15.499444Z"
    }
   },
   "outputs": [
    {
     "name": "stdout",
     "output_type": "stream",
     "text": [
      "Epoch 1/100\n",
      "9/9 [==============================] - 6s 218ms/step - loss: 2.9299 - accuracy: 0.2635 - val_loss: 2.9122 - val_accuracy: 0.4538\n",
      "Epoch 2/100\n",
      "9/9 [==============================] - 0s 42ms/step - loss: 2.8532 - accuracy: 0.5271 - val_loss: 2.8503 - val_accuracy: 0.4622\n",
      "Epoch 3/100\n",
      "9/9 [==============================] - 0s 43ms/step - loss: 2.6885 - accuracy: 0.4874 - val_loss: 2.6691 - val_accuracy: 0.4622\n",
      "Epoch 4/100\n",
      "9/9 [==============================] - 0s 44ms/step - loss: 2.3039 - accuracy: 0.4838 - val_loss: 2.2585 - val_accuracy: 0.4622\n",
      "Epoch 5/100\n",
      "9/9 [==============================] - 0s 44ms/step - loss: 1.9397 - accuracy: 0.4874 - val_loss: 2.0681 - val_accuracy: 0.4622\n",
      "Epoch 6/100\n",
      "9/9 [==============================] - 0s 43ms/step - loss: 1.7547 - accuracy: 0.5162 - val_loss: 2.0107 - val_accuracy: 0.4622\n",
      "Epoch 7/100\n",
      "9/9 [==============================] - 0s 45ms/step - loss: 1.6048 - accuracy: 0.5451 - val_loss: 1.9667 - val_accuracy: 0.4622\n",
      "Epoch 8/100\n",
      "9/9 [==============================] - 0s 44ms/step - loss: 1.4716 - accuracy: 0.5848 - val_loss: 1.9404 - val_accuracy: 0.4538\n",
      "Epoch 9/100\n",
      "9/9 [==============================] - 0s 43ms/step - loss: 1.3230 - accuracy: 0.6245 - val_loss: 1.9385 - val_accuracy: 0.4538\n",
      "Epoch 10/100\n",
      "9/9 [==============================] - 0s 42ms/step - loss: 1.1837 - accuracy: 0.7256 - val_loss: 1.9222 - val_accuracy: 0.4622\n",
      "Epoch 11/100\n",
      "9/9 [==============================] - 0s 42ms/step - loss: 1.0754 - accuracy: 0.7726 - val_loss: 1.9257 - val_accuracy: 0.4538\n",
      "Epoch 12/100\n",
      "9/9 [==============================] - 0s 42ms/step - loss: 0.9806 - accuracy: 0.8123 - val_loss: 2.0167 - val_accuracy: 0.4790\n",
      "Epoch 13/100\n",
      "9/9 [==============================] - 0s 43ms/step - loss: 0.9031 - accuracy: 0.8484 - val_loss: 2.0140 - val_accuracy: 0.3613\n",
      "Epoch 14/100\n",
      "9/9 [==============================] - 0s 42ms/step - loss: 0.8287 - accuracy: 0.9206 - val_loss: 2.0723 - val_accuracy: 0.4706\n",
      "Epoch 15/100\n",
      "9/9 [==============================] - 0s 43ms/step - loss: 0.7610 - accuracy: 0.9314 - val_loss: 2.1173 - val_accuracy: 0.3697\n",
      "Epoch 16/100\n",
      "9/9 [==============================] - 0s 43ms/step - loss: 0.7019 - accuracy: 0.9278 - val_loss: 2.2260 - val_accuracy: 0.3277\n",
      "Epoch 17/100\n",
      "9/9 [==============================] - 0s 41ms/step - loss: 0.6500 - accuracy: 0.9170 - val_loss: 2.2645 - val_accuracy: 0.3529\n",
      "Epoch 18/100\n",
      "9/9 [==============================] - 0s 42ms/step - loss: 0.6031 - accuracy: 0.9134 - val_loss: 2.3155 - val_accuracy: 0.3529\n",
      "Epoch 19/100\n",
      "9/9 [==============================] - 0s 43ms/step - loss: 0.5592 - accuracy: 0.9134 - val_loss: 2.3947 - val_accuracy: 0.3361\n",
      "Epoch 20/100\n",
      "9/9 [==============================] - 0s 44ms/step - loss: 0.5211 - accuracy: 0.9134 - val_loss: 2.4514 - val_accuracy: 0.3445\n",
      "Epoch 21/100\n",
      "9/9 [==============================] - 0s 43ms/step - loss: 0.4843 - accuracy: 0.9242 - val_loss: 2.5014 - val_accuracy: 0.3697\n",
      "Epoch 22/100\n",
      "9/9 [==============================] - 0s 43ms/step - loss: 0.4488 - accuracy: 0.9386 - val_loss: 2.5462 - val_accuracy: 0.3782\n",
      "Epoch 23/100\n",
      "9/9 [==============================] - 0s 42ms/step - loss: 0.4171 - accuracy: 0.9458 - val_loss: 2.5871 - val_accuracy: 0.3782\n",
      "Epoch 24/100\n",
      "9/9 [==============================] - 0s 43ms/step - loss: 0.3865 - accuracy: 0.9603 - val_loss: 2.6278 - val_accuracy: 0.3866\n",
      "Epoch 25/100\n",
      "9/9 [==============================] - 0s 43ms/step - loss: 0.3565 - accuracy: 0.9675 - val_loss: 2.6582 - val_accuracy: 0.3782\n",
      "Epoch 26/100\n",
      "9/9 [==============================] - 0s 43ms/step - loss: 0.3279 - accuracy: 0.9747 - val_loss: 2.6884 - val_accuracy: 0.3782\n",
      "Epoch 27/100\n",
      "9/9 [==============================] - 0s 43ms/step - loss: 0.3028 - accuracy: 0.9675 - val_loss: 2.7136 - val_accuracy: 0.3782\n",
      "Epoch 28/100\n",
      "9/9 [==============================] - 0s 43ms/step - loss: 0.2765 - accuracy: 0.9819 - val_loss: 2.7313 - val_accuracy: 0.3782\n",
      "Epoch 29/100\n",
      "9/9 [==============================] - 0s 44ms/step - loss: 0.2535 - accuracy: 0.9856 - val_loss: 2.7552 - val_accuracy: 0.3866\n",
      "Epoch 30/100\n",
      "9/9 [==============================] - 0s 44ms/step - loss: 0.2320 - accuracy: 0.9819 - val_loss: 2.7759 - val_accuracy: 0.3866\n"
     ]
    }
   ],
   "source": [
    "history = model.fit(X_train_pad, y_train, \n",
    "                    epochs=100,\n",
    "                    batch_size=32,\n",
    "                    validation_split=0.3,\n",
    "                    callbacks=[es],\n",
    "                    verbose=1) "
   ]
  },
  {
   "cell_type": "code",
   "execution_count": 18,
   "id": "89226ac4",
   "metadata": {
    "ExecuteTime": {
     "end_time": "2022-01-25T19:27:34.367641Z",
     "start_time": "2022-01-25T19:27:32.844539Z"
    }
   },
   "outputs": [
    {
     "data": {
      "image/png": "[encoded data removed]",
      "text/plain": [
       "<Figure size 936x360 with 2 Axes>"
      ]
     },
     "metadata": {
      "needs_background": "light"
     },
     "output_type": "display_data"
    }
   ],
   "source": [
    "import matplotlib.pyplot as plt\n",
    "def plot_loss_accuracy(history, title=None):\n",
    "    fig, ax = plt.subplots(1,2, figsize=(13,5))\n",
    "    ax[0].plot(history.history['loss'])\n",
    "    ax[0].plot(history.history['val_loss'])\n",
    "    ax[0].set_title('Model loss')\n",
    "    ax[0].set_ylabel('Loss')\n",
    "    ax[0].set_xlabel('Epoch')\n",
    "    ax[0].set_ylim((0,3))\n",
    "    ax[0].legend(['Train', 'Test'], loc='best')\n",
    "    ax[1].plot(history.history['accuracy'])\n",
    "    ax[1].plot(history.history['val_accuracy'])\n",
    "    ax[1].set_title('Model Accuracy')\n",
    "    ax[1].set_ylabel('Accuracy')\n",
    "    ax[1].set_xlabel('Epoch')\n",
    "    ax[1].legend(['Train', 'Test'], loc='best')\n",
    "    ax[1].set_ylim((0,1))\n",
    "    if title:\n",
    "        fig.suptitle(title)\n",
    "plot_loss_accuracy(history, title=None)"
   ]
  },
  {
   "cell_type": "code",
   "execution_count": 19,
   "id": "bde70367",
   "metadata": {
    "ExecuteTime": {
     "end_time": "2022-01-25T19:27:34.516295Z",
     "start_time": "2022-01-25T19:27:34.372488Z"
    }
   },
   "outputs": [
    {
     "name": "stdout",
     "output_type": "stream",
     "text": [
      "6/6 [==============================] - 0s 8ms/step - loss: 1.8166 - accuracy: 0.5000\n"
     ]
    },
    {
     "data": {
      "text/plain": [
       "0.5"
      ]
     },
     "execution_count": 19,
     "metadata": {},
     "output_type": "execute_result"
    }
   ],
   "source": [
    "score_test = model.evaluate(X_test_pad, y_test)[1]\n",
    "score_test"
   ]
  },
  {
   "cell_type": "code",
   "execution_count": null,
   "id": "e9f7e4ee",
   "metadata": {},
   "outputs": [],
   "source": []
  }
 ],
 "metadata": {
  "kernelspec": {
   "display_name": "Python 3 (ipykernel)",
   "language": "python",
   "name": "python3"
  },
  "language_info": {
   "codemirror_mode": {
    "name": "ipython",
    "version": 3
   },
   "file_extension": ".py",
   "mimetype": "text/x-python",
   "name": "python",
   "nbconvert_exporter": "python",
   "pygments_lexer": "ipython3",
   "version": "3.8.12"
  },
  "toc": {
   "base_numbering": 1,
   "nav_menu": {},
   "number_sections": true,
   "sideBar": true,
   "skip_h1_title": false,
   "title_cell": "Table of Contents",
   "title_sidebar": "Contents",
   "toc_cell": false,
   "toc_position": {},
   "toc_section_display": true,
   "toc_window_display": false
  },
  "varInspector": {
   "cols": {
    "lenName": 16,
    "lenType": 16,
    "lenVar": 40
   },
   "kernels_config": {
    "python": {
     "delete_cmd_postfix": "",
     "delete_cmd_prefix": "del ",
     "library": "var_list.py",
     "varRefreshCmd": "print(var_dic_list())"
    },
    "r": {
     "delete_cmd_postfix": ") ",
     "delete_cmd_prefix": "rm(",
     "library": "var_list.r",
     "varRefreshCmd": "cat(var_dic_list()) "
    }
   },
   "types_to_exclude": [
    "module",
    "function",
    "builtin_function_or_method",
    "instance",
    "_Feature"
   ],
   "window_display": false
  }
 },
 "nbformat": 4,
 "nbformat_minor": 5
}
