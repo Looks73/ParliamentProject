{
 "cells": [
  {
   "cell_type": "code",
   "execution_count": 1,
   "id": "687d0329",
   "metadata": {
    "ExecuteTime": {
     "end_time": "2022-01-26T20:17:45.176319Z",
     "start_time": "2022-01-26T20:17:44.004927Z"
    }
   },
   "outputs": [],
   "source": [
    "import pandas as pd\n",
    "import numpy as np"
   ]
  },
  {
   "cell_type": "code",
   "execution_count": 2,
   "id": "76563bc2",
   "metadata": {
    "ExecuteTime": {
     "end_time": "2022-01-26T20:17:45.206124Z",
     "start_time": "2022-01-26T20:17:45.180482Z"
    }
   },
   "outputs": [],
   "source": [
    "# Choix du fichier d'entrée\n",
    "files = ['data/mots_mps.pickle', 'data/mots_mps_bis.pickle', 'data/mots_mps_ter.pickle']\n",
    "file = files[0]"
   ]
  },
  {
   "cell_type": "code",
   "execution_count": 3,
   "id": "600e36b7",
   "metadata": {
    "ExecuteTime": {
     "end_time": "2022-01-26T20:17:46.182248Z",
     "start_time": "2022-01-26T20:17:45.217640Z"
    }
   },
   "outputs": [],
   "source": [
    "interv_mps = pd.read_pickle(file)"
   ]
  },
  {
   "cell_type": "code",
   "execution_count": 4,
   "id": "12734619",
   "metadata": {
    "ExecuteTime": {
     "end_time": "2022-01-26T20:17:46.381178Z",
     "start_time": "2022-01-26T20:17:46.184966Z"
    }
   },
   "outputs": [
    {
     "data": {
      "text/html": [
       "<div>\n",
       "<style scoped>\n",
       "    .dataframe tbody tr th:only-of-type {\n",
       "        vertical-align: middle;\n",
       "    }\n",
       "\n",
       "    .dataframe tbody tr th {\n",
       "        vertical-align: top;\n",
       "    }\n",
       "\n",
       "    .dataframe thead th {\n",
       "        text-align: right;\n",
       "    }\n",
       "</style>\n",
       "<table border=\"1\" class=\"dataframe\">\n",
       "  <thead>\n",
       "    <tr style=\"text-align: right;\">\n",
       "      <th></th>\n",
       "      <th>nom</th>\n",
       "      <th>nbre_interv</th>\n",
       "      <th>mean_length</th>\n",
       "      <th>sexe</th>\n",
       "      <th>num_deptmt</th>\n",
       "      <th>parti_ratt_financier</th>\n",
       "      <th>id_an</th>\n",
       "      <th>clean_mots</th>\n",
       "      <th>nbre_mots</th>\n",
       "      <th>liste_mots</th>\n",
       "    </tr>\n",
       "  </thead>\n",
       "  <tbody>\n",
       "    <tr>\n",
       "      <th>0</th>\n",
       "      <td>Emmanuel Blairy</td>\n",
       "      <td>1</td>\n",
       "      <td>56.000000</td>\n",
       "      <td>H</td>\n",
       "      <td>62</td>\n",
       "      <td>NaN</td>\n",
       "      <td>720668</td>\n",
       "      <td>{'permettez': 1, 'dire': 1, 'combien': 1, 'hon...</td>\n",
       "      <td>27</td>\n",
       "      <td>[permettez, dire, combien, honoré, siéger, hém...</td>\n",
       "    </tr>\n",
       "    <tr>\n",
       "      <th>1</th>\n",
       "      <td>Christophe Leclercq</td>\n",
       "      <td>2</td>\n",
       "      <td>30.000000</td>\n",
       "      <td>H</td>\n",
       "      <td>62</td>\n",
       "      <td>La République en Marche</td>\n",
       "      <td>784314</td>\n",
       "      <td>{'plus': 1, 'enfants': 2, 'situation': 1, 'han...</td>\n",
       "      <td>28</td>\n",
       "      <td>[enfants, handicap, plus, situation, scolarisé...</td>\n",
       "    </tr>\n",
       "    <tr>\n",
       "      <th>2</th>\n",
       "      <td>Edith Audibert</td>\n",
       "      <td>2</td>\n",
       "      <td>94.000000</td>\n",
       "      <td>F</td>\n",
       "      <td>83</td>\n",
       "      <td>Les Républicains</td>\n",
       "      <td>721666</td>\n",
       "      <td>{'question': 2, 'adresse': 1, 'état': 2, 'char...</td>\n",
       "      <td>91</td>\n",
       "      <td>[tourisme, question, état, résidences, effet, ...</td>\n",
       "    </tr>\n",
       "    <tr>\n",
       "      <th>3</th>\n",
       "      <td>Stéphane Vojetta</td>\n",
       "      <td>3</td>\n",
       "      <td>56.000000</td>\n",
       "      <td>H</td>\n",
       "      <td>999</td>\n",
       "      <td>La République en Marche</td>\n",
       "      <td>721170</td>\n",
       "      <td>{'associe': 1, 'question': 1, 'représentant': ...</td>\n",
       "      <td>73</td>\n",
       "      <td>[france, françaises, international, hors, comm...</td>\n",
       "    </tr>\n",
       "    <tr>\n",
       "      <th>4</th>\n",
       "      <td>Bernard Brochand</td>\n",
       "      <td>3</td>\n",
       "      <td>4.000000</td>\n",
       "      <td>H</td>\n",
       "      <td>06</td>\n",
       "      <td>Les Républicains</td>\n",
       "      <td>223837</td>\n",
       "      <td>{'actes': 1, 'entrées': 1, 'maîtrisé': 1}</td>\n",
       "      <td>3</td>\n",
       "      <td>[actes, entrées, maîtrisé]</td>\n",
       "    </tr>\n",
       "    <tr>\n",
       "      <th>...</th>\n",
       "      <td>...</td>\n",
       "      <td>...</td>\n",
       "      <td>...</td>\n",
       "      <td>...</td>\n",
       "      <td>...</td>\n",
       "      <td>...</td>\n",
       "      <td>...</td>\n",
       "      <td>...</td>\n",
       "      <td>...</td>\n",
       "      <td>...</td>\n",
       "    </tr>\n",
       "    <tr>\n",
       "      <th>561</th>\n",
       "      <td>Sébastien Jumel</td>\n",
       "      <td>5494</td>\n",
       "      <td>24.994175</td>\n",
       "      <td>H</td>\n",
       "      <td>76</td>\n",
       "      <td>Parti communiste français</td>\n",
       "      <td>722202</td>\n",
       "      <td>{'premier': 81, 'ministres': 11, 'voici': 9, '...</td>\n",
       "      <td>9503</td>\n",
       "      <td>[plus, bien, cette, cela, tout, être, fait, co...</td>\n",
       "    </tr>\n",
       "    <tr>\n",
       "      <th>562</th>\n",
       "      <td>Fabien Di Filippo</td>\n",
       "      <td>6184</td>\n",
       "      <td>14.263745</td>\n",
       "      <td>H</td>\n",
       "      <td>57</td>\n",
       "      <td>Les Républicains</td>\n",
       "      <td>720386</td>\n",
       "      <td>{'vrai': 97, 'comprends': 12, 'bien': 407, 'vo...</td>\n",
       "      <td>7485</td>\n",
       "      <td>[plus, très, bien, tout, cela, fait, être, fau...</td>\n",
       "    </tr>\n",
       "    <tr>\n",
       "      <th>563</th>\n",
       "      <td>Ugo Bernalicis</td>\n",
       "      <td>6549</td>\n",
       "      <td>33.668346</td>\n",
       "      <td>H</td>\n",
       "      <td>59</td>\n",
       "      <td>La France Insoumise</td>\n",
       "      <td>720430</td>\n",
       "      <td>{'état': 388, 'veux': 59, 'tout': 814, 'abord'...</td>\n",
       "      <td>10968</td>\n",
       "      <td>[plus, bien, tout, être, cela, fait, cette, fa...</td>\n",
       "    </tr>\n",
       "    <tr>\n",
       "      <th>564</th>\n",
       "      <td>Pierre Cordier</td>\n",
       "      <td>6607</td>\n",
       "      <td>8.513092</td>\n",
       "      <td>H</td>\n",
       "      <td>08</td>\n",
       "      <td>Les Républicains</td>\n",
       "      <td>718850</td>\n",
       "      <td>{'bravo': 61, 'très': 562, 'juste': 116, 'oui'...</td>\n",
       "      <td>5132</td>\n",
       "      <td>[bien, très, oui, tout, fait, cela, question, ...</td>\n",
       "    </tr>\n",
       "    <tr>\n",
       "      <th>565</th>\n",
       "      <td>Thibault Bazin</td>\n",
       "      <td>6712</td>\n",
       "      <td>26.141091</td>\n",
       "      <td>H</td>\n",
       "      <td>54</td>\n",
       "      <td>Les Républicains</td>\n",
       "      <td>642847</td>\n",
       "      <td>{'trop': 62, 'court': 14, 'cravate': 3, 'impor...</td>\n",
       "      <td>10216</td>\n",
       "      <td>[plus, bien, être, cet, très, cette, peut, tou...</td>\n",
       "    </tr>\n",
       "  </tbody>\n",
       "</table>\n",
       "<p>566 rows × 10 columns</p>\n",
       "</div>"
      ],
      "text/plain": [
       "                     nom  nbre_interv  mean_length sexe num_deptmt  \\\n",
       "0        Emmanuel Blairy            1    56.000000    H         62   \n",
       "1    Christophe Leclercq            2    30.000000    H         62   \n",
       "2         Edith Audibert            2    94.000000    F         83   \n",
       "3       Stéphane Vojetta            3    56.000000    H        999   \n",
       "4       Bernard Brochand            3     4.000000    H         06   \n",
       "..                   ...          ...          ...  ...        ...   \n",
       "561      Sébastien Jumel         5494    24.994175    H         76   \n",
       "562    Fabien Di Filippo         6184    14.263745    H         57   \n",
       "563       Ugo Bernalicis         6549    33.668346    H         59   \n",
       "564       Pierre Cordier         6607     8.513092    H         08   \n",
       "565       Thibault Bazin         6712    26.141091    H         54   \n",
       "\n",
       "          parti_ratt_financier   id_an  \\\n",
       "0                          NaN  720668   \n",
       "1      La République en Marche  784314   \n",
       "2             Les Républicains  721666   \n",
       "3      La République en Marche  721170   \n",
       "4             Les Républicains  223837   \n",
       "..                         ...     ...   \n",
       "561  Parti communiste français  722202   \n",
       "562           Les Républicains  720386   \n",
       "563        La France Insoumise  720430   \n",
       "564           Les Républicains  718850   \n",
       "565           Les Républicains  642847   \n",
       "\n",
       "                                            clean_mots  nbre_mots  \\\n",
       "0    {'permettez': 1, 'dire': 1, 'combien': 1, 'hon...         27   \n",
       "1    {'plus': 1, 'enfants': 2, 'situation': 1, 'han...         28   \n",
       "2    {'question': 2, 'adresse': 1, 'état': 2, 'char...         91   \n",
       "3    {'associe': 1, 'question': 1, 'représentant': ...         73   \n",
       "4            {'actes': 1, 'entrées': 1, 'maîtrisé': 1}          3   \n",
       "..                                                 ...        ...   \n",
       "561  {'premier': 81, 'ministres': 11, 'voici': 9, '...       9503   \n",
       "562  {'vrai': 97, 'comprends': 12, 'bien': 407, 'vo...       7485   \n",
       "563  {'état': 388, 'veux': 59, 'tout': 814, 'abord'...      10968   \n",
       "564  {'bravo': 61, 'très': 562, 'juste': 116, 'oui'...       5132   \n",
       "565  {'trop': 62, 'court': 14, 'cravate': 3, 'impor...      10216   \n",
       "\n",
       "                                            liste_mots  \n",
       "0    [permettez, dire, combien, honoré, siéger, hém...  \n",
       "1    [enfants, handicap, plus, situation, scolarisé...  \n",
       "2    [tourisme, question, état, résidences, effet, ...  \n",
       "3    [france, françaises, international, hors, comm...  \n",
       "4                           [actes, entrées, maîtrisé]  \n",
       "..                                                 ...  \n",
       "561  [plus, bien, cette, cela, tout, être, fait, co...  \n",
       "562  [plus, très, bien, tout, cela, fait, être, fau...  \n",
       "563  [plus, bien, tout, être, cela, fait, cette, fa...  \n",
       "564  [bien, très, oui, tout, fait, cela, question, ...  \n",
       "565  [plus, bien, être, cet, très, cette, peut, tou...  \n",
       "\n",
       "[566 rows x 10 columns]"
      ]
     },
     "execution_count": 4,
     "metadata": {},
     "output_type": "execute_result"
    }
   ],
   "source": [
    "interv_mps"
   ]
  },
  {
   "cell_type": "code",
   "execution_count": 5,
   "id": "b3190fac",
   "metadata": {
    "ExecuteTime": {
     "end_time": "2022-01-26T20:17:46.467876Z",
     "start_time": "2022-01-26T20:17:46.389666Z"
    }
   },
   "outputs": [
    {
     "name": "stderr",
     "output_type": "stream",
     "text": [
      "/Users/louispro/.pyenv/versions/3.8.12/envs/lewagon_current/lib/python3.8/site-packages/pandas/core/frame.py:5039: SettingWithCopyWarning: \n",
      "A value is trying to be set on a copy of a slice from a DataFrame\n",
      "\n",
      "See the caveats in the documentation: https://pandas.pydata.org/pandas-docs/stable/user_guide/indexing.html#returning-a-view-versus-a-copy\n",
      "  return super().rename(\n"
     ]
    },
    {
     "data": {
      "text/html": [
       "<div>\n",
       "<style scoped>\n",
       "    .dataframe tbody tr th:only-of-type {\n",
       "        vertical-align: middle;\n",
       "    }\n",
       "\n",
       "    .dataframe tbody tr th {\n",
       "        vertical-align: top;\n",
       "    }\n",
       "\n",
       "    .dataframe thead th {\n",
       "        text-align: right;\n",
       "    }\n",
       "</style>\n",
       "<table border=\"1\" class=\"dataframe\">\n",
       "  <thead>\n",
       "    <tr style=\"text-align: right;\">\n",
       "      <th></th>\n",
       "      <th>nom</th>\n",
       "      <th>sexe</th>\n",
       "      <th>parti</th>\n",
       "      <th>liste_mots</th>\n",
       "    </tr>\n",
       "  </thead>\n",
       "  <tbody>\n",
       "    <tr>\n",
       "      <th>0</th>\n",
       "      <td>Emmanuel Blairy</td>\n",
       "      <td>H</td>\n",
       "      <td>NaN</td>\n",
       "      <td>[permettez, dire, combien, honoré, siéger, hém...</td>\n",
       "    </tr>\n",
       "    <tr>\n",
       "      <th>1</th>\n",
       "      <td>Christophe Leclercq</td>\n",
       "      <td>H</td>\n",
       "      <td>La République en Marche</td>\n",
       "      <td>[enfants, handicap, plus, situation, scolarisé...</td>\n",
       "    </tr>\n",
       "    <tr>\n",
       "      <th>2</th>\n",
       "      <td>Edith Audibert</td>\n",
       "      <td>F</td>\n",
       "      <td>Les Républicains</td>\n",
       "      <td>[tourisme, question, état, résidences, effet, ...</td>\n",
       "    </tr>\n",
       "    <tr>\n",
       "      <th>3</th>\n",
       "      <td>Stéphane Vojetta</td>\n",
       "      <td>H</td>\n",
       "      <td>La République en Marche</td>\n",
       "      <td>[france, françaises, international, hors, comm...</td>\n",
       "    </tr>\n",
       "    <tr>\n",
       "      <th>4</th>\n",
       "      <td>Bernard Brochand</td>\n",
       "      <td>H</td>\n",
       "      <td>Les Républicains</td>\n",
       "      <td>[actes, entrées, maîtrisé]</td>\n",
       "    </tr>\n",
       "    <tr>\n",
       "      <th>...</th>\n",
       "      <td>...</td>\n",
       "      <td>...</td>\n",
       "      <td>...</td>\n",
       "      <td>...</td>\n",
       "    </tr>\n",
       "    <tr>\n",
       "      <th>561</th>\n",
       "      <td>Sébastien Jumel</td>\n",
       "      <td>H</td>\n",
       "      <td>Parti communiste français</td>\n",
       "      <td>[plus, bien, cette, cela, tout, être, fait, co...</td>\n",
       "    </tr>\n",
       "    <tr>\n",
       "      <th>562</th>\n",
       "      <td>Fabien Di Filippo</td>\n",
       "      <td>H</td>\n",
       "      <td>Les Républicains</td>\n",
       "      <td>[plus, très, bien, tout, cela, fait, être, fau...</td>\n",
       "    </tr>\n",
       "    <tr>\n",
       "      <th>563</th>\n",
       "      <td>Ugo Bernalicis</td>\n",
       "      <td>H</td>\n",
       "      <td>La France Insoumise</td>\n",
       "      <td>[plus, bien, tout, être, cela, fait, cette, fa...</td>\n",
       "    </tr>\n",
       "    <tr>\n",
       "      <th>564</th>\n",
       "      <td>Pierre Cordier</td>\n",
       "      <td>H</td>\n",
       "      <td>Les Républicains</td>\n",
       "      <td>[bien, très, oui, tout, fait, cela, question, ...</td>\n",
       "    </tr>\n",
       "    <tr>\n",
       "      <th>565</th>\n",
       "      <td>Thibault Bazin</td>\n",
       "      <td>H</td>\n",
       "      <td>Les Républicains</td>\n",
       "      <td>[plus, bien, être, cet, très, cette, peut, tou...</td>\n",
       "    </tr>\n",
       "  </tbody>\n",
       "</table>\n",
       "<p>566 rows × 4 columns</p>\n",
       "</div>"
      ],
      "text/plain": [
       "                     nom sexe                      parti  \\\n",
       "0        Emmanuel Blairy    H                        NaN   \n",
       "1    Christophe Leclercq    H    La République en Marche   \n",
       "2         Edith Audibert    F           Les Républicains   \n",
       "3       Stéphane Vojetta    H    La République en Marche   \n",
       "4       Bernard Brochand    H           Les Républicains   \n",
       "..                   ...  ...                        ...   \n",
       "561      Sébastien Jumel    H  Parti communiste français   \n",
       "562    Fabien Di Filippo    H           Les Républicains   \n",
       "563       Ugo Bernalicis    H        La France Insoumise   \n",
       "564       Pierre Cordier    H           Les Républicains   \n",
       "565       Thibault Bazin    H           Les Républicains   \n",
       "\n",
       "                                            liste_mots  \n",
       "0    [permettez, dire, combien, honoré, siéger, hém...  \n",
       "1    [enfants, handicap, plus, situation, scolarisé...  \n",
       "2    [tourisme, question, état, résidences, effet, ...  \n",
       "3    [france, françaises, international, hors, comm...  \n",
       "4                           [actes, entrées, maîtrisé]  \n",
       "..                                                 ...  \n",
       "561  [plus, bien, cette, cela, tout, être, fait, co...  \n",
       "562  [plus, très, bien, tout, cela, fait, être, fau...  \n",
       "563  [plus, bien, tout, être, cela, fait, cette, fa...  \n",
       "564  [bien, très, oui, tout, fait, cela, question, ...  \n",
       "565  [plus, bien, être, cet, très, cette, peut, tou...  \n",
       "\n",
       "[566 rows x 4 columns]"
      ]
     },
     "execution_count": 5,
     "metadata": {},
     "output_type": "execute_result"
    }
   ],
   "source": [
    "df_interv_mps = interv_mps[['nom', 'sexe', 'parti_ratt_financier', 'liste_mots']]\n",
    "df_interv_mps.rename(columns={'parti_ratt_financier':'parti'}, inplace=True)\n",
    "df_interv_mps"
   ]
  },
  {
   "cell_type": "code",
   "execution_count": 6,
   "id": "b66be215",
   "metadata": {
    "ExecuteTime": {
     "end_time": "2022-01-26T20:17:46.489421Z",
     "start_time": "2022-01-26T20:17:46.479267Z"
    }
   },
   "outputs": [],
   "source": [
    "# Choix de l'axe d'analyse\n",
    "analyses = ['sexe', 'parti']\n",
    "analyse = analyses[0]"
   ]
  },
  {
   "cell_type": "code",
   "execution_count": 7,
   "id": "f7333eb7",
   "metadata": {
    "ExecuteTime": {
     "end_time": "2022-01-26T20:17:46.567704Z",
     "start_time": "2022-01-26T20:17:46.497910Z"
    }
   },
   "outputs": [
    {
     "name": "stderr",
     "output_type": "stream",
     "text": [
      "/var/folders/32/9d66kzz52dz4b0_b57djs_nr0000gn/T/ipykernel_9142/719466966.py:2: SettingWithCopyWarning: \n",
      "A value is trying to be set on a copy of a slice from a DataFrame.\n",
      "Try using .loc[row_indexer,col_indexer] = value instead\n",
      "\n",
      "See the caveats in the documentation: https://pandas.pydata.org/pandas-docs/stable/user_guide/indexing.html#returning-a-view-versus-a-copy\n",
      "  df_interv_mps[analyse_bis] = pd.factorize(df_interv_mps[analyse])[0]\n"
     ]
    },
    {
     "data": {
      "text/html": [
       "<div>\n",
       "<style scoped>\n",
       "    .dataframe tbody tr th:only-of-type {\n",
       "        vertical-align: middle;\n",
       "    }\n",
       "\n",
       "    .dataframe tbody tr th {\n",
       "        vertical-align: top;\n",
       "    }\n",
       "\n",
       "    .dataframe thead th {\n",
       "        text-align: right;\n",
       "    }\n",
       "</style>\n",
       "<table border=\"1\" class=\"dataframe\">\n",
       "  <thead>\n",
       "    <tr style=\"text-align: right;\">\n",
       "      <th></th>\n",
       "      <th>nom</th>\n",
       "      <th>sexe</th>\n",
       "      <th>parti</th>\n",
       "      <th>liste_mots</th>\n",
       "      <th>sexe_bis</th>\n",
       "    </tr>\n",
       "  </thead>\n",
       "  <tbody>\n",
       "    <tr>\n",
       "      <th>0</th>\n",
       "      <td>Emmanuel Blairy</td>\n",
       "      <td>H</td>\n",
       "      <td>NaN</td>\n",
       "      <td>[permettez, dire, combien, honoré, siéger, hém...</td>\n",
       "      <td>0</td>\n",
       "    </tr>\n",
       "    <tr>\n",
       "      <th>1</th>\n",
       "      <td>Christophe Leclercq</td>\n",
       "      <td>H</td>\n",
       "      <td>La République en Marche</td>\n",
       "      <td>[enfants, handicap, plus, situation, scolarisé...</td>\n",
       "      <td>0</td>\n",
       "    </tr>\n",
       "    <tr>\n",
       "      <th>2</th>\n",
       "      <td>Edith Audibert</td>\n",
       "      <td>F</td>\n",
       "      <td>Les Républicains</td>\n",
       "      <td>[tourisme, question, état, résidences, effet, ...</td>\n",
       "      <td>1</td>\n",
       "    </tr>\n",
       "    <tr>\n",
       "      <th>3</th>\n",
       "      <td>Stéphane Vojetta</td>\n",
       "      <td>H</td>\n",
       "      <td>La République en Marche</td>\n",
       "      <td>[france, françaises, international, hors, comm...</td>\n",
       "      <td>0</td>\n",
       "    </tr>\n",
       "    <tr>\n",
       "      <th>4</th>\n",
       "      <td>Bernard Brochand</td>\n",
       "      <td>H</td>\n",
       "      <td>Les Républicains</td>\n",
       "      <td>[actes, entrées, maîtrisé]</td>\n",
       "      <td>0</td>\n",
       "    </tr>\n",
       "    <tr>\n",
       "      <th>...</th>\n",
       "      <td>...</td>\n",
       "      <td>...</td>\n",
       "      <td>...</td>\n",
       "      <td>...</td>\n",
       "      <td>...</td>\n",
       "    </tr>\n",
       "    <tr>\n",
       "      <th>561</th>\n",
       "      <td>Sébastien Jumel</td>\n",
       "      <td>H</td>\n",
       "      <td>Parti communiste français</td>\n",
       "      <td>[plus, bien, cette, cela, tout, être, fait, co...</td>\n",
       "      <td>0</td>\n",
       "    </tr>\n",
       "    <tr>\n",
       "      <th>562</th>\n",
       "      <td>Fabien Di Filippo</td>\n",
       "      <td>H</td>\n",
       "      <td>Les Républicains</td>\n",
       "      <td>[plus, très, bien, tout, cela, fait, être, fau...</td>\n",
       "      <td>0</td>\n",
       "    </tr>\n",
       "    <tr>\n",
       "      <th>563</th>\n",
       "      <td>Ugo Bernalicis</td>\n",
       "      <td>H</td>\n",
       "      <td>La France Insoumise</td>\n",
       "      <td>[plus, bien, tout, être, cela, fait, cette, fa...</td>\n",
       "      <td>0</td>\n",
       "    </tr>\n",
       "    <tr>\n",
       "      <th>564</th>\n",
       "      <td>Pierre Cordier</td>\n",
       "      <td>H</td>\n",
       "      <td>Les Républicains</td>\n",
       "      <td>[bien, très, oui, tout, fait, cela, question, ...</td>\n",
       "      <td>0</td>\n",
       "    </tr>\n",
       "    <tr>\n",
       "      <th>565</th>\n",
       "      <td>Thibault Bazin</td>\n",
       "      <td>H</td>\n",
       "      <td>Les Républicains</td>\n",
       "      <td>[plus, bien, être, cet, très, cette, peut, tou...</td>\n",
       "      <td>0</td>\n",
       "    </tr>\n",
       "  </tbody>\n",
       "</table>\n",
       "<p>566 rows × 5 columns</p>\n",
       "</div>"
      ],
      "text/plain": [
       "                     nom sexe                      parti  \\\n",
       "0        Emmanuel Blairy    H                        NaN   \n",
       "1    Christophe Leclercq    H    La République en Marche   \n",
       "2         Edith Audibert    F           Les Républicains   \n",
       "3       Stéphane Vojetta    H    La République en Marche   \n",
       "4       Bernard Brochand    H           Les Républicains   \n",
       "..                   ...  ...                        ...   \n",
       "561      Sébastien Jumel    H  Parti communiste français   \n",
       "562    Fabien Di Filippo    H           Les Républicains   \n",
       "563       Ugo Bernalicis    H        La France Insoumise   \n",
       "564       Pierre Cordier    H           Les Républicains   \n",
       "565       Thibault Bazin    H           Les Républicains   \n",
       "\n",
       "                                            liste_mots  sexe_bis  \n",
       "0    [permettez, dire, combien, honoré, siéger, hém...         0  \n",
       "1    [enfants, handicap, plus, situation, scolarisé...         0  \n",
       "2    [tourisme, question, état, résidences, effet, ...         1  \n",
       "3    [france, françaises, international, hors, comm...         0  \n",
       "4                           [actes, entrées, maîtrisé]         0  \n",
       "..                                                 ...       ...  \n",
       "561  [plus, bien, cette, cela, tout, être, fait, co...         0  \n",
       "562  [plus, très, bien, tout, cela, fait, être, fau...         0  \n",
       "563  [plus, bien, tout, être, cela, fait, cette, fa...         0  \n",
       "564  [bien, très, oui, tout, fait, cela, question, ...         0  \n",
       "565  [plus, bien, être, cet, très, cette, peut, tou...         0  \n",
       "\n",
       "[566 rows x 5 columns]"
      ]
     },
     "execution_count": 7,
     "metadata": {},
     "output_type": "execute_result"
    }
   ],
   "source": [
    "analyse_bis = analyse + '_bis'\n",
    "df_interv_mps[analyse_bis] = pd.factorize(df_interv_mps[analyse])[0]\n",
    "df_interv_mps"
   ]
  },
  {
   "cell_type": "code",
   "execution_count": 8,
   "id": "fd2e7690",
   "metadata": {
    "ExecuteTime": {
     "end_time": "2022-01-26T20:17:55.818628Z",
     "start_time": "2022-01-26T20:17:46.577120Z"
    }
   },
   "outputs": [
    {
     "data": {
      "text/plain": [
       "(566, 2)"
      ]
     },
     "execution_count": 8,
     "metadata": {},
     "output_type": "execute_result"
    }
   ],
   "source": [
    "from tensorflow.keras.utils import to_categorical\n",
    "y_cat = to_categorical(df_interv_mps[analyse_bis])\n",
    "y = np.array(y_cat)\n",
    "y.shape"
   ]
  },
  {
   "cell_type": "code",
   "execution_count": 9,
   "id": "4d8261bc",
   "metadata": {
    "ExecuteTime": {
     "end_time": "2022-01-26T20:17:55.841551Z",
     "start_time": "2022-01-26T20:17:55.832731Z"
    }
   },
   "outputs": [],
   "source": [
    "X = np.array(df_interv_mps['liste_mots'])"
   ]
  },
  {
   "cell_type": "code",
   "execution_count": 10,
   "id": "16b336b1",
   "metadata": {
    "ExecuteTime": {
     "end_time": "2022-01-26T20:17:57.000262Z",
     "start_time": "2022-01-26T20:17:55.849339Z"
    }
   },
   "outputs": [],
   "source": [
    "from sklearn.model_selection import train_test_split\n",
    "X_train, X_test, y_train, y_test = train_test_split(X, y, train_size=0.7)"
   ]
  },
  {
   "cell_type": "code",
   "execution_count": 11,
   "id": "63a81a4a",
   "metadata": {
    "ExecuteTime": {
     "end_time": "2022-01-26T20:17:58.233566Z",
     "start_time": "2022-01-26T20:17:57.003484Z"
    }
   },
   "outputs": [],
   "source": [
    "def get_number_of_occurences(sentences):\n",
    "    occurences = {}\n",
    "    for s in sentences:\n",
    "        for w in s:\n",
    "            if w not in occurences:\n",
    "                occurences[w] = 0\n",
    "            occurences[w] += 1\n",
    "    return occurences\n",
    "\n",
    "def keep_frequent_words(X, occurences, min_occurence):\n",
    "    \n",
    "    frequent_words = {k:v for k, v in occurences.items() if v >= min_occurence}\n",
    "    output_sentences = [[word for word in sentence if word in frequent_words] for sentence in X]\n",
    "    \n",
    "    return output_sentences\n",
    "    \n",
    "# –– Data clearning\n",
    "occurences = get_number_of_occurences(X_train)\n",
    "X_clean_train = keep_frequent_words(X_train, occurences, min_occurence=10)\n",
    "X_clean_test = keep_frequent_words(X_test, occurences, min_occurence=10)"
   ]
  },
  {
   "cell_type": "code",
   "execution_count": 12,
   "id": "97b0786c",
   "metadata": {
    "ExecuteTime": {
     "end_time": "2022-01-26T20:18:00.060808Z",
     "start_time": "2022-01-26T20:17:58.245100Z"
    }
   },
   "outputs": [],
   "source": [
    "from tensorflow.keras.preprocessing.text import Tokenizer\n",
    "tk = Tokenizer()\n",
    "tk.fit_on_texts(X_clean_train)\n",
    "vocab_size = len(tk.word_index)"
   ]
  },
  {
   "cell_type": "code",
   "execution_count": 13,
   "id": "6c889666",
   "metadata": {
    "ExecuteTime": {
     "end_time": "2022-01-26T20:18:00.106683Z",
     "start_time": "2022-01-26T20:18:00.064117Z"
    }
   },
   "outputs": [
    {
     "data": {
      "text/plain": [
       "17454"
      ]
     },
     "execution_count": 13,
     "metadata": {},
     "output_type": "execute_result"
    }
   ],
   "source": [
    "vocab_size"
   ]
  },
  {
   "cell_type": "code",
   "execution_count": 14,
   "id": "0a4645db",
   "metadata": {
    "ExecuteTime": {
     "end_time": "2022-01-26T20:18:00.152895Z",
     "start_time": "2022-01-26T20:18:00.128172Z"
    }
   },
   "outputs": [],
   "source": [
    "from tensorflow.keras.preprocessing.sequence import pad_sequences\n",
    "maxlen = 40"
   ]
  },
  {
   "cell_type": "code",
   "execution_count": 15,
   "id": "0fecab70",
   "metadata": {
    "ExecuteTime": {
     "end_time": "2022-01-26T20:18:01.893917Z",
     "start_time": "2022-01-26T20:18:00.169922Z"
    }
   },
   "outputs": [],
   "source": [
    "X_token_train = tk.texts_to_sequences(X_train)\n",
    "X_token_test = tk.texts_to_sequences(X_test)\n",
    "X_train_pad = pad_sequences(X_token_train, maxlen=maxlen, dtype='float32', padding='post')\n",
    "X_test_pad = pad_sequences(X_token_test, maxlen=maxlen, dtype='float32', padding='post')"
   ]
  },
  {
   "cell_type": "code",
   "execution_count": 16,
   "id": "e9485204",
   "metadata": {
    "ExecuteTime": {
     "end_time": "2022-01-26T20:18:03.530068Z",
     "start_time": "2022-01-26T20:18:01.897113Z"
    }
   },
   "outputs": [
    {
     "name": "stderr",
     "output_type": "stream",
     "text": [
      "2022-01-26 21:18:01.928648: I tensorflow/core/platform/cpu_feature_guard.cc:151] This TensorFlow binary is optimized with oneAPI Deep Neural Network Library (oneDNN) to use the following CPU instructions in performance-critical operations:  AVX2 FMA\n",
      "To enable them in other operations, rebuild TensorFlow with the appropriate compiler flags.\n"
     ]
    },
    {
     "name": "stdout",
     "output_type": "stream",
     "text": [
      "Model: \"sequential\"\n",
      "_________________________________________________________________\n",
      " Layer (type)                Output Shape              Param #   \n",
      "=================================================================\n",
      " embedding (Embedding)       (None, 40, 100)           1745500   \n",
      "                                                                 \n",
      " lstm (LSTM)                 (None, 20)                9680      \n",
      "                                                                 \n",
      " dense (Dense)               (None, 2)                 42        \n",
      "                                                                 \n",
      "=================================================================\n",
      "Total params: 1,755,222\n",
      "Trainable params: 1,755,222\n",
      "Non-trainable params: 0\n",
      "_________________________________________________________________\n"
     ]
    }
   ],
   "source": [
    "from tensorflow.keras import layers, Sequential\n",
    "# Size of your embedding space = size to represent each word\n",
    "embedding_size = 100\n",
    "model = Sequential()\n",
    "model.add(layers.Embedding(\n",
    "input_dim=vocab_size+1, # +1 for the 0 padding\n",
    "input_length=maxlen, # Max_sentence_length (optional, for model summary)\n",
    "output_dim=embedding_size,# 100\n",
    "mask_zero=True, # Included masking layer :)\n",
    "))\n",
    "model.add(layers.LSTM(20))\n",
    "if analyse == analyses[0]:\n",
    "    model.add(layers.Dense(2, activation=\"sigmoid\"))\n",
    "else:\n",
    "    model.add(layers.Dense(19, activation=\"softmax\"))\n",
    "model.summary()"
   ]
  },
  {
   "cell_type": "code",
   "execution_count": 17,
   "id": "fd0ed814",
   "metadata": {
    "ExecuteTime": {
     "end_time": "2022-01-26T20:18:03.619141Z",
     "start_time": "2022-01-26T20:18:03.557274Z"
    }
   },
   "outputs": [],
   "source": [
    "if analyse == analyses[0]:\n",
    "    model.compile(loss='binary_crossentropy',\n",
    "                  optimizer='adam',\n",
    "                  metrics='accuracy')\n",
    "else:\n",
    "    model.compile(loss='categorical_crossentropy',\n",
    "                  optimizer='adam',\n",
    "                  metrics='accuracy')"
   ]
  },
  {
   "cell_type": "code",
   "execution_count": 18,
   "id": "364aadde",
   "metadata": {
    "ExecuteTime": {
     "end_time": "2022-01-26T20:18:03.651542Z",
     "start_time": "2022-01-26T20:18:03.630070Z"
    }
   },
   "outputs": [],
   "source": [
    "from tensorflow.keras.callbacks import EarlyStopping \n",
    "es = EarlyStopping(patience=20, restore_best_weights=True)"
   ]
  },
  {
   "cell_type": "code",
   "execution_count": 19,
   "id": "9ca70814",
   "metadata": {
    "ExecuteTime": {
     "end_time": "2022-01-26T20:18:26.867632Z",
     "start_time": "2022-01-26T20:18:03.656049Z"
    }
   },
   "outputs": [
    {
     "name": "stdout",
     "output_type": "stream",
     "text": [
      "Epoch 1/100\n",
      "9/9 [==============================] - 9s 323ms/step - loss: 0.6910 - accuracy: 0.5957 - val_loss: 0.6900 - val_accuracy: 0.5798\n",
      "Epoch 2/100\n",
      "9/9 [==============================] - 1s 66ms/step - loss: 0.6742 - accuracy: 0.6318 - val_loss: 0.6873 - val_accuracy: 0.5798\n",
      "Epoch 3/100\n",
      "9/9 [==============================] - 1s 62ms/step - loss: 0.6455 - accuracy: 0.6390 - val_loss: 0.6840 - val_accuracy: 0.5798\n",
      "Epoch 4/100\n",
      "9/9 [==============================] - 1s 77ms/step - loss: 0.5800 - accuracy: 0.8231 - val_loss: 0.6798 - val_accuracy: 0.5798\n",
      "Epoch 5/100\n",
      "9/9 [==============================] - 1s 82ms/step - loss: 0.4462 - accuracy: 0.9386 - val_loss: 0.7158 - val_accuracy: 0.5798\n",
      "Epoch 6/100\n",
      "9/9 [==============================] - 1s 60ms/step - loss: 0.2921 - accuracy: 0.9928 - val_loss: 0.8550 - val_accuracy: 0.5798\n",
      "Epoch 7/100\n",
      "9/9 [==============================] - 1s 70ms/step - loss: 0.2136 - accuracy: 1.0000 - val_loss: 0.9707 - val_accuracy: 0.5714\n",
      "Epoch 8/100\n",
      "9/9 [==============================] - 1s 71ms/step - loss: 0.1752 - accuracy: 1.0000 - val_loss: 1.0490 - val_accuracy: 0.5798\n",
      "Epoch 9/100\n",
      "9/9 [==============================] - 1s 70ms/step - loss: 0.1481 - accuracy: 1.0000 - val_loss: 1.0226 - val_accuracy: 0.5630\n",
      "Epoch 10/100\n",
      "9/9 [==============================] - 1s 70ms/step - loss: 0.1254 - accuracy: 1.0000 - val_loss: 1.0304 - val_accuracy: 0.5714\n",
      "Epoch 11/100\n",
      "9/9 [==============================] - 1s 62ms/step - loss: 0.1066 - accuracy: 1.0000 - val_loss: 1.0421 - val_accuracy: 0.5798\n",
      "Epoch 12/100\n",
      "9/9 [==============================] - 1s 60ms/step - loss: 0.0901 - accuracy: 1.0000 - val_loss: 1.0617 - val_accuracy: 0.5714\n",
      "Epoch 13/100\n",
      "9/9 [==============================] - 1s 74ms/step - loss: 0.0766 - accuracy: 1.0000 - val_loss: 1.1061 - val_accuracy: 0.5714\n",
      "Epoch 14/100\n",
      "9/9 [==============================] - 1s 61ms/step - loss: 0.0661 - accuracy: 1.0000 - val_loss: 1.1399 - val_accuracy: 0.5630\n",
      "Epoch 15/100\n",
      "9/9 [==============================] - 1s 60ms/step - loss: 0.0565 - accuracy: 1.0000 - val_loss: 1.1907 - val_accuracy: 0.5630\n",
      "Epoch 16/100\n",
      "9/9 [==============================] - 1s 63ms/step - loss: 0.0490 - accuracy: 1.0000 - val_loss: 1.2378 - val_accuracy: 0.5630\n",
      "Epoch 17/100\n",
      "9/9 [==============================] - 1s 73ms/step - loss: 0.0425 - accuracy: 1.0000 - val_loss: 1.2696 - val_accuracy: 0.5462\n",
      "Epoch 18/100\n",
      "9/9 [==============================] - 1s 74ms/step - loss: 0.0369 - accuracy: 1.0000 - val_loss: 1.2935 - val_accuracy: 0.5630\n",
      "Epoch 19/100\n",
      "9/9 [==============================] - 1s 72ms/step - loss: 0.0322 - accuracy: 1.0000 - val_loss: 1.3373 - val_accuracy: 0.5630\n",
      "Epoch 20/100\n",
      "9/9 [==============================] - 1s 64ms/step - loss: 0.0281 - accuracy: 1.0000 - val_loss: 1.3907 - val_accuracy: 0.5462\n",
      "Epoch 21/100\n",
      "9/9 [==============================] - 1s 63ms/step - loss: 0.0247 - accuracy: 1.0000 - val_loss: 1.4317 - val_accuracy: 0.5462\n",
      "Epoch 22/100\n",
      "9/9 [==============================] - 1s 59ms/step - loss: 0.0217 - accuracy: 1.0000 - val_loss: 1.4670 - val_accuracy: 0.5462\n",
      "Epoch 23/100\n",
      "9/9 [==============================] - 1s 61ms/step - loss: 0.0192 - accuracy: 1.0000 - val_loss: 1.4972 - val_accuracy: 0.5462\n",
      "Epoch 24/100\n",
      "9/9 [==============================] - 1s 61ms/step - loss: 0.0170 - accuracy: 1.0000 - val_loss: 1.5347 - val_accuracy: 0.5378\n"
     ]
    }
   ],
   "source": [
    "history = model.fit(X_train_pad, y_train, \n",
    "                    epochs=100,\n",
    "                    batch_size=32,\n",
    "                    validation_split=0.3,\n",
    "                    callbacks=[es],\n",
    "                    verbose=1) "
   ]
  },
  {
   "cell_type": "code",
   "execution_count": 20,
   "id": "89226ac4",
   "metadata": {
    "ExecuteTime": {
     "end_time": "2022-01-26T20:18:28.867182Z",
     "start_time": "2022-01-26T20:18:26.879375Z"
    }
   },
   "outputs": [
    {
     "data": {
      "image/png": "[encoded data removed]",
      "text/plain": [
       "<Figure size 936x360 with 2 Axes>"
      ]
     },
     "metadata": {
      "needs_background": "light"
     },
     "output_type": "display_data"
    }
   ],
   "source": [
    "import matplotlib.pyplot as plt\n",
    "def plot_loss_accuracy(history, title=None):\n",
    "    fig, ax = plt.subplots(1,2, figsize=(13,5))\n",
    "    ax[0].plot(history.history['loss'])\n",
    "    ax[0].plot(history.history['val_loss'])\n",
    "    ax[0].set_title('Model loss')\n",
    "    ax[0].set_ylabel('Loss')\n",
    "    ax[0].set_xlabel('Epoch')\n",
    "    ax[0].set_ylim((0,3))\n",
    "    ax[0].legend(['Train', 'Test'], loc='best')\n",
    "    ax[1].plot(history.history['accuracy'])\n",
    "    ax[1].plot(history.history['val_accuracy'])\n",
    "    ax[1].set_title('Model Accuracy')\n",
    "    ax[1].set_ylabel('Accuracy')\n",
    "    ax[1].set_xlabel('Epoch')\n",
    "    ax[1].legend(['Train', 'Test'], loc='best')\n",
    "    ax[1].set_ylim((0,1))\n",
    "    if title:\n",
    "        fig.suptitle(title)\n",
    "plot_loss_accuracy(history, title=None)"
   ]
  },
  {
   "cell_type": "code",
   "execution_count": 21,
   "id": "bde70367",
   "metadata": {
    "ExecuteTime": {
     "end_time": "2022-01-26T20:18:29.081762Z",
     "start_time": "2022-01-26T20:18:28.879790Z"
    }
   },
   "outputs": [
    {
     "name": "stdout",
     "output_type": "stream",
     "text": [
      "6/6 [==============================] - 0s 9ms/step - loss: 0.6994 - accuracy: 0.5353\n"
     ]
    },
    {
     "data": {
      "text/plain": [
       "0.5352941155433655"
      ]
     },
     "execution_count": 21,
     "metadata": {},
     "output_type": "execute_result"
    }
   ],
   "source": [
    "score_test = model.evaluate(X_test_pad, y_test)[1]\n",
    "score_test"
   ]
  },
  {
   "cell_type": "code",
   "execution_count": null,
   "id": "e9f7e4ee",
   "metadata": {},
   "outputs": [],
   "source": []
  }
 ],
 "metadata": {
  "kernelspec": {
   "display_name": "Python 3 (ipykernel)",
   "language": "python",
   "name": "python3"
  },
  "language_info": {
   "codemirror_mode": {
    "name": "ipython",
    "version": 3
   },
   "file_extension": ".py",
   "mimetype": "text/x-python",
   "name": "python",
   "nbconvert_exporter": "python",
   "pygments_lexer": "ipython3",
   "version": "3.8.12"
  },
  "toc": {
   "base_numbering": 1,
   "nav_menu": {},
   "number_sections": true,
   "sideBar": true,
   "skip_h1_title": false,
   "title_cell": "Table of Contents",
   "title_sidebar": "Contents",
   "toc_cell": false,
   "toc_position": {},
   "toc_section_display": true,
   "toc_window_display": false
  },
  "varInspector": {
   "cols": {
    "lenName": 16,
    "lenType": 16,
    "lenVar": 40
   },
   "kernels_config": {
    "python": {
     "delete_cmd_postfix": "",
     "delete_cmd_prefix": "del ",
     "library": "var_list.py",
     "varRefreshCmd": "print(var_dic_list())"
    },
    "r": {
     "delete_cmd_postfix": ") ",
     "delete_cmd_prefix": "rm(",
     "library": "var_list.r",
     "varRefreshCmd": "cat(var_dic_list()) "
    }
   },
   "types_to_exclude": [
    "module",
    "function",
    "builtin_function_or_method",
    "instance",
    "_Feature"
   ],
   "window_display": false
  }
 },
 "nbformat": 4,
 "nbformat_minor": 5
}
